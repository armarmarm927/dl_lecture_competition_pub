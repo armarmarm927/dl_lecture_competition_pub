{
  "nbformat": 4,
  "nbformat_minor": 0,
  "metadata": {
    "colab": {
      "provenance": [],
      "gpuType": "T4",
      "authorship_tag": "ABX9TyNkZvKGL/b1MvuMw2N7as9V",
      "include_colab_link": true
    },
    "kernelspec": {
      "name": "python3",
      "display_name": "Python 3"
    },
    "language_info": {
      "name": "python"
    },
    "accelerator": "GPU"
  },
  "cells": [
    {
      "cell_type": "markdown",
      "metadata": {
        "id": "view-in-github",
        "colab_type": "text"
      },
      "source": [
        "<a href=\"https://colab.research.google.com/github/armarmarm927/dl_lecture_competition_pub/blob/main/Untitled18.ipynb\" target=\"_parent\"><img src=\"https://colab.research.google.com/assets/colab-badge.svg\" alt=\"Open In Colab\"/></a>"
      ]
    },
    {
      "cell_type": "code",
      "execution_count": 1,
      "metadata": {
        "id": "yBlR7xzY0IYX"
      },
      "outputs": [],
      "source": [
        "import torch\n",
        "import torch.nn as nn\n",
        "import torch.optim as optim\n",
        "import torchvision.transforms as transforms\n",
        "import torchvision.datasets as datasets\n",
        "import torchvision.models as models\n",
        "from torch.utils.data import DataLoader\n",
        "from sklearn.metrics import confusion_matrix\n",
        "import numpy as np\n",
        "import matplotlib.pyplot as plt"
      ]
    },
    {
      "cell_type": "code",
      "source": [
        "from google.colab import drive\n",
        "drive.mount('/content/drive')"
      ],
      "metadata": {
        "colab": {
          "base_uri": "https://localhost:8080/"
        },
        "id": "JL5ZeUod0LMO",
        "outputId": "635ac582-30ea-42c3-f693-9fcf81b42d62"
      },
      "execution_count": 2,
      "outputs": [
        {
          "output_type": "stream",
          "name": "stdout",
          "text": [
            "Mounted at /content/drive\n"
          ]
        }
      ]
    },
    {
      "cell_type": "code",
      "source": [
        "device = torch.device(\"cuda\" if torch.cuda.is_available() else \"cpu\")"
      ],
      "metadata": {
        "id": "GeGZKbbA0Nss"
      },
      "execution_count": 3,
      "outputs": []
    },
    {
      "cell_type": "code",
      "source": [
        "transform_train = transforms.Compose([\n",
        "    transforms.RandomHorizontalFlip(),\n",
        "    transforms.RandomAffine([-10,10],scale=(1,1.25)),\n",
        "    transforms.ColorJitter(brightness=0.2, contrast=0.2, saturation=0.2),\n",
        "    transforms.ToTensor(),\n",
        "    transforms.Normalize((0.5, 0.5, 0.5), (0.5, 0.5, 0.5)),\n",
        "    transforms.RandomErasing(p=0.5,scale=(0.02,0.33),ratio=(0.3,3.3),value=0,inplace=False)\n",
        "])\n",
        "\n",
        "transform_test = transforms.Compose([\n",
        "    transforms.ToTensor(),\n",
        "    transforms.Normalize((0.5, 0.5, 0.5), (0.5, 0.5, 0.5))\n",
        "])"
      ],
      "metadata": {
        "id": "ziHGnHdL0Qk4"
      },
      "execution_count": 4,
      "outputs": []
    },
    {
      "cell_type": "code",
      "source": [
        "train_dataset = datasets.CIFAR10(root='./data', train=True, download=True, transform=transform_train)\n",
        "test_dataset = datasets.CIFAR10(root='./data', train=False, download=True, transform=transform_test)\n",
        "\n",
        "train_loader = DataLoader(train_dataset, batch_size=128, shuffle=True, num_workers=4)\n",
        "test_loader = DataLoader(test_dataset, batch_size=128, shuffle=False, num_workers=4)"
      ],
      "metadata": {
        "colab": {
          "base_uri": "https://localhost:8080/"
        },
        "id": "_S5hqyVn0U6Z",
        "outputId": "ea3f265d-96c2-48c3-fa6e-5a78b588472d"
      },
      "execution_count": 5,
      "outputs": [
        {
          "output_type": "stream",
          "name": "stderr",
          "text": [
            "100%|██████████| 170M/170M [00:04<00:00, 41.2MB/s]\n",
            "/usr/local/lib/python3.11/dist-packages/torch/utils/data/dataloader.py:624: UserWarning: This DataLoader will create 4 worker processes in total. Our suggested max number of worker in current system is 2, which is smaller than what this DataLoader is going to create. Please be aware that excessive worker creation might get DataLoader running slow or even freeze, lower the worker number to avoid potential slowness/freeze if necessary.\n",
            "  warnings.warn(\n"
          ]
        }
      ]
    },
    {
      "cell_type": "code",
      "source": [
        "model_ft = models.resnet50(weights=models.ResNet50_Weights.IMAGENET1K_V2)\n",
        "model_ft.fc = nn.Linear(model_ft.fc.in_features, 10)\n",
        "net = model_ft.to(device)"
      ],
      "metadata": {
        "colab": {
          "base_uri": "https://localhost:8080/"
        },
        "id": "zCz0IQj10XyK",
        "outputId": "a1d60a4b-1a44-45e6-8894-4aca099ebe21"
      },
      "execution_count": 6,
      "outputs": [
        {
          "output_type": "stream",
          "name": "stderr",
          "text": [
            "Downloading: \"https://download.pytorch.org/models/resnet50-11ad3fa6.pth\" to /root/.cache/torch/hub/checkpoints/resnet50-11ad3fa6.pth\n",
            "100%|██████████| 97.8M/97.8M [00:00<00:00, 164MB/s]\n"
          ]
        }
      ]
    },
    {
      "cell_type": "code",
      "source": [
        "criterion = nn.CrossEntropyLoss(label_smoothing=0.1)\n",
        "optimizer = optim.Adam(net.parameters(), lr=0.0005)\n",
        "scheduler = optim.lr_scheduler.StepLR(optimizer, step_size=30, gamma=0.1)"
      ],
      "metadata": {
        "id": "EsTHJvID0b0M"
      },
      "execution_count": 7,
      "outputs": []
    },
    {
      "cell_type": "code",
      "source": [
        "num_epochs = 70\n",
        "loss_list = []\n",
        "acc_list = []\n",
        "train_acc_list = []\n",
        "\n",
        "for epoch in range(num_epochs):\n",
        "    net.train()\n",
        "    correct_train = 0\n",
        "    total_train = 0\n",
        "    epoch_loss = 0\n",
        "\n",
        "    for inputs, labels in train_loader:\n",
        "        inputs, labels = inputs.to(device), labels.to(device)\n",
        "        optimizer.zero_grad()\n",
        "        outputs = net(inputs)\n",
        "        loss = criterion(outputs, labels)\n",
        "        loss.backward()\n",
        "        optimizer.step()\n",
        "\n",
        "        epoch_loss += loss.item()\n",
        "        _, predicted = torch.max(outputs, 1)\n",
        "        correct_train += (predicted == labels).sum().item()\n",
        "        total_train += labels.size(0)\n",
        "\n",
        "    train_accuracy = 100. * correct_train / total_train\n",
        "    train_acc_list.append(train_accuracy)\n",
        "    print(f'Epoch {epoch+1}: Loss: {epoch_loss/len(train_loader):.4f}, Train Accuracy: {train_accuracy:.2f}%')\n",
        "    loss_list.append(epoch_loss/len(train_loader))\n",
        "\n",
        "    net.eval()\n",
        "    correct = 0\n",
        "    total = 0\n",
        "    y_true = []\n",
        "    y_pred = []\n",
        "\n",
        "    with torch.no_grad():\n",
        "        for inputs, labels in test_loader:\n",
        "            inputs, labels = inputs.to(device), labels.to(device)\n",
        "            outputs = net(inputs)\n",
        "            _, predicted = torch.max(outputs, 1)\n",
        "            correct += (predicted == labels).sum().item()\n",
        "            total += labels.size(0)\n",
        "            y_true.extend(labels.cpu().numpy())\n",
        "            y_pred.extend(predicted.cpu().numpy())\n",
        "\n",
        "    test_accuracy = 100. * correct / total\n",
        "    acc_list.append(test_accuracy)\n",
        "    print(f'Test Accuracy: {test_accuracy:.2f}%')\n",
        "\n",
        "    # 混同行列の出力\n",
        "    cm = confusion_matrix(y_true, y_pred)\n",
        "    print(f'Confusion Matrix (Epoch {epoch+1}):')\n",
        "    print(cm)\n",
        "\n",
        "    scheduler.step()\n",
        "torch.save(net.state_dict(), '/content/drive/MyDrive/Weight_Epoch50.pth')"
      ],
      "metadata": {
        "colab": {
          "base_uri": "https://localhost:8080/"
        },
        "id": "TYZ13KVt0gkU",
        "outputId": "0a3e7277-4076-4990-dd4d-627bf6601b5b"
      },
      "execution_count": 8,
      "outputs": [
        {
          "output_type": "stream",
          "name": "stdout",
          "text": [
            "Epoch 1: Loss: 1.3298, Train Accuracy: 63.57%\n",
            "Test Accuracy: 81.61%\n",
            "Confusion Matrix (Epoch 1):\n",
            "[[905   8   5   6  11   0   6   8  42   9]\n",
            " [ 15 892   1   7   0   1   9   8  34  33]\n",
            " [ 68   2 740  21  71  20  51  24   3   0]\n",
            " [ 29   5  47 623  38 156  51  41   7   3]\n",
            " [ 19   1  41  40 785  19  29  63   3   0]\n",
            " [ 13   0  47 121  39 713  21  45   1   0]\n",
            " [  5   1  12  27  16  15 917   6   1   0]\n",
            " [ 23   3  18  20  24  33   4 870   2   3]\n",
            " [ 52   8   7   4   5   1   8   3 906   6]\n",
            " [ 38  85   3  13   0   4   4  11  32 810]]\n"
          ]
        },
        {
          "output_type": "stream",
          "name": "stderr",
          "text": [
            "/usr/local/lib/python3.11/dist-packages/torch/utils/data/dataloader.py:624: UserWarning: This DataLoader will create 4 worker processes in total. Our suggested max number of worker in current system is 2, which is smaller than what this DataLoader is going to create. Please be aware that excessive worker creation might get DataLoader running slow or even freeze, lower the worker number to avoid potential slowness/freeze if necessary.\n",
            "  warnings.warn(\n"
          ]
        },
        {
          "output_type": "stream",
          "name": "stdout",
          "text": [
            "Epoch 2: Loss: 1.0079, Train Accuracy: 77.79%\n",
            "Test Accuracy: 83.96%\n",
            "Confusion Matrix (Epoch 2):\n",
            "[[881   3  33  10  16   4   2   7  31  13]\n",
            " [ 21 889   3   3   1   7   5   7  19  45]\n",
            " [ 39   1 774  38  51  41  26  24   3   3]\n",
            " [ 11   4  42 655  36 185  35  26   3   3]\n",
            " [  5   1  38  30 833  24  27  39   3   0]\n",
            " [  5   0  16  91  29 814  15  29   0   1]\n",
            " [  2   1  23  23  10  37 893   9   2   0]\n",
            " [  8   0   9  17  38  45   3 877   1   2]\n",
            " [ 45  12   8  10   4   7   1   4 902   7]\n",
            " [ 32  44   4   8   3   5   2   8  16 878]]\n"
          ]
        },
        {
          "output_type": "stream",
          "name": "stderr",
          "text": [
            "/usr/local/lib/python3.11/dist-packages/torch/utils/data/dataloader.py:624: UserWarning: This DataLoader will create 4 worker processes in total. Our suggested max number of worker in current system is 2, which is smaller than what this DataLoader is going to create. Please be aware that excessive worker creation might get DataLoader running slow or even freeze, lower the worker number to avoid potential slowness/freeze if necessary.\n",
            "  warnings.warn(\n"
          ]
        },
        {
          "output_type": "stream",
          "name": "stdout",
          "text": [
            "Epoch 3: Loss: 0.9340, Train Accuracy: 81.20%\n",
            "Test Accuracy: 85.99%\n",
            "Confusion Matrix (Epoch 3):\n",
            "[[908   5  17   8   5   2   5   6  29  15]\n",
            " [ 13 939   1   7   0   3   2   1  12  22]\n",
            " [ 34   2 841  27  35  17  26  16   0   2]\n",
            " [ 14   1  38 701  47 157  19  15   4   4]\n",
            " [ 13   1  26  32 823  23  23  58   1   0]\n",
            " [  2   0  17 110  30 802  13  25   1   0]\n",
            " [  2   1  32  50  12   8 891   2   2   0]\n",
            " [ 11   6   7  17  12  49   0 893   1   4]\n",
            " [ 40  19   1   6   6   2   4   1 913   8]\n",
            " [ 17  56   1  11   0   5   1   3  18 888]]\n"
          ]
        },
        {
          "output_type": "stream",
          "name": "stderr",
          "text": [
            "/usr/local/lib/python3.11/dist-packages/torch/utils/data/dataloader.py:624: UserWarning: This DataLoader will create 4 worker processes in total. Our suggested max number of worker in current system is 2, which is smaller than what this DataLoader is going to create. Please be aware that excessive worker creation might get DataLoader running slow or even freeze, lower the worker number to avoid potential slowness/freeze if necessary.\n",
            "  warnings.warn(\n"
          ]
        },
        {
          "output_type": "stream",
          "name": "stdout",
          "text": [
            "Epoch 4: Loss: 0.8957, Train Accuracy: 82.81%\n",
            "Test Accuracy: 85.23%\n",
            "Confusion Matrix (Epoch 4):\n",
            "[[887  11  26  10   7   2   6   1  37  13]\n",
            " [ 11 939   4   6   2   2   3   3   9  21]\n",
            " [ 25   0 853  31  30  17  36   5   2   1]\n",
            " [ 10   4  44 687  25 167  40  11   7   5]\n",
            " [ 10   1  48  56 806  30  29  11   9   0]\n",
            " [  3   1  29 102  18 823  12  10   2   0]\n",
            " [  7   2  14  29   3   7 937   0   1   0]\n",
            " [ 14   6  22  30  42  59   8 816   1   2]\n",
            " [ 32  10   6   8   2   0   4   2 932   4]\n",
            " [ 33  69   3  16   0   7   7   1  21 843]]\n"
          ]
        },
        {
          "output_type": "stream",
          "name": "stderr",
          "text": [
            "/usr/local/lib/python3.11/dist-packages/torch/utils/data/dataloader.py:624: UserWarning: This DataLoader will create 4 worker processes in total. Our suggested max number of worker in current system is 2, which is smaller than what this DataLoader is going to create. Please be aware that excessive worker creation might get DataLoader running slow or even freeze, lower the worker number to avoid potential slowness/freeze if necessary.\n",
            "  warnings.warn(\n"
          ]
        },
        {
          "output_type": "stream",
          "name": "stdout",
          "text": [
            "Epoch 5: Loss: 0.8649, Train Accuracy: 84.32%\n",
            "Test Accuracy: 86.42%\n",
            "Confusion Matrix (Epoch 5):\n",
            "[[908   9  16   7  11   0   5   3  35   6]\n",
            " [  7 950   0   4   1   1   0   0  14  23]\n",
            " [ 27   0 837  33  29  15  45   7   4   3]\n",
            " [ 12   3  38 700  28 146  44  17   9   3]\n",
            " [  1   2  34  38 856  13  24  25   6   1]\n",
            " [  3   1  22 108  28 797  18  20   3   0]\n",
            " [  2   3  12  33   7   7 932   2   2   0]\n",
            " [ 13   2  20  22  47  25   4 862   1   4]\n",
            " [ 35  12   0   6   1   0   3   0 938   5]\n",
            " [ 23  75   5   8   0   3   1   2  21 862]]\n"
          ]
        },
        {
          "output_type": "stream",
          "name": "stderr",
          "text": [
            "/usr/local/lib/python3.11/dist-packages/torch/utils/data/dataloader.py:624: UserWarning: This DataLoader will create 4 worker processes in total. Our suggested max number of worker in current system is 2, which is smaller than what this DataLoader is going to create. Please be aware that excessive worker creation might get DataLoader running slow or even freeze, lower the worker number to avoid potential slowness/freeze if necessary.\n",
            "  warnings.warn(\n"
          ]
        },
        {
          "output_type": "stream",
          "name": "stdout",
          "text": [
            "Epoch 6: Loss: 0.8400, Train Accuracy: 85.15%\n",
            "Test Accuracy: 86.71%\n",
            "Confusion Matrix (Epoch 6):\n",
            "[[916   6  21  10   3   2   3   2  22  15]\n",
            " [ 14 923   1   5   0   1   0   0  10  46]\n",
            " [ 25   1 885  16  19   9  36   4   1   4]\n",
            " [  6   3  51 763  15 109  30  14   5   4]\n",
            " [  8   1  60  61 780  22  31  30   6   1]\n",
            " [  3   1  43 125  15 789  11  11   1   1]\n",
            " [  7   2  24  41   3   8 913   0   2   0]\n",
            " [  8   3  35  31  24  28   4 859   1   7]\n",
            " [ 40   8   5   5   1   2   0   0 928  11]\n",
            " [ 17  39   2   8   0   0   2   1  16 915]]\n"
          ]
        },
        {
          "output_type": "stream",
          "name": "stderr",
          "text": [
            "/usr/local/lib/python3.11/dist-packages/torch/utils/data/dataloader.py:624: UserWarning: This DataLoader will create 4 worker processes in total. Our suggested max number of worker in current system is 2, which is smaller than what this DataLoader is going to create. Please be aware that excessive worker creation might get DataLoader running slow or even freeze, lower the worker number to avoid potential slowness/freeze if necessary.\n",
            "  warnings.warn(\n"
          ]
        },
        {
          "output_type": "stream",
          "name": "stdout",
          "text": [
            "Epoch 7: Loss: 0.8233, Train Accuracy: 86.00%\n",
            "Test Accuracy: 87.44%\n",
            "Confusion Matrix (Epoch 7):\n",
            "[[921   5  14   6   4   1   0   4  36   9]\n",
            " [ 13 939   0   2   0   2   1   3  12  28]\n",
            " [ 34   6 839  24  32  18  23  17   4   3]\n",
            " [ 14   6  24 760  17 113  26  20  13   7]\n",
            " [  8   2  29  34 831  18  12  62   3   1]\n",
            " [  3   2  13 121  15 800  10  32   1   3]\n",
            " [ 11   4  23  27  12  12 898   3   8   2]\n",
            " [  6   2   5  24  14  20   3 922   1   3]\n",
            " [ 25  11   2   4   1   0   0   1 950   6]\n",
            " [ 30  47   3   4   0   3   0   3  26 884]]\n"
          ]
        },
        {
          "output_type": "stream",
          "name": "stderr",
          "text": [
            "/usr/local/lib/python3.11/dist-packages/torch/utils/data/dataloader.py:624: UserWarning: This DataLoader will create 4 worker processes in total. Our suggested max number of worker in current system is 2, which is smaller than what this DataLoader is going to create. Please be aware that excessive worker creation might get DataLoader running slow or even freeze, lower the worker number to avoid potential slowness/freeze if necessary.\n",
            "  warnings.warn(\n"
          ]
        },
        {
          "output_type": "stream",
          "name": "stdout",
          "text": [
            "Epoch 8: Loss: 0.8070, Train Accuracy: 86.74%\n",
            "Test Accuracy: 86.79%\n",
            "Confusion Matrix (Epoch 8):\n",
            "[[902   7   8   2   4   1   0   2  36  38]\n",
            " [  6 915   1   0   0   1   1   0   5  71]\n",
            " [ 32   3 806  30  52  24  24  18   6   5]\n",
            " [ 28   6  21 711  48 112  28  19   6  21]\n",
            " [ 19   1  15  22 854  17  16  41  10   5]\n",
            " [  8   3  15  93  34 785  15  31   2  14]\n",
            " [ 10   2   9  29  14  13 913   2   5   3]\n",
            " [ 12   2   6  13  21  30   4 898   2  12]\n",
            " [ 25   9   2   3   0   2   0   0 943  16]\n",
            " [ 11  28   0   0   0   0   0   1   8 952]]\n"
          ]
        },
        {
          "output_type": "stream",
          "name": "stderr",
          "text": [
            "/usr/local/lib/python3.11/dist-packages/torch/utils/data/dataloader.py:624: UserWarning: This DataLoader will create 4 worker processes in total. Our suggested max number of worker in current system is 2, which is smaller than what this DataLoader is going to create. Please be aware that excessive worker creation might get DataLoader running slow or even freeze, lower the worker number to avoid potential slowness/freeze if necessary.\n",
            "  warnings.warn(\n"
          ]
        },
        {
          "output_type": "stream",
          "name": "stdout",
          "text": [
            "Epoch 9: Loss: 0.7892, Train Accuracy: 87.49%\n",
            "Test Accuracy: 88.25%\n",
            "Confusion Matrix (Epoch 9):\n",
            "[[934   6   7   6   8   1   0   4  23  11]\n",
            " [ 10 914   3   5   0   1   1   0  11  55]\n",
            " [ 28   0 849  30  41  13  28   7   3   1]\n",
            " [  8   2  22 777  32 106  26  20   4   3]\n",
            " [  8   1  25  28 863  13  13  44   5   0]\n",
            " [  5   0  15 109  27 805  10  28   1   0]\n",
            " [  5   1  25  35  13  13 903   2   3   0]\n",
            " [ 13   1  14  14  23  18   2 914   0   1]\n",
            " [ 31  11   3   7   2   0   1   0 938   7]\n",
            " [ 17  24   2   4   1   3   1   3  17 928]]\n"
          ]
        },
        {
          "output_type": "stream",
          "name": "stderr",
          "text": [
            "/usr/local/lib/python3.11/dist-packages/torch/utils/data/dataloader.py:624: UserWarning: This DataLoader will create 4 worker processes in total. Our suggested max number of worker in current system is 2, which is smaller than what this DataLoader is going to create. Please be aware that excessive worker creation might get DataLoader running slow or even freeze, lower the worker number to avoid potential slowness/freeze if necessary.\n",
            "  warnings.warn(\n"
          ]
        },
        {
          "output_type": "stream",
          "name": "stdout",
          "text": [
            "Epoch 10: Loss: 0.7820, Train Accuracy: 87.78%\n",
            "Test Accuracy: 88.04%\n",
            "Confusion Matrix (Epoch 10):\n",
            "[[891   8  18   6   4   1   2   3  41  26]\n",
            " [  4 944   0   1   0   1   1   0   9  40]\n",
            " [ 27   0 823  24  47  16  38  19   3   3]\n",
            " [ 13   3  21 729  34 127  24  30   7  12]\n",
            " [  4   1  15  22 887  15  11  37   6   2]\n",
            " [  4   1  19  91  33 805  12  29   2   4]\n",
            " [  7   1  13  25  10  10 927   2   2   3]\n",
            " [  4   1  10   7  21  21   2 927   0   7]\n",
            " [ 15  13   8   3   3   1   0   1 941  15]\n",
            " [ 10  44   2   2   2   1   0   0   9 930]]\n"
          ]
        },
        {
          "output_type": "stream",
          "name": "stderr",
          "text": [
            "/usr/local/lib/python3.11/dist-packages/torch/utils/data/dataloader.py:624: UserWarning: This DataLoader will create 4 worker processes in total. Our suggested max number of worker in current system is 2, which is smaller than what this DataLoader is going to create. Please be aware that excessive worker creation might get DataLoader running slow or even freeze, lower the worker number to avoid potential slowness/freeze if necessary.\n",
            "  warnings.warn(\n"
          ]
        },
        {
          "output_type": "stream",
          "name": "stdout",
          "text": [
            "Epoch 11: Loss: 0.7687, Train Accuracy: 88.46%\n",
            "Test Accuracy: 87.90%\n",
            "Confusion Matrix (Epoch 11):\n",
            "[[881  17  23  10   8   0   2   4  32  23]\n",
            " [  3 937   1   6   0   2   2   0  11  38]\n",
            " [ 25   3 866  25  33  16  26   5   0   1]\n",
            " [  8   2  28 771  26 126  24   6   5   4]\n",
            " [  4   1  28  24 889   8  27  15   3   1]\n",
            " [  2   0  19 108  24 828  10   8   0   1]\n",
            " [  6   2  22  31   9  11 916   0   3   0]\n",
            " [ 11   3   8  29  33  37   4 870   1   4]\n",
            " [ 23  14   4   7   2   3   1   0 934  12]\n",
            " [  6  63   3  10   2   2   4   0  12 898]]\n"
          ]
        },
        {
          "output_type": "stream",
          "name": "stderr",
          "text": [
            "/usr/local/lib/python3.11/dist-packages/torch/utils/data/dataloader.py:624: UserWarning: This DataLoader will create 4 worker processes in total. Our suggested max number of worker in current system is 2, which is smaller than what this DataLoader is going to create. Please be aware that excessive worker creation might get DataLoader running slow or even freeze, lower the worker number to avoid potential slowness/freeze if necessary.\n",
            "  warnings.warn(\n"
          ]
        },
        {
          "output_type": "stream",
          "name": "stdout",
          "text": [
            "Epoch 12: Loss: 0.7623, Train Accuracy: 88.57%\n",
            "Test Accuracy: 88.14%\n",
            "Confusion Matrix (Epoch 12):\n",
            "[[916   9  18   7   5   4   4   2  20  15]\n",
            " [  7 952   2   1   1   2   1   1   7  26]\n",
            " [ 15   0 859  20  34  21  32  14   3   2]\n",
            " [  9   1  33 693  32 176  33  15   4   4]\n",
            " [  3   1  28  17 888  11  27  20   5   0]\n",
            " [  5   0  24  75  29 834  11  20   1   1]\n",
            " [  3   3  12  18  11  14 935   0   2   2]\n",
            " [ 10   1   9  12  27  25   8 906   1   1]\n",
            " [ 43  10   5   5   2   2   1   1 922   9]\n",
            " [ 13  54   2   7   1   1   1   1  11 909]]\n"
          ]
        },
        {
          "output_type": "stream",
          "name": "stderr",
          "text": [
            "/usr/local/lib/python3.11/dist-packages/torch/utils/data/dataloader.py:624: UserWarning: This DataLoader will create 4 worker processes in total. Our suggested max number of worker in current system is 2, which is smaller than what this DataLoader is going to create. Please be aware that excessive worker creation might get DataLoader running slow or even freeze, lower the worker number to avoid potential slowness/freeze if necessary.\n",
            "  warnings.warn(\n"
          ]
        },
        {
          "output_type": "stream",
          "name": "stdout",
          "text": [
            "Epoch 13: Loss: 0.7487, Train Accuracy: 89.23%\n",
            "Test Accuracy: 88.67%\n",
            "Confusion Matrix (Epoch 13):\n",
            "[[908  11  14  14   6   3   3   3  22  16]\n",
            " [  8 949   3   3   0   1   4   0   4  28]\n",
            " [ 21   2 877  28  27   9  25   7   1   3]\n",
            " [  5   4  18 784  30 106  34  10   1   8]\n",
            " [  3   1  35  28 871  11  29  21   1   0]\n",
            " [  3   2  17 138  27 783  14  12   1   3]\n",
            " [  6   1  17  14   3  10 948   0   1   0]\n",
            " [  7   2   7  22  22  31   6 900   0   3]\n",
            " [ 31  15   7   8   2   2   5   0 919  11]\n",
            " [ 14  34   2   6   1   3   1   1  10 928]]\n"
          ]
        },
        {
          "output_type": "stream",
          "name": "stderr",
          "text": [
            "/usr/local/lib/python3.11/dist-packages/torch/utils/data/dataloader.py:624: UserWarning: This DataLoader will create 4 worker processes in total. Our suggested max number of worker in current system is 2, which is smaller than what this DataLoader is going to create. Please be aware that excessive worker creation might get DataLoader running slow or even freeze, lower the worker number to avoid potential slowness/freeze if necessary.\n",
            "  warnings.warn(\n"
          ]
        },
        {
          "output_type": "stream",
          "name": "stdout",
          "text": [
            "Epoch 14: Loss: 0.7392, Train Accuracy: 89.75%\n",
            "Test Accuracy: 88.84%\n",
            "Confusion Matrix (Epoch 14):\n",
            "[[924   9   6   8   3   1   1   8  31   9]\n",
            " [  7 967   0   2   0   1   0   0   5  18]\n",
            " [ 28   0 869  26  20  20  18  14   3   2]\n",
            " [ 19   6  21 761  22 121  18  22   4   6]\n",
            " [  5   1  40  22 855  19  19  33   6   0]\n",
            " [  4   1  17 108  23 817  11  16   3   0]\n",
            " [  8   4  15  36   8  11 913   2   2   1]\n",
            " [  5   2  10  12  12  28   3 923   1   4]\n",
            " [ 19  10   2   3   1   2   0   2 953   8]\n",
            " [ 20  54   2   3   1   3   0   2  13 902]]\n"
          ]
        },
        {
          "output_type": "stream",
          "name": "stderr",
          "text": [
            "/usr/local/lib/python3.11/dist-packages/torch/utils/data/dataloader.py:624: UserWarning: This DataLoader will create 4 worker processes in total. Our suggested max number of worker in current system is 2, which is smaller than what this DataLoader is going to create. Please be aware that excessive worker creation might get DataLoader running slow or even freeze, lower the worker number to avoid potential slowness/freeze if necessary.\n",
            "  warnings.warn(\n"
          ]
        },
        {
          "output_type": "stream",
          "name": "stdout",
          "text": [
            "Epoch 15: Loss: 0.7322, Train Accuracy: 89.98%\n",
            "Test Accuracy: 88.40%\n",
            "Confusion Matrix (Epoch 15):\n",
            "[[927   3   6   9   5   0   2   3  29  16]\n",
            " [ 10 931   0   2   0   0   2   0  11  44]\n",
            " [ 28   1 822  22  41  19  48  12   6   1]\n",
            " [ 15   2  15 745  25 134  40   9   8   7]\n",
            " [  5   1  22  25 878  12  20  34   2   1]\n",
            " [  5   2  17  77  27 836  16  15   2   3]\n",
            " [  8   0   9  24   9  12 932   1   2   3]\n",
            " [  8   1  13  13  18  33   5 901   2   6]\n",
            " [ 25   9   3   3   0   2   0   0 946  12]\n",
            " [ 16  31   2  11   2   2   2   1  11 922]]\n"
          ]
        },
        {
          "output_type": "stream",
          "name": "stderr",
          "text": [
            "/usr/local/lib/python3.11/dist-packages/torch/utils/data/dataloader.py:624: UserWarning: This DataLoader will create 4 worker processes in total. Our suggested max number of worker in current system is 2, which is smaller than what this DataLoader is going to create. Please be aware that excessive worker creation might get DataLoader running slow or even freeze, lower the worker number to avoid potential slowness/freeze if necessary.\n",
            "  warnings.warn(\n"
          ]
        },
        {
          "output_type": "stream",
          "name": "stdout",
          "text": [
            "Epoch 16: Loss: 0.7220, Train Accuracy: 90.36%\n",
            "Test Accuracy: 88.53%\n",
            "Confusion Matrix (Epoch 16):\n",
            "[[928   8  13   9   2   0   1   1  27  11]\n",
            " [  9 944   1   4   0   1   1   0  11  29]\n",
            " [ 22   1 891  24  16  10  23   9   1   3]\n",
            " [  4   7  19 817  25  71  33  11   6   7]\n",
            " [  6   1  49  38 856   9  22  19   0   0]\n",
            " [  2   3  25 168  25 739  22  11   0   5]\n",
            " [  2   2  25  26   7   6 926   3   2   1]\n",
            " [ 12   2   7  21  21  23   1 905   1   7]\n",
            " [ 24   3   4   7   2   1   0   1 950   8]\n",
            " [ 22  49   2   6   1   1   2   1  19 897]]\n"
          ]
        },
        {
          "output_type": "stream",
          "name": "stderr",
          "text": [
            "/usr/local/lib/python3.11/dist-packages/torch/utils/data/dataloader.py:624: UserWarning: This DataLoader will create 4 worker processes in total. Our suggested max number of worker in current system is 2, which is smaller than what this DataLoader is going to create. Please be aware that excessive worker creation might get DataLoader running slow or even freeze, lower the worker number to avoid potential slowness/freeze if necessary.\n",
            "  warnings.warn(\n"
          ]
        },
        {
          "output_type": "stream",
          "name": "stdout",
          "text": [
            "Epoch 17: Loss: 0.7131, Train Accuracy: 90.79%\n",
            "Test Accuracy: 88.77%\n",
            "Confusion Matrix (Epoch 17):\n",
            "[[904   6  19  12   6   2   9   4  19  19]\n",
            " [  6 932   1   5   2   0   4   0  11  39]\n",
            " [ 22   1 849  41  30  17  23  15   1   1]\n",
            " [  7   0  16 829  24  79  27  10   4   4]\n",
            " [  4   1  26  41 865  17  24  20   2   0]\n",
            " [  5   0  10 148  13 793  11  16   1   3]\n",
            " [  4   1  18  30   7  11 926   1   1   1]\n",
            " [  7   2  10  17  20  22   0 917   1   4]\n",
            " [ 29   3   5   7   0   2   2   0 943   9]\n",
            " [ 10  43   2   7   2   0   2   2  13 919]]\n"
          ]
        },
        {
          "output_type": "stream",
          "name": "stderr",
          "text": [
            "/usr/local/lib/python3.11/dist-packages/torch/utils/data/dataloader.py:624: UserWarning: This DataLoader will create 4 worker processes in total. Our suggested max number of worker in current system is 2, which is smaller than what this DataLoader is going to create. Please be aware that excessive worker creation might get DataLoader running slow or even freeze, lower the worker number to avoid potential slowness/freeze if necessary.\n",
            "  warnings.warn(\n"
          ]
        },
        {
          "output_type": "stream",
          "name": "stdout",
          "text": [
            "Epoch 18: Loss: 0.7092, Train Accuracy: 91.06%\n",
            "Test Accuracy: 88.57%\n",
            "Confusion Matrix (Epoch 18):\n",
            "[[939   2  12   8   3   1   2   4  26   3]\n",
            " [ 14 951   3   3   0   0   2   0   5  22]\n",
            " [ 25   0 898  18  25  12  10  10   1   1]\n",
            " [ 11   1  44 774  19 103  21  17   6   4]\n",
            " [  5   2  51  21 862  16  14  26   3   0]\n",
            " [  8   1  30 104  20 800  10  24   2   1]\n",
            " [  7   1  43  31   4   8 897   3   4   2]\n",
            " [  8   2  14  11  26  12   1 924   1   1]\n",
            " [ 39   6   3   3   1   0   0   0 943   5]\n",
            " [ 38  59   4   7   0   1   3   3  16 869]]\n"
          ]
        },
        {
          "output_type": "stream",
          "name": "stderr",
          "text": [
            "/usr/local/lib/python3.11/dist-packages/torch/utils/data/dataloader.py:624: UserWarning: This DataLoader will create 4 worker processes in total. Our suggested max number of worker in current system is 2, which is smaller than what this DataLoader is going to create. Please be aware that excessive worker creation might get DataLoader running slow or even freeze, lower the worker number to avoid potential slowness/freeze if necessary.\n",
            "  warnings.warn(\n"
          ]
        },
        {
          "output_type": "stream",
          "name": "stdout",
          "text": [
            "Epoch 19: Loss: 0.7010, Train Accuracy: 91.37%\n",
            "Test Accuracy: 89.13%\n",
            "Confusion Matrix (Epoch 19):\n",
            "[[906   6  22  11   5   3   1   4  36   6]\n",
            " [  5 944   2   4   1   0   1   1  12  30]\n",
            " [ 21   2 879  25  31  18  12  11   0   1]\n",
            " [  4   5  21 762  35 136  14  17   5   1]\n",
            " [ 10   3  20  23 899  10  10  24   1   0]\n",
            " [  4   0  15  84  21 846   2  25   2   1]\n",
            " [  2   2  26  32  13  14 905   3   2   1]\n",
            " [  6   2   8  10  23  19   1 928   1   2]\n",
            " [ 25   6   3   3   0   4   1   0 952   6]\n",
            " [ 27  45   3   8   0   1   1   4  19 892]]\n"
          ]
        },
        {
          "output_type": "stream",
          "name": "stderr",
          "text": [
            "/usr/local/lib/python3.11/dist-packages/torch/utils/data/dataloader.py:624: UserWarning: This DataLoader will create 4 worker processes in total. Our suggested max number of worker in current system is 2, which is smaller than what this DataLoader is going to create. Please be aware that excessive worker creation might get DataLoader running slow or even freeze, lower the worker number to avoid potential slowness/freeze if necessary.\n",
            "  warnings.warn(\n"
          ]
        },
        {
          "output_type": "stream",
          "name": "stdout",
          "text": [
            "Epoch 20: Loss: 0.6977, Train Accuracy: 91.37%\n",
            "Test Accuracy: 88.31%\n",
            "Confusion Matrix (Epoch 20):\n",
            "[[908   7  21  11   9   3   1   6  20  14]\n",
            " [  8 931   4   2   1   3   1   1   6  43]\n",
            " [ 17   1 882  26  31  19  15   6   1   2]\n",
            " [ 11   2  23 742  16 166  20  12   4   4]\n",
            " [  8   1  31  40 848  17  20  32   2   1]\n",
            " [  7   1  14  91  16 854   8   9   0   0]\n",
            " [ 10   1  17  34  11  12 912   0   2   1]\n",
            " [  9   1  16  12  16  41   2 897   0   6]\n",
            " [ 34   7   5   4   3   5   1   0 932   9]\n",
            " [ 16  33   2   5   0   1   3   4  11 925]]\n"
          ]
        },
        {
          "output_type": "stream",
          "name": "stderr",
          "text": [
            "/usr/local/lib/python3.11/dist-packages/torch/utils/data/dataloader.py:624: UserWarning: This DataLoader will create 4 worker processes in total. Our suggested max number of worker in current system is 2, which is smaller than what this DataLoader is going to create. Please be aware that excessive worker creation might get DataLoader running slow or even freeze, lower the worker number to avoid potential slowness/freeze if necessary.\n",
            "  warnings.warn(\n"
          ]
        },
        {
          "output_type": "stream",
          "name": "stdout",
          "text": [
            "Epoch 21: Loss: 0.6879, Train Accuracy: 91.99%\n",
            "Test Accuracy: 88.93%\n",
            "Confusion Matrix (Epoch 21):\n",
            "[[924   5  11  13   4   3   3   2  22  13]\n",
            " [  6 945   1   0   0   5   1   1   5  36]\n",
            " [ 27   1 859  31  27  24  21  10   0   0]\n",
            " [  6   3  16 779  31 126  20   7   3   9]\n",
            " [  4   1  33  31 883  11  18  16   2   1]\n",
            " [  4   2  14 105  24 830  13   5   2   1]\n",
            " [  6   0  19  26   6   8 930   3   2   0]\n",
            " [  8   1   9  23  22  31   2 900   2   2]\n",
            " [ 36  18   2   5   2   2   1   0 924  10]\n",
            " [ 16  41   1   4   0   1   1   3  14 919]]\n"
          ]
        },
        {
          "output_type": "stream",
          "name": "stderr",
          "text": [
            "/usr/local/lib/python3.11/dist-packages/torch/utils/data/dataloader.py:624: UserWarning: This DataLoader will create 4 worker processes in total. Our suggested max number of worker in current system is 2, which is smaller than what this DataLoader is going to create. Please be aware that excessive worker creation might get DataLoader running slow or even freeze, lower the worker number to avoid potential slowness/freeze if necessary.\n",
            "  warnings.warn(\n"
          ]
        },
        {
          "output_type": "stream",
          "name": "stdout",
          "text": [
            "Epoch 22: Loss: 0.6861, Train Accuracy: 92.10%\n",
            "Test Accuracy: 88.55%\n",
            "Confusion Matrix (Epoch 22):\n",
            "[[903   6  12   5   5   2   3   4  46  14]\n",
            " [  5 934   1   2   0   2   5   2  16  33]\n",
            " [ 25   2 873  15  33  22  16  10   3   1]\n",
            " [  9   0  42 727  19 153  19  16  10   5]\n",
            " [  7   1  41  26 858  19  15  25   8   0]\n",
            " [  3   0  17  73  18 855   6  22   3   3]\n",
            " [  6   0  23  22  14  13 917   3   1   1]\n",
            " [  6   1  16   4  18  38   0 913   2   2]\n",
            " [ 20   4   2   0   0   3   1   1 965   4]\n",
            " [ 11  43   2   6   1   3   0   4  20 910]]\n"
          ]
        },
        {
          "output_type": "stream",
          "name": "stderr",
          "text": [
            "/usr/local/lib/python3.11/dist-packages/torch/utils/data/dataloader.py:624: UserWarning: This DataLoader will create 4 worker processes in total. Our suggested max number of worker in current system is 2, which is smaller than what this DataLoader is going to create. Please be aware that excessive worker creation might get DataLoader running slow or even freeze, lower the worker number to avoid potential slowness/freeze if necessary.\n",
            "  warnings.warn(\n"
          ]
        },
        {
          "output_type": "stream",
          "name": "stdout",
          "text": [
            "Epoch 23: Loss: 0.6802, Train Accuracy: 92.27%\n",
            "Test Accuracy: 88.82%\n",
            "Confusion Matrix (Epoch 23):\n",
            "[[910  13   9  11   3   2   2   4  31  15]\n",
            " [  1 941   4   2   0   1   1   1   7  42]\n",
            " [ 30   1 835  44  27  27  19  12   2   3]\n",
            " [  6   4  14 772  19 141  17  21   1   5]\n",
            " [  6   4  25  39 874  15  13  16   5   3]\n",
            " [  4   2   9  92  20 856   1  13   1   2]\n",
            " [  6   3  13  41   9  15 908   2   1   2]\n",
            " [  7   0   7  14  23  27   0 914   1   7]\n",
            " [ 30  14   3   3   1   0   1   0 940   8]\n",
            " [ 13  37   1   4   1   3   0   0   9 932]]\n"
          ]
        },
        {
          "output_type": "stream",
          "name": "stderr",
          "text": [
            "/usr/local/lib/python3.11/dist-packages/torch/utils/data/dataloader.py:624: UserWarning: This DataLoader will create 4 worker processes in total. Our suggested max number of worker in current system is 2, which is smaller than what this DataLoader is going to create. Please be aware that excessive worker creation might get DataLoader running slow or even freeze, lower the worker number to avoid potential slowness/freeze if necessary.\n",
            "  warnings.warn(\n"
          ]
        },
        {
          "output_type": "stream",
          "name": "stdout",
          "text": [
            "Epoch 24: Loss: 0.6738, Train Accuracy: 92.47%\n",
            "Test Accuracy: 88.88%\n",
            "Confusion Matrix (Epoch 24):\n",
            "[[932   5  12   6   9   0   1   3  23   9]\n",
            " [ 11 930   4   2   0   2   6   0   4  41]\n",
            " [ 33   1 870  25  33  13  15   8   0   2]\n",
            " [  6   1  33 795  31  90  27  10   4   3]\n",
            " [  5   1  36  28 888   9  18  12   2   1]\n",
            " [  6   2  27 121  35 787   9  11   2   0]\n",
            " [  8   2  25  25   8   6 922   2   1   1]\n",
            " [  4   1  16   8  30  28   2 911   0   0]\n",
            " [ 31  16   5   3   2   0   3   0 936   4]\n",
            " [ 26  33   2   5   0   4   1   3   9 917]]\n"
          ]
        },
        {
          "output_type": "stream",
          "name": "stderr",
          "text": [
            "/usr/local/lib/python3.11/dist-packages/torch/utils/data/dataloader.py:624: UserWarning: This DataLoader will create 4 worker processes in total. Our suggested max number of worker in current system is 2, which is smaller than what this DataLoader is going to create. Please be aware that excessive worker creation might get DataLoader running slow or even freeze, lower the worker number to avoid potential slowness/freeze if necessary.\n",
            "  warnings.warn(\n"
          ]
        },
        {
          "output_type": "stream",
          "name": "stdout",
          "text": [
            "Epoch 25: Loss: 0.6685, Train Accuracy: 92.87%\n",
            "Test Accuracy: 88.74%\n",
            "Confusion Matrix (Epoch 25):\n",
            "[[914   7   5   4   9   3   4   5  36  13]\n",
            " [  5 934   0   1   0   2   7   0   9  42]\n",
            " [ 30   2 840  26  32  15  34  13   1   7]\n",
            " [ 11   5  21 742  21 141  32  18   5   4]\n",
            " [  7   2  30  21 878  22  18  19   3   0]\n",
            " [  6   2  18  90  18 836  13  15   0   2]\n",
            " [  5   0  12  16   7  16 938   4   1   1]\n",
            " [  5   2  10  10  25  28   1 915   1   3]\n",
            " [ 16  12   3   2   1   1   4   1 950  10]\n",
            " [ 15  40   1   1   0   2   1   2  11 927]]\n"
          ]
        },
        {
          "output_type": "stream",
          "name": "stderr",
          "text": [
            "/usr/local/lib/python3.11/dist-packages/torch/utils/data/dataloader.py:624: UserWarning: This DataLoader will create 4 worker processes in total. Our suggested max number of worker in current system is 2, which is smaller than what this DataLoader is going to create. Please be aware that excessive worker creation might get DataLoader running slow or even freeze, lower the worker number to avoid potential slowness/freeze if necessary.\n",
            "  warnings.warn(\n"
          ]
        },
        {
          "output_type": "stream",
          "name": "stdout",
          "text": [
            "Epoch 26: Loss: 0.6670, Train Accuracy: 92.87%\n",
            "Test Accuracy: 89.12%\n",
            "Confusion Matrix (Epoch 26):\n",
            "[[913   8  15   9   4   2   2   1  36  10]\n",
            " [  5 935   3   7   0   4   2   0  10  34]\n",
            " [ 26   1 889  20  33  16   9   4   1   1]\n",
            " [  7   1  28 793  26 108  23  10   3   1]\n",
            " [  6   1  27  26 884  20  16  17   2   1]\n",
            " [  7   0  23 113  18 815   9  15   0   0]\n",
            " [  6   2  27  32  10   9 910   1   1   2]\n",
            " [  5   1  16  14  20  28   2 909   1   4]\n",
            " [ 28   9   7   4   3   1   0   0 940   8]\n",
            " [ 17  34   2   8   0   0   4   2   9 924]]\n"
          ]
        },
        {
          "output_type": "stream",
          "name": "stderr",
          "text": [
            "/usr/local/lib/python3.11/dist-packages/torch/utils/data/dataloader.py:624: UserWarning: This DataLoader will create 4 worker processes in total. Our suggested max number of worker in current system is 2, which is smaller than what this DataLoader is going to create. Please be aware that excessive worker creation might get DataLoader running slow or even freeze, lower the worker number to avoid potential slowness/freeze if necessary.\n",
            "  warnings.warn(\n"
          ]
        },
        {
          "output_type": "stream",
          "name": "stdout",
          "text": [
            "Epoch 27: Loss: 0.6597, Train Accuracy: 93.15%\n",
            "Test Accuracy: 88.41%\n",
            "Confusion Matrix (Epoch 27):\n",
            "[[916   4  14  11   8   3   4   0  31   9]\n",
            " [  7 936   4   3   1   2   4   1  12  30]\n",
            " [ 23   1 863  37  29  12  25   6   1   3]\n",
            " [  7   2  26 804  34  94  25   4   3   1]\n",
            " [  6   1  24  40 885  12  22   5   5   0]\n",
            " [  3   0  18 131  21 809  13   5   0   0]\n",
            " [  5   2  18  34  12   6 922   0   1   0]\n",
            " [  5   1  21  28  44  33   2 864   1   1]\n",
            " [ 24   9   4   5   2   3   1   0 948   4]\n",
            " [  8  48   4  13   1   6   4   5  17 894]]\n"
          ]
        },
        {
          "output_type": "stream",
          "name": "stderr",
          "text": [
            "/usr/local/lib/python3.11/dist-packages/torch/utils/data/dataloader.py:624: UserWarning: This DataLoader will create 4 worker processes in total. Our suggested max number of worker in current system is 2, which is smaller than what this DataLoader is going to create. Please be aware that excessive worker creation might get DataLoader running slow or even freeze, lower the worker number to avoid potential slowness/freeze if necessary.\n",
            "  warnings.warn(\n"
          ]
        },
        {
          "output_type": "stream",
          "name": "stdout",
          "text": [
            "Epoch 28: Loss: 0.6620, Train Accuracy: 93.04%\n",
            "Test Accuracy: 88.57%\n",
            "Confusion Matrix (Epoch 28):\n",
            "[[943   2  13   4   4   0   4   4  21   5]\n",
            " [ 11 955   1   2   1   2   2   1   3  22]\n",
            " [ 29   2 892  15  23  16  13   8   0   2]\n",
            " [ 17   4  35 747  27 126  23  17   3   1]\n",
            " [  9   1  50  30 841  19  20  27   3   0]\n",
            " [  6   3  17  95  17 825  15  20   1   1]\n",
            " [  5   2  28  24  11  10 915   2   2   1]\n",
            " [  7   2  15  11  15  21   1 926   1   1]\n",
            " [ 28  13   9   7   2   1   0   1 935   4]\n",
            " [ 25  60   6   6   0   3   2   4  16 878]]\n"
          ]
        },
        {
          "output_type": "stream",
          "name": "stderr",
          "text": [
            "/usr/local/lib/python3.11/dist-packages/torch/utils/data/dataloader.py:624: UserWarning: This DataLoader will create 4 worker processes in total. Our suggested max number of worker in current system is 2, which is smaller than what this DataLoader is going to create. Please be aware that excessive worker creation might get DataLoader running slow or even freeze, lower the worker number to avoid potential slowness/freeze if necessary.\n",
            "  warnings.warn(\n"
          ]
        },
        {
          "output_type": "stream",
          "name": "stdout",
          "text": [
            "Epoch 29: Loss: 0.6589, Train Accuracy: 93.23%\n",
            "Test Accuracy: 88.83%\n",
            "Confusion Matrix (Epoch 29):\n",
            "[[896   8   8   5   5   1   4   6  44  23]\n",
            " [  7 944   1   0   0   1   1   0   7  39]\n",
            " [ 27   4 848  19  37  13  29   9   9   5]\n",
            " [  9   4  29 708  38 138  34  18   9  13]\n",
            " [  8   2  22  16 901  20   9  20   0   2]\n",
            " [  2   2  22  68  23 834  20  22   2   5]\n",
            " [  2   2  16  19   8  11 937   1   3   1]\n",
            " [  7   0  12   5  18  19   6 925   0   8]\n",
            " [ 18  10   2   1   4   1   1   0 952  11]\n",
            " [  8  31   3   3   0   0   0   2  15 938]]\n"
          ]
        },
        {
          "output_type": "stream",
          "name": "stderr",
          "text": [
            "/usr/local/lib/python3.11/dist-packages/torch/utils/data/dataloader.py:624: UserWarning: This DataLoader will create 4 worker processes in total. Our suggested max number of worker in current system is 2, which is smaller than what this DataLoader is going to create. Please be aware that excessive worker creation might get DataLoader running slow or even freeze, lower the worker number to avoid potential slowness/freeze if necessary.\n",
            "  warnings.warn(\n"
          ]
        },
        {
          "output_type": "stream",
          "name": "stdout",
          "text": [
            "Epoch 30: Loss: 0.6467, Train Accuracy: 93.77%\n",
            "Test Accuracy: 88.90%\n",
            "Confusion Matrix (Epoch 30):\n",
            "[[920   4  13   6   7   2   4   5  26  13]\n",
            " [  8 953   4   0   0   2   2   1   9  21]\n",
            " [ 23   5 878  16  31  10  22   9   4   2]\n",
            " [  8   2  35 799  25  90  26  10   3   2]\n",
            " [  5   1  32  41 853  33  16  16   1   2]\n",
            " [  3   1  24 111  14 817  14  16   0   0]\n",
            " [  5   1  27  21   4   6 930   1   2   3]\n",
            " [  7   0  14  14  20  26   2 911   1   5]\n",
            " [ 26  10   4   5   1   1   2   2 941   8]\n",
            " [ 27  54   1   8   0   4   1   3  14 888]]\n"
          ]
        },
        {
          "output_type": "stream",
          "name": "stderr",
          "text": [
            "/usr/local/lib/python3.11/dist-packages/torch/utils/data/dataloader.py:624: UserWarning: This DataLoader will create 4 worker processes in total. Our suggested max number of worker in current system is 2, which is smaller than what this DataLoader is going to create. Please be aware that excessive worker creation might get DataLoader running slow or even freeze, lower the worker number to avoid potential slowness/freeze if necessary.\n",
            "  warnings.warn(\n"
          ]
        },
        {
          "output_type": "stream",
          "name": "stdout",
          "text": [
            "Epoch 31: Loss: 0.6194, Train Accuracy: 94.90%\n",
            "Test Accuracy: 89.89%\n",
            "Confusion Matrix (Epoch 31):\n",
            "[[924   5  10   4   4   2   4   5  27  15]\n",
            " [  8 946   2   1   0   2   2   1   7  31]\n",
            " [ 21   4 885  22  25  16  16   7   2   2]\n",
            " [  5   2  23 797  22 117  19   8   4   3]\n",
            " [  6   1  28  32 872  25  13  18   3   2]\n",
            " [  3   1  15  93  11 854   6  16   0   1]\n",
            " [  5   0  26  26   5   8 924   1   2   3]\n",
            " [  8   0  13   9  16  32   2 915   1   4]\n",
            " [ 24  10   3   3   1   1   1   1 947   9]\n",
            " [ 14  36   2   3   0   2   0   3  15 925]]\n"
          ]
        },
        {
          "output_type": "stream",
          "name": "stderr",
          "text": [
            "/usr/local/lib/python3.11/dist-packages/torch/utils/data/dataloader.py:624: UserWarning: This DataLoader will create 4 worker processes in total. Our suggested max number of worker in current system is 2, which is smaller than what this DataLoader is going to create. Please be aware that excessive worker creation might get DataLoader running slow or even freeze, lower the worker number to avoid potential slowness/freeze if necessary.\n",
            "  warnings.warn(\n"
          ]
        },
        {
          "output_type": "stream",
          "name": "stdout",
          "text": [
            "Epoch 32: Loss: 0.6016, Train Accuracy: 95.71%\n",
            "Test Accuracy: 90.27%\n",
            "Confusion Matrix (Epoch 32):\n",
            "[[928   5  11   4   5   3   5   4  26   9]\n",
            " [  7 946   2   2   0   2   2   1   7  31]\n",
            " [ 20   2 883  25  25  17  13  11   2   2]\n",
            " [  3   3  17 802  22 113  20  13   4   3]\n",
            " [  6   1  24  30 881  24  11  18   3   2]\n",
            " [  2   1  12  94  10 860   5  15   0   1]\n",
            " [  5   0  24  26   3   8 928   1   2   3]\n",
            " [  7   0  12   7  18  29   0 922   1   4]\n",
            " [ 20   9   1   3   2   1   1   1 954   8]\n",
            " [ 14  36   1   4   0   2   0   3  17 923]]\n"
          ]
        },
        {
          "output_type": "stream",
          "name": "stderr",
          "text": [
            "/usr/local/lib/python3.11/dist-packages/torch/utils/data/dataloader.py:624: UserWarning: This DataLoader will create 4 worker processes in total. Our suggested max number of worker in current system is 2, which is smaller than what this DataLoader is going to create. Please be aware that excessive worker creation might get DataLoader running slow or even freeze, lower the worker number to avoid potential slowness/freeze if necessary.\n",
            "  warnings.warn(\n"
          ]
        },
        {
          "output_type": "stream",
          "name": "stdout",
          "text": [
            "Epoch 33: Loss: 0.5947, Train Accuracy: 96.03%\n",
            "Test Accuracy: 90.26%\n",
            "Confusion Matrix (Epoch 33):\n",
            "[[929   6  11   3   6   2   5   3  23  12]\n",
            " [  7 944   3   2   0   2   2   1   6  33]\n",
            " [ 22   3 892  22  22  15  13   7   2   2]\n",
            " [  4   1  28 815  19 102  17   7   4   3]\n",
            " [  6   1  25  31 886  21   9  16   3   2]\n",
            " [  4   1  17  96  15 853   5   8   0   1]\n",
            " [  4   1  29  28   4   4 924   2   1   3]\n",
            " [  7   1  14   6  21  25   1 920   1   4]\n",
            " [ 24   9   4   4   2   1   2   1 945   8]\n",
            " [ 15  40   2   6   0   1   0   3  15 918]]\n"
          ]
        },
        {
          "output_type": "stream",
          "name": "stderr",
          "text": [
            "/usr/local/lib/python3.11/dist-packages/torch/utils/data/dataloader.py:624: UserWarning: This DataLoader will create 4 worker processes in total. Our suggested max number of worker in current system is 2, which is smaller than what this DataLoader is going to create. Please be aware that excessive worker creation might get DataLoader running slow or even freeze, lower the worker number to avoid potential slowness/freeze if necessary.\n",
            "  warnings.warn(\n"
          ]
        },
        {
          "output_type": "stream",
          "name": "stdout",
          "text": [
            "Epoch 34: Loss: 0.5862, Train Accuracy: 96.35%\n",
            "Test Accuracy: 90.50%\n",
            "Confusion Matrix (Epoch 34):\n",
            "[[925   4  14   7   5   1   5   4  26   9]\n",
            " [  6 947   3   2   0   1   3   1   6  31]\n",
            " [ 19   3 895  23  23  12  14   7   2   2]\n",
            " [  3   1  29 822  17  92  22   6   4   4]\n",
            " [  6   1  30  32 879  20   9  18   3   2]\n",
            " [  3   1  14 100  18 845   6  12   0   1]\n",
            " [  4   0  27  22   3   5 934   2   1   2]\n",
            " [  6   2  15   9  18  24   1 921   1   3]\n",
            " [ 20  10   2   3   2   1   2   1 952   7]\n",
            " [ 14  30   2   5   0   2   0   3  14 930]]\n"
          ]
        },
        {
          "output_type": "stream",
          "name": "stderr",
          "text": [
            "/usr/local/lib/python3.11/dist-packages/torch/utils/data/dataloader.py:624: UserWarning: This DataLoader will create 4 worker processes in total. Our suggested max number of worker in current system is 2, which is smaller than what this DataLoader is going to create. Please be aware that excessive worker creation might get DataLoader running slow or even freeze, lower the worker number to avoid potential slowness/freeze if necessary.\n",
            "  warnings.warn(\n"
          ]
        },
        {
          "output_type": "stream",
          "name": "stdout",
          "text": [
            "Epoch 35: Loss: 0.5832, Train Accuracy: 96.53%\n",
            "Test Accuracy: 90.51%\n",
            "Confusion Matrix (Epoch 35):\n",
            "[[923   6   7   8   5   2   6   4  28  11]\n",
            " [  6 946   2   1   1   1   2   1   5  35]\n",
            " [ 25   2 888  22  26  12  14   7   2   2]\n",
            " [  4   2  29 804  22 104  19   8   3   5]\n",
            " [  6   1  24  24 892  19  12  17   3   2]\n",
            " [  3   1  14  95  16 854   7   9   0   1]\n",
            " [  4   0  25  25   3   6 932   1   1   3]\n",
            " [  5   1  14  10  19  24   1 921   1   4]\n",
            " [ 16  10   2   3   2   1   2   1 955   8]\n",
            " [ 13  29   1   3   0   2   0   3  13 936]]\n"
          ]
        },
        {
          "output_type": "stream",
          "name": "stderr",
          "text": [
            "/usr/local/lib/python3.11/dist-packages/torch/utils/data/dataloader.py:624: UserWarning: This DataLoader will create 4 worker processes in total. Our suggested max number of worker in current system is 2, which is smaller than what this DataLoader is going to create. Please be aware that excessive worker creation might get DataLoader running slow or even freeze, lower the worker number to avoid potential slowness/freeze if necessary.\n",
            "  warnings.warn(\n"
          ]
        },
        {
          "output_type": "stream",
          "name": "stdout",
          "text": [
            "Epoch 36: Loss: 0.5800, Train Accuracy: 96.64%\n",
            "Test Accuracy: 90.37%\n",
            "Confusion Matrix (Epoch 36):\n",
            "[[921   7  10   5   3   2   4   4  32  12]\n",
            " [  6 955   2   1   0   1   2   1   7  25]\n",
            " [ 22   3 888  25  22  13  15   9   2   1]\n",
            " [  5   2  27 802  18 109  18  11   3   5]\n",
            " [  6   2  27  24 891  18  10  18   3   1]\n",
            " [  3   1  15  96  16 851   8   9   0   1]\n",
            " [  7   0  24  27   3   5 929   1   2   2]\n",
            " [  4   2  14   9  17  30   1 919   1   3]\n",
            " [ 16   9   2   3   1   1   0   1 960   7]\n",
            " [ 14  39   1   4   0   3   0   3  15 921]]\n"
          ]
        },
        {
          "output_type": "stream",
          "name": "stderr",
          "text": [
            "/usr/local/lib/python3.11/dist-packages/torch/utils/data/dataloader.py:624: UserWarning: This DataLoader will create 4 worker processes in total. Our suggested max number of worker in current system is 2, which is smaller than what this DataLoader is going to create. Please be aware that excessive worker creation might get DataLoader running slow or even freeze, lower the worker number to avoid potential slowness/freeze if necessary.\n",
            "  warnings.warn(\n"
          ]
        },
        {
          "output_type": "stream",
          "name": "stdout",
          "text": [
            "Epoch 37: Loss: 0.5789, Train Accuracy: 96.72%\n",
            "Test Accuracy: 90.57%\n",
            "Confusion Matrix (Epoch 37):\n",
            "[[923   7   9   7   5   2   3   5  25  14]\n",
            " [  6 954   2   1   0   2   2   1   3  29]\n",
            " [ 23   2 883  24  28  12  16   9   2   1]\n",
            " [  5   2  23 812  20 107  16   7   3   5]\n",
            " [  6   1  21  25 897  17   9  19   3   2]\n",
            " [  3   1  11 100  14 854   6  10   0   1]\n",
            " [  5   0  24  29   9   8 921   1   1   2]\n",
            " [  6   0  12   9  16  25   1 925   1   5]\n",
            " [ 20   8   1   3   1   2   1   0 956   8]\n",
            " [ 14  32   1   5   0   2   0   2  12 932]]\n"
          ]
        },
        {
          "output_type": "stream",
          "name": "stderr",
          "text": [
            "/usr/local/lib/python3.11/dist-packages/torch/utils/data/dataloader.py:624: UserWarning: This DataLoader will create 4 worker processes in total. Our suggested max number of worker in current system is 2, which is smaller than what this DataLoader is going to create. Please be aware that excessive worker creation might get DataLoader running slow or even freeze, lower the worker number to avoid potential slowness/freeze if necessary.\n",
            "  warnings.warn(\n"
          ]
        },
        {
          "output_type": "stream",
          "name": "stdout",
          "text": [
            "Epoch 38: Loss: 0.5739, Train Accuracy: 96.93%\n",
            "Test Accuracy: 90.49%\n",
            "Confusion Matrix (Epoch 38):\n",
            "[[932   8   7   4   4   2   2   5  26  10]\n",
            " [  6 950   2   2   0   1   2   1   6  30]\n",
            " [ 26   3 890  17  23  12  16   9   2   2]\n",
            " [  7   4  28 804  19 100  18  12   3   5]\n",
            " [  6   1  24  25 889  16   9  25   3   2]\n",
            " [  3   1  16  99  14 847   9  10   0   1]\n",
            " [  6   0  25  25   4   6 928   1   2   3]\n",
            " [  7   1  14  10  12  23   1 927   1   4]\n",
            " [ 21   9   1   3   1   1   0   1 955   8]\n",
            " [ 15  34   1   7   0   1   0   2  13 927]]\n"
          ]
        },
        {
          "output_type": "stream",
          "name": "stderr",
          "text": [
            "/usr/local/lib/python3.11/dist-packages/torch/utils/data/dataloader.py:624: UserWarning: This DataLoader will create 4 worker processes in total. Our suggested max number of worker in current system is 2, which is smaller than what this DataLoader is going to create. Please be aware that excessive worker creation might get DataLoader running slow or even freeze, lower the worker number to avoid potential slowness/freeze if necessary.\n",
            "  warnings.warn(\n"
          ]
        },
        {
          "output_type": "stream",
          "name": "stdout",
          "text": [
            "Epoch 39: Loss: 0.5716, Train Accuracy: 97.04%\n",
            "Test Accuracy: 90.50%\n",
            "Confusion Matrix (Epoch 39):\n",
            "[[923   7  12   7   5   2   3   4  25  12]\n",
            " [  7 949   2   1   0   1   3   1   5  31]\n",
            " [ 19   3 890  24  25  13  14   8   2   2]\n",
            " [  5   4  23 821  17  94  18  10   3   5]\n",
            " [  6   1  24  31 881  17  10  25   3   2]\n",
            " [  3   1  13 108  13 843   6  12   0   1]\n",
            " [  4   1  22  28   6   6 928   1   1   3]\n",
            " [  6   2  13  11  12  21   1 930   1   3]\n",
            " [ 18   9   2   3   2   1   2   1 952  10]\n",
            " [ 12  31   1   3   0   3   0   3  14 933]]\n"
          ]
        },
        {
          "output_type": "stream",
          "name": "stderr",
          "text": [
            "/usr/local/lib/python3.11/dist-packages/torch/utils/data/dataloader.py:624: UserWarning: This DataLoader will create 4 worker processes in total. Our suggested max number of worker in current system is 2, which is smaller than what this DataLoader is going to create. Please be aware that excessive worker creation might get DataLoader running slow or even freeze, lower the worker number to avoid potential slowness/freeze if necessary.\n",
            "  warnings.warn(\n"
          ]
        },
        {
          "output_type": "stream",
          "name": "stdout",
          "text": [
            "Epoch 40: Loss: 0.5724, Train Accuracy: 96.99%\n",
            "Test Accuracy: 90.65%\n",
            "Confusion Matrix (Epoch 40):\n",
            "[[928   3   9   7   2   2   3   5  26  15]\n",
            " [  7 948   2   1   0   1   3   1   6  31]\n",
            " [ 22   2 888  23  27  14  14   7   2   1]\n",
            " [  5   2  17 824  21  96  16  11   4   4]\n",
            " [  6   1  22  28 886  19  11  22   3   2]\n",
            " [  2   1  13 103  13 848   6  13   0   1]\n",
            " [  6   1  22  31   3   5 927   1   1   3]\n",
            " [  5   1  14  11  15  19   1 928   2   4]\n",
            " [ 21   8   1   3   2   2   0   0 956   7]\n",
            " [ 13  30   1   4   0   2   0   2  16 932]]\n"
          ]
        },
        {
          "output_type": "stream",
          "name": "stderr",
          "text": [
            "/usr/local/lib/python3.11/dist-packages/torch/utils/data/dataloader.py:624: UserWarning: This DataLoader will create 4 worker processes in total. Our suggested max number of worker in current system is 2, which is smaller than what this DataLoader is going to create. Please be aware that excessive worker creation might get DataLoader running slow or even freeze, lower the worker number to avoid potential slowness/freeze if necessary.\n",
            "  warnings.warn(\n"
          ]
        },
        {
          "output_type": "stream",
          "name": "stdout",
          "text": [
            "Epoch 41: Loss: 0.5670, Train Accuracy: 97.23%\n",
            "Test Accuracy: 90.65%\n",
            "Confusion Matrix (Epoch 41):\n",
            "[[921   6  10  10   4   2   4   4  24  15]\n",
            " [  7 951   2   1   0   1   3   1   5  29]\n",
            " [ 19   3 891  21  25  13  13  11   2   2]\n",
            " [  5   2  19 813  20 103  20  11   3   4]\n",
            " [  6   1  23  28 883  19  11  24   3   2]\n",
            " [  2   1  14  90  11 863   7  11   0   1]\n",
            " [  5   1  21  20   9   8 931   1   1   3]\n",
            " [  5   1  12  11  16  18   1 930   2   4]\n",
            " [ 19  10   2   3   1   1   1   1 955   7]\n",
            " [ 14  36   1   5   0   2   0   2  13 927]]\n"
          ]
        },
        {
          "output_type": "stream",
          "name": "stderr",
          "text": [
            "/usr/local/lib/python3.11/dist-packages/torch/utils/data/dataloader.py:624: UserWarning: This DataLoader will create 4 worker processes in total. Our suggested max number of worker in current system is 2, which is smaller than what this DataLoader is going to create. Please be aware that excessive worker creation might get DataLoader running slow or even freeze, lower the worker number to avoid potential slowness/freeze if necessary.\n",
            "  warnings.warn(\n"
          ]
        },
        {
          "output_type": "stream",
          "name": "stdout",
          "text": [
            "Epoch 42: Loss: 0.5673, Train Accuracy: 97.17%\n",
            "Test Accuracy: 90.84%\n",
            "Confusion Matrix (Epoch 42):\n",
            "[[928   4  10   8   3   2   2   2  26  15]\n",
            " [  7 950   2   1   0   1   3   1   6  29]\n",
            " [ 18   2 902  21  24   8  15   7   2   1]\n",
            " [  4   2  25 813  20 102  18   9   4   3]\n",
            " [  6   1  24  30 891  12  14  16   4   2]\n",
            " [  3   1  14  95  12 857   7  10   0   1]\n",
            " [  6   1  21  25   3   5 934   1   1   3]\n",
            " [  5   0  17  10  15  24   1 922   2   4]\n",
            " [ 17   8   3   3   2   0   2   1 957   7]\n",
            " [ 11  33   1   5   0   3   0   2  15 930]]\n"
          ]
        },
        {
          "output_type": "stream",
          "name": "stderr",
          "text": [
            "/usr/local/lib/python3.11/dist-packages/torch/utils/data/dataloader.py:624: UserWarning: This DataLoader will create 4 worker processes in total. Our suggested max number of worker in current system is 2, which is smaller than what this DataLoader is going to create. Please be aware that excessive worker creation might get DataLoader running slow or even freeze, lower the worker number to avoid potential slowness/freeze if necessary.\n",
            "  warnings.warn(\n"
          ]
        },
        {
          "output_type": "stream",
          "name": "stdout",
          "text": [
            "Epoch 43: Loss: 0.5641, Train Accuracy: 97.43%\n",
            "Test Accuracy: 90.76%\n",
            "Confusion Matrix (Epoch 43):\n",
            "[[931   2   9   7   4   2   3   4  26  12]\n",
            " [  7 956   2   1   0   1   2   1   6  24]\n",
            " [ 25   1 891  23  27   7  16   7   2   1]\n",
            " [  6   1  27 810  21 101  18   9   4   3]\n",
            " [  6   1  21  25 900  13  11  18   3   2]\n",
            " [  3   1  18  91  15 853   8  10   0   1]\n",
            " [  6   1  23  22   4   5 934   1   1   3]\n",
            " [  6   2  15   9  18  21   1 924   2   2]\n",
            " [ 21   8   2   3   2   1   2   1 953   7]\n",
            " [ 12  37   1   6   0   2   1   2  15 924]]\n"
          ]
        },
        {
          "output_type": "stream",
          "name": "stderr",
          "text": [
            "/usr/local/lib/python3.11/dist-packages/torch/utils/data/dataloader.py:624: UserWarning: This DataLoader will create 4 worker processes in total. Our suggested max number of worker in current system is 2, which is smaller than what this DataLoader is going to create. Please be aware that excessive worker creation might get DataLoader running slow or even freeze, lower the worker number to avoid potential slowness/freeze if necessary.\n",
            "  warnings.warn(\n"
          ]
        },
        {
          "output_type": "stream",
          "name": "stdout",
          "text": [
            "Epoch 44: Loss: 0.5634, Train Accuracy: 97.41%\n",
            "Test Accuracy: 90.82%\n",
            "Confusion Matrix (Epoch 44):\n",
            "[[923   2   9   9   5   2   2   5  28  15]\n",
            " [  7 957   1   1   0   1   2   1   7  23]\n",
            " [ 19   1 887  27  26  13  15   9   2   1]\n",
            " [  6   2  23 807  20 106  19  11   3   3]\n",
            " [  6   1  22  23 897  17  13  17   2   2]\n",
            " [  2   1  18  82  15 863   6  12   0   1]\n",
            " [  6   1  18  22   4   8 937   1   1   2]\n",
            " [  6   1  14   8  15  24   2 925   2   3]\n",
            " [ 19   9   3   2   1   0   0   1 958   7]\n",
            " [ 13  35   1   6   0   3   0   2  12 928]]\n"
          ]
        },
        {
          "output_type": "stream",
          "name": "stderr",
          "text": [
            "/usr/local/lib/python3.11/dist-packages/torch/utils/data/dataloader.py:624: UserWarning: This DataLoader will create 4 worker processes in total. Our suggested max number of worker in current system is 2, which is smaller than what this DataLoader is going to create. Please be aware that excessive worker creation might get DataLoader running slow or even freeze, lower the worker number to avoid potential slowness/freeze if necessary.\n",
            "  warnings.warn(\n"
          ]
        },
        {
          "output_type": "stream",
          "name": "stdout",
          "text": [
            "Epoch 45: Loss: 0.5644, Train Accuracy: 97.33%\n",
            "Test Accuracy: 90.73%\n",
            "Confusion Matrix (Epoch 45):\n",
            "[[926   2  12   6   7   3   2   5  26  11]\n",
            " [  6 957   1   1   0   1   2   1   7  24]\n",
            " [ 22   1 887  24  28  11  13  11   2   1]\n",
            " [  3   1  28 807  21 103  15  15   4   3]\n",
            " [  6   1  20  19 898  19   9  23   3   2]\n",
            " [  2   1  17  86  14 861   6  13   0   0]\n",
            " [  5   1  22  26   7   7 927   2   1   2]\n",
            " [  5   1  13   8  14  22   1 931   2   3]\n",
            " [ 21   8   3   3   2   1   1   1 952   8]\n",
            " [ 13  36   1   4   0   3   0   3  13 927]]\n"
          ]
        },
        {
          "output_type": "stream",
          "name": "stderr",
          "text": [
            "/usr/local/lib/python3.11/dist-packages/torch/utils/data/dataloader.py:624: UserWarning: This DataLoader will create 4 worker processes in total. Our suggested max number of worker in current system is 2, which is smaller than what this DataLoader is going to create. Please be aware that excessive worker creation might get DataLoader running slow or even freeze, lower the worker number to avoid potential slowness/freeze if necessary.\n",
            "  warnings.warn(\n"
          ]
        },
        {
          "output_type": "stream",
          "name": "stdout",
          "text": [
            "Epoch 46: Loss: 0.5621, Train Accuracy: 97.48%\n",
            "Test Accuracy: 90.66%\n",
            "Confusion Matrix (Epoch 46):\n",
            "[[926   4  13   8   6   2   2   3  24  12]\n",
            " [  6 958   2   2   0   2   3   1   6  20]\n",
            " [ 23   1 891  25  26  12  13   7   2   0]\n",
            " [  5   1  24 811  27 101  17   8   3   3]\n",
            " [  7   1  21  24 906  15  11  12   2   1]\n",
            " [  4   1  17  90  17 855   6  10   0   0]\n",
            " [  6   1  19  27   7   6 931   1   1   1]\n",
            " [  6   1  13  14  23  26   1 913   1   2]\n",
            " [ 20   7   2   4   2   3   1   0 954   7]\n",
            " [ 13  38   1   5   0   3   1   2  16 921]]\n"
          ]
        },
        {
          "output_type": "stream",
          "name": "stderr",
          "text": [
            "/usr/local/lib/python3.11/dist-packages/torch/utils/data/dataloader.py:624: UserWarning: This DataLoader will create 4 worker processes in total. Our suggested max number of worker in current system is 2, which is smaller than what this DataLoader is going to create. Please be aware that excessive worker creation might get DataLoader running slow or even freeze, lower the worker number to avoid potential slowness/freeze if necessary.\n",
            "  warnings.warn(\n"
          ]
        },
        {
          "output_type": "stream",
          "name": "stdout",
          "text": [
            "Epoch 47: Loss: 0.5592, Train Accuracy: 97.59%\n",
            "Test Accuracy: 90.78%\n",
            "Confusion Matrix (Epoch 47):\n",
            "[[926   3  11   7   5   2   2   4  28  12]\n",
            " [  6 953   2   1   0   1   3   1   7  26]\n",
            " [ 21   1 892  23  27  14  12   7   2   1]\n",
            " [  5   1  27 799  25 109  17  10   3   4]\n",
            " [  6   1  22  21 899  20   9  18   2   2]\n",
            " [  2   1  15  86  14 864   5  12   0   1]\n",
            " [  6   1  20  22   5   8 935   1   2   0]\n",
            " [  6   1  13   9  15  25   1 927   1   2]\n",
            " [ 19  11   1   3   2   1   2   1 955   5]\n",
            " [ 13  33   1   4   0   3   0   3  15 928]]\n"
          ]
        },
        {
          "output_type": "stream",
          "name": "stderr",
          "text": [
            "/usr/local/lib/python3.11/dist-packages/torch/utils/data/dataloader.py:624: UserWarning: This DataLoader will create 4 worker processes in total. Our suggested max number of worker in current system is 2, which is smaller than what this DataLoader is going to create. Please be aware that excessive worker creation might get DataLoader running slow or even freeze, lower the worker number to avoid potential slowness/freeze if necessary.\n",
            "  warnings.warn(\n"
          ]
        },
        {
          "output_type": "stream",
          "name": "stdout",
          "text": [
            "Epoch 48: Loss: 0.5587, Train Accuracy: 97.53%\n",
            "Test Accuracy: 90.91%\n",
            "Confusion Matrix (Epoch 48):\n",
            "[[934   2   8   7   5   2   1   5  25  11]\n",
            " [  6 950   1   3   0   1   2   1   7  29]\n",
            " [ 20   1 880  28  30  13  14  11   2   1]\n",
            " [  6   2  22 812  16 102  19  14   3   4]\n",
            " [  5   1  18  26 902  13  11  19   4   1]\n",
            " [  2   1  16  93  15 855   7  11   0   0]\n",
            " [  5   1  18  23   6   5 938   1   1   2]\n",
            " [  5   0  13  12  13  21   1 930   0   5]\n",
            " [ 20  10   2   3   2   1   1   0 953   8]\n",
            " [ 12  28   1   3   0   3   0   3  13 937]]\n"
          ]
        },
        {
          "output_type": "stream",
          "name": "stderr",
          "text": [
            "/usr/local/lib/python3.11/dist-packages/torch/utils/data/dataloader.py:624: UserWarning: This DataLoader will create 4 worker processes in total. Our suggested max number of worker in current system is 2, which is smaller than what this DataLoader is going to create. Please be aware that excessive worker creation might get DataLoader running slow or even freeze, lower the worker number to avoid potential slowness/freeze if necessary.\n",
            "  warnings.warn(\n"
          ]
        },
        {
          "output_type": "stream",
          "name": "stdout",
          "text": [
            "Epoch 49: Loss: 0.5586, Train Accuracy: 97.60%\n",
            "Test Accuracy: 90.66%\n",
            "Confusion Matrix (Epoch 49):\n",
            "[[927   5  10   7   4   2   2   5  28  10]\n",
            " [  6 950   1   3   0   0   2   1  10  27]\n",
            " [ 19   1 899  20  25  12  13   8   2   1]\n",
            " [  6   1  32 796  19 109  19  12   3   3]\n",
            " [  6   1  23  26 900  15   9  15   4   1]\n",
            " [  2   1  17  93  16 856   6   9   0   0]\n",
            " [  5   0  30  18   4   9 931   1   1   1]\n",
            " [  6   1  16   9  16  23   1 925   1   2]\n",
            " [ 15  11   3   4   2   0   1   1 958   5]\n",
            " [ 15  34   1   2   0   3   1   3  17 924]]\n"
          ]
        },
        {
          "output_type": "stream",
          "name": "stderr",
          "text": [
            "/usr/local/lib/python3.11/dist-packages/torch/utils/data/dataloader.py:624: UserWarning: This DataLoader will create 4 worker processes in total. Our suggested max number of worker in current system is 2, which is smaller than what this DataLoader is going to create. Please be aware that excessive worker creation might get DataLoader running slow or even freeze, lower the worker number to avoid potential slowness/freeze if necessary.\n",
            "  warnings.warn(\n"
          ]
        },
        {
          "output_type": "stream",
          "name": "stdout",
          "text": [
            "Epoch 50: Loss: 0.5557, Train Accuracy: 97.66%\n",
            "Test Accuracy: 90.90%\n",
            "Confusion Matrix (Epoch 50):\n",
            "[[929   5   9   7   4   2   1   4  28  11]\n",
            " [  6 951   1   1   0   0   3   1  10  27]\n",
            " [ 20   1 895  21  27  11  14   8   2   1]\n",
            " [  4   2  24 810  18 109  14  13   3   3]\n",
            " [  6   1  22  20 899  15  12  20   3   2]\n",
            " [  2   1  16  88  17 856   5  13   0   2]\n",
            " [  7   0  21  25   2   6 936   1   1   1]\n",
            " [  5   1  13  11  16  20   2 927   1   4]\n",
            " [ 19  10   3   3   3   0   1   1 952   8]\n",
            " [ 12  31   1   3   0   2   0   2  14 935]]\n"
          ]
        },
        {
          "output_type": "stream",
          "name": "stderr",
          "text": [
            "/usr/local/lib/python3.11/dist-packages/torch/utils/data/dataloader.py:624: UserWarning: This DataLoader will create 4 worker processes in total. Our suggested max number of worker in current system is 2, which is smaller than what this DataLoader is going to create. Please be aware that excessive worker creation might get DataLoader running slow or even freeze, lower the worker number to avoid potential slowness/freeze if necessary.\n",
            "  warnings.warn(\n"
          ]
        },
        {
          "output_type": "stream",
          "name": "stdout",
          "text": [
            "Epoch 51: Loss: 0.5547, Train Accuracy: 97.83%\n",
            "Test Accuracy: 90.74%\n",
            "Confusion Matrix (Epoch 51):\n",
            "[[937   3   8   8   4   1   1   3  26   9]\n",
            " [  6 954   3   2   1   0   3   1  10  20]\n",
            " [ 24   1 880  23  30  13  14  11   2   2]\n",
            " [  5   1  24 801  21 111  17  14   3   3]\n",
            " [  6   1  18  24 898  15  10  23   3   2]\n",
            " [  3   1  11  87  15 862   7  13   0   1]\n",
            " [  8   0  17  22   6   6 936   2   1   2]\n",
            " [  6   1  13  11  14  15   1 934   0   5]\n",
            " [ 28  11   2   3   3   0   1   1 943   8]\n",
            " [ 14  32   2   4   0   2   1   3  13 929]]\n"
          ]
        },
        {
          "output_type": "stream",
          "name": "stderr",
          "text": [
            "/usr/local/lib/python3.11/dist-packages/torch/utils/data/dataloader.py:624: UserWarning: This DataLoader will create 4 worker processes in total. Our suggested max number of worker in current system is 2, which is smaller than what this DataLoader is going to create. Please be aware that excessive worker creation might get DataLoader running slow or even freeze, lower the worker number to avoid potential slowness/freeze if necessary.\n",
            "  warnings.warn(\n"
          ]
        },
        {
          "output_type": "stream",
          "name": "stdout",
          "text": [
            "Epoch 52: Loss: 0.5529, Train Accuracy: 97.81%\n",
            "Test Accuracy: 90.91%\n",
            "Confusion Matrix (Epoch 52):\n",
            "[[936   3   9   8   4   1   2   4  23  10]\n",
            " [  6 951   3   2   0   0   3   1   8  26]\n",
            " [ 21   1 892  22  28  10  14   9   2   1]\n",
            " [  3   2  28 804  19 109  16  11   3   5]\n",
            " [  6   2  18  24 903  14  13  16   3   1]\n",
            " [  2   1  17  86  17 861   5   9   1   1]\n",
            " [  6   1  15  25   4  11 934   1   1   2]\n",
            " [  5   1  16  11  14  21   1 925   1   5]\n",
            " [ 21   8   4   3   2   1   1   0 952   8]\n",
            " [ 12  33   1   4   0   3   0   2  12 933]]\n"
          ]
        },
        {
          "output_type": "stream",
          "name": "stderr",
          "text": [
            "/usr/local/lib/python3.11/dist-packages/torch/utils/data/dataloader.py:624: UserWarning: This DataLoader will create 4 worker processes in total. Our suggested max number of worker in current system is 2, which is smaller than what this DataLoader is going to create. Please be aware that excessive worker creation might get DataLoader running slow or even freeze, lower the worker number to avoid potential slowness/freeze if necessary.\n",
            "  warnings.warn(\n"
          ]
        },
        {
          "output_type": "stream",
          "name": "stdout",
          "text": [
            "Epoch 53: Loss: 0.5537, Train Accuracy: 97.79%\n",
            "Test Accuracy: 90.75%\n",
            "Confusion Matrix (Epoch 53):\n",
            "[[935   2   7   8   3   1   3   3  27  11]\n",
            " [  8 943   3   1   0   1   3   1   9  31]\n",
            " [ 25   1 879  27  29  12  13  10   2   2]\n",
            " [  6   1  28 799  21 110  17  13   3   2]\n",
            " [  7   1  17  23 903  15  12  18   3   1]\n",
            " [  3   1  15  91  15 856   6  12   0   1]\n",
            " [  7   0  19  20   3  11 936   1   1   2]\n",
            " [  6   1  12   8  15  18   2 932   0   6]\n",
            " [ 18   7   3   3   3   0   1   1 955   9]\n",
            " [ 10  27   1   5   0   3   1   2  14 937]]\n"
          ]
        },
        {
          "output_type": "stream",
          "name": "stderr",
          "text": [
            "/usr/local/lib/python3.11/dist-packages/torch/utils/data/dataloader.py:624: UserWarning: This DataLoader will create 4 worker processes in total. Our suggested max number of worker in current system is 2, which is smaller than what this DataLoader is going to create. Please be aware that excessive worker creation might get DataLoader running slow or even freeze, lower the worker number to avoid potential slowness/freeze if necessary.\n",
            "  warnings.warn(\n"
          ]
        },
        {
          "output_type": "stream",
          "name": "stdout",
          "text": [
            "Epoch 54: Loss: 0.5519, Train Accuracy: 97.83%\n",
            "Test Accuracy: 90.84%\n",
            "Confusion Matrix (Epoch 54):\n",
            "[[936   3   8   8   4   1   2   4  24  10]\n",
            " [  7 952   2   1   0   1   2   1   6  28]\n",
            " [ 19   1 886  24  30  13  15   9   2   1]\n",
            " [  7   2  22 796  19 115  18  15   3   3]\n",
            " [  7   1  16  29 901  15  10  17   3   1]\n",
            " [  3   1  14  84  19 863   6   9   0   1]\n",
            " [  6   1  17  26   5   8 933   1   2   1]\n",
            " [  6   2  13   7  14  20   1 931   2   4]\n",
            " [ 19   9   3   3   2   0   1   1 955   7]\n",
            " [ 12  33   1   4   0   3   0   3  13 931]]\n"
          ]
        },
        {
          "output_type": "stream",
          "name": "stderr",
          "text": [
            "/usr/local/lib/python3.11/dist-packages/torch/utils/data/dataloader.py:624: UserWarning: This DataLoader will create 4 worker processes in total. Our suggested max number of worker in current system is 2, which is smaller than what this DataLoader is going to create. Please be aware that excessive worker creation might get DataLoader running slow or even freeze, lower the worker number to avoid potential slowness/freeze if necessary.\n",
            "  warnings.warn(\n"
          ]
        },
        {
          "output_type": "stream",
          "name": "stdout",
          "text": [
            "Epoch 55: Loss: 0.5538, Train Accuracy: 97.79%\n",
            "Test Accuracy: 90.90%\n",
            "Confusion Matrix (Epoch 55):\n",
            "[[935   3   8   7   3   2   0   4  27  11]\n",
            " [  6 953   3   2   0   0   2   1   5  28]\n",
            " [ 21   1 887  26  27  11  13  10   2   2]\n",
            " [  6   2  19 812  19 104  17  14   5   2]\n",
            " [  6   1  18  26 898  14  12  21   3   1]\n",
            " [  3   1  15  91  15 856   6  12   0   1]\n",
            " [  7   1  15  27   4   9 933   1   1   2]\n",
            " [  6   2  13   7  13  22   1 932   1   3]\n",
            " [ 17  12   2   3   2   0   1   1 952  10]\n",
            " [ 13  33   1   3   0   3   0   3  12 932]]\n"
          ]
        },
        {
          "output_type": "stream",
          "name": "stderr",
          "text": [
            "/usr/local/lib/python3.11/dist-packages/torch/utils/data/dataloader.py:624: UserWarning: This DataLoader will create 4 worker processes in total. Our suggested max number of worker in current system is 2, which is smaller than what this DataLoader is going to create. Please be aware that excessive worker creation might get DataLoader running slow or even freeze, lower the worker number to avoid potential slowness/freeze if necessary.\n",
            "  warnings.warn(\n"
          ]
        },
        {
          "output_type": "stream",
          "name": "stdout",
          "text": [
            "Epoch 56: Loss: 0.5525, Train Accuracy: 97.84%\n",
            "Test Accuracy: 90.68%\n",
            "Confusion Matrix (Epoch 56):\n",
            "[[933   3   9   8   3   2   4   4  23  11]\n",
            " [  5 956   2   2   0   0   3   1   6  25]\n",
            " [ 24   0 885  26  27  13  16   7   2   0]\n",
            " [  5   2  23 802  21 108  20  14   3   2]\n",
            " [  7   1  24  29 887  14  13  21   3   1]\n",
            " [  4   1  14  90  17 854   8  10   0   2]\n",
            " [  5   1  18  17   4   9 942   1   2   1]\n",
            " [  5   1  13  11  13  24   1 929   2   1]\n",
            " [ 23  10   2   3   1   0   1   1 951   8]\n",
            " [ 10  34   1   5   0   3   1   3  14 929]]\n"
          ]
        },
        {
          "output_type": "stream",
          "name": "stderr",
          "text": [
            "/usr/local/lib/python3.11/dist-packages/torch/utils/data/dataloader.py:624: UserWarning: This DataLoader will create 4 worker processes in total. Our suggested max number of worker in current system is 2, which is smaller than what this DataLoader is going to create. Please be aware that excessive worker creation might get DataLoader running slow or even freeze, lower the worker number to avoid potential slowness/freeze if necessary.\n",
            "  warnings.warn(\n"
          ]
        },
        {
          "output_type": "stream",
          "name": "stdout",
          "text": [
            "Epoch 57: Loss: 0.5530, Train Accuracy: 97.88%\n",
            "Test Accuracy: 90.85%\n",
            "Confusion Matrix (Epoch 57):\n",
            "[[936   4  10   8   4   2   2   4  21   9]\n",
            " [  6 955   1   2   0   0   2   1   7  26]\n",
            " [ 21   0 887  27  27  12  14   9   2   1]\n",
            " [  4   1  23 805  22 108  18  14   4   1]\n",
            " [  7   1  21  27 901  10  10  19   3   1]\n",
            " [  4   1  15  89  17 856   7  10   0   1]\n",
            " [  7   1  18  23   3   8 937   1   1   1]\n",
            " [  4   1  13   9  14  24   1 930   2   2]\n",
            " [ 21  10   4   3   3   0   1   1 952   5]\n",
            " [ 13  34   1   6   0   3   0   1  16 926]]\n"
          ]
        },
        {
          "output_type": "stream",
          "name": "stderr",
          "text": [
            "/usr/local/lib/python3.11/dist-packages/torch/utils/data/dataloader.py:624: UserWarning: This DataLoader will create 4 worker processes in total. Our suggested max number of worker in current system is 2, which is smaller than what this DataLoader is going to create. Please be aware that excessive worker creation might get DataLoader running slow or even freeze, lower the worker number to avoid potential slowness/freeze if necessary.\n",
            "  warnings.warn(\n"
          ]
        },
        {
          "output_type": "stream",
          "name": "stdout",
          "text": [
            "Epoch 58: Loss: 0.5532, Train Accuracy: 97.80%\n",
            "Test Accuracy: 90.90%\n",
            "Confusion Matrix (Epoch 58):\n",
            "[[931   5  10   7   4   2   2   3  25  11]\n",
            " [  5 946   3   1   0   0   3   1   8  33]\n",
            " [ 21   0 891  21  28  13  14   9   2   1]\n",
            " [  5   2  25 801  22 107  20  12   3   3]\n",
            " [  7   1  18  22 898  16  13  21   3   1]\n",
            " [  3   1  14  87  15 859   7  12   0   2]\n",
            " [  6   1  16  19   5  10 940   1   1   1]\n",
            " [  6   0  14   8  15  21   1 931   0   4]\n",
            " [ 20   8   3   3   2   1   2   1 953   7]\n",
            " [ 11  27   1   3   0   3   0   1  14 940]]\n"
          ]
        },
        {
          "output_type": "stream",
          "name": "stderr",
          "text": [
            "/usr/local/lib/python3.11/dist-packages/torch/utils/data/dataloader.py:624: UserWarning: This DataLoader will create 4 worker processes in total. Our suggested max number of worker in current system is 2, which is smaller than what this DataLoader is going to create. Please be aware that excessive worker creation might get DataLoader running slow or even freeze, lower the worker number to avoid potential slowness/freeze if necessary.\n",
            "  warnings.warn(\n"
          ]
        },
        {
          "output_type": "stream",
          "name": "stdout",
          "text": [
            "Epoch 59: Loss: 0.5519, Train Accuracy: 97.87%\n",
            "Test Accuracy: 90.84%\n",
            "Confusion Matrix (Epoch 59):\n",
            "[[934   5   9   7   5   2   2   3  23  10]\n",
            " [  6 953   2   2   0   0   3   1   7  26]\n",
            " [ 21   0 892  26  22  13  13  10   2   1]\n",
            " [  5   2  25 803  17 111  21  10   4   2]\n",
            " [  6   1  21  26 891  17  14  20   3   1]\n",
            " [  3   1  14  88  12 864   8   8   0   2]\n",
            " [  5   0  18  18   2  10 942   1   1   3]\n",
            " [  6   2  13  13  11  25   1 927   1   1]\n",
            " [ 23   9   3   3   2   0   3   1 949   7]\n",
            " [ 14  31   1   5   0   4   1   2  13 929]]\n"
          ]
        },
        {
          "output_type": "stream",
          "name": "stderr",
          "text": [
            "/usr/local/lib/python3.11/dist-packages/torch/utils/data/dataloader.py:624: UserWarning: This DataLoader will create 4 worker processes in total. Our suggested max number of worker in current system is 2, which is smaller than what this DataLoader is going to create. Please be aware that excessive worker creation might get DataLoader running slow or even freeze, lower the worker number to avoid potential slowness/freeze if necessary.\n",
            "  warnings.warn(\n"
          ]
        },
        {
          "output_type": "stream",
          "name": "stdout",
          "text": [
            "Epoch 60: Loss: 0.5491, Train Accuracy: 97.99%\n",
            "Test Accuracy: 91.03%\n",
            "Confusion Matrix (Epoch 60):\n",
            "[[935   4   9   6   5   2   2   4  23  10]\n",
            " [  6 959   2   2   0   0   3   1   6  21]\n",
            " [ 19   0 895  23  26  12  13   9   2   1]\n",
            " [  5   1  27 815  17 102  17   9   4   3]\n",
            " [  5   1  20  25 901  11  12  22   1   2]\n",
            " [  3   1  16  92  16 852   8  11   0   1]\n",
            " [  7   1  14  24   5  10 934   1   1   3]\n",
            " [  6   1  13  10  13  17   1 935   2   2]\n",
            " [ 20  10   4   2   4   1   2   1 948   8]\n",
            " [ 15  31   1   2   0   4   1   3  14 929]]\n"
          ]
        },
        {
          "output_type": "stream",
          "name": "stderr",
          "text": [
            "/usr/local/lib/python3.11/dist-packages/torch/utils/data/dataloader.py:624: UserWarning: This DataLoader will create 4 worker processes in total. Our suggested max number of worker in current system is 2, which is smaller than what this DataLoader is going to create. Please be aware that excessive worker creation might get DataLoader running slow or even freeze, lower the worker number to avoid potential slowness/freeze if necessary.\n",
            "  warnings.warn(\n"
          ]
        },
        {
          "output_type": "stream",
          "name": "stdout",
          "text": [
            "Epoch 61: Loss: 0.5482, Train Accuracy: 98.01%\n",
            "Test Accuracy: 90.87%\n",
            "Confusion Matrix (Epoch 61):\n",
            "[[933   4   8   7   4   2   2   4  25  11]\n",
            " [  6 951   2   2   0   0   4   1   8  26]\n",
            " [ 19   0 893  21  25  17  12  10   2   1]\n",
            " [  7   1  28 794  16 118  18  10   5   3]\n",
            " [  5   1  19  23 898  16  12  22   3   1]\n",
            " [  2   1  15  78  15 870   8  10   0   1]\n",
            " [  7   1  17  23   4  10 934   1   1   2]\n",
            " [  6   0  15   9  15  24   1 926   2   2]\n",
            " [ 17   9   3   2   4   1   2   1 956   5]\n",
            " [ 14  27   1   3   0   4   1   1  17 932]]\n"
          ]
        },
        {
          "output_type": "stream",
          "name": "stderr",
          "text": [
            "/usr/local/lib/python3.11/dist-packages/torch/utils/data/dataloader.py:624: UserWarning: This DataLoader will create 4 worker processes in total. Our suggested max number of worker in current system is 2, which is smaller than what this DataLoader is going to create. Please be aware that excessive worker creation might get DataLoader running slow or even freeze, lower the worker number to avoid potential slowness/freeze if necessary.\n",
            "  warnings.warn(\n"
          ]
        },
        {
          "output_type": "stream",
          "name": "stdout",
          "text": [
            "Epoch 62: Loss: 0.5469, Train Accuracy: 98.08%\n",
            "Test Accuracy: 90.90%\n",
            "Confusion Matrix (Epoch 62):\n",
            "[[932   5   8   7   4   2   2   4  26  10]\n",
            " [  6 948   2   2   0   0   4   1   9  28]\n",
            " [ 18   0 898  22  25  13  13   8   2   1]\n",
            " [  5   1  28 805  18 106  19  10   5   3]\n",
            " [  5   1  21  24 898  13  13  21   2   2]\n",
            " [  3   1  16  88  17 856   8  10   0   1]\n",
            " [  6   1  14  24   3  11 937   1   1   2]\n",
            " [  6   1  16  10  15  20   1 927   2   2]\n",
            " [ 16   8   4   2   4   0   2   1 956   7]\n",
            " [ 12  28   1   3   0   4   1   1  17 933]]\n"
          ]
        },
        {
          "output_type": "stream",
          "name": "stderr",
          "text": [
            "/usr/local/lib/python3.11/dist-packages/torch/utils/data/dataloader.py:624: UserWarning: This DataLoader will create 4 worker processes in total. Our suggested max number of worker in current system is 2, which is smaller than what this DataLoader is going to create. Please be aware that excessive worker creation might get DataLoader running slow or even freeze, lower the worker number to avoid potential slowness/freeze if necessary.\n",
            "  warnings.warn(\n"
          ]
        },
        {
          "output_type": "stream",
          "name": "stdout",
          "text": [
            "Epoch 63: Loss: 0.5474, Train Accuracy: 98.08%\n",
            "Test Accuracy: 90.86%\n",
            "Confusion Matrix (Epoch 63):\n",
            "[[932   5   9   8   3   3   2   3  25  10]\n",
            " [  6 955   2   2   0   0   3   1   9  22]\n",
            " [ 22   0 890  25  27  11  13   9   2   1]\n",
            " [  6   1  27 804  17 109  19  10   4   3]\n",
            " [  6   1  18  26 897  13  13  22   3   1]\n",
            " [  3   1  15  88  16 858   8  10   0   1]\n",
            " [  7   1  14  21   3  11 939   1   1   2]\n",
            " [  6   1  14  11  15  22   1 926   2   2]\n",
            " [ 18   8   4   3   4   1   2   1 953   6]\n",
            " [ 12  29   1   5   0   4   1   1  15 932]]\n"
          ]
        },
        {
          "output_type": "stream",
          "name": "stderr",
          "text": [
            "/usr/local/lib/python3.11/dist-packages/torch/utils/data/dataloader.py:624: UserWarning: This DataLoader will create 4 worker processes in total. Our suggested max number of worker in current system is 2, which is smaller than what this DataLoader is going to create. Please be aware that excessive worker creation might get DataLoader running slow or even freeze, lower the worker number to avoid potential slowness/freeze if necessary.\n",
            "  warnings.warn(\n"
          ]
        },
        {
          "output_type": "stream",
          "name": "stdout",
          "text": [
            "Epoch 64: Loss: 0.5466, Train Accuracy: 98.09%\n",
            "Test Accuracy: 91.00%\n",
            "Confusion Matrix (Epoch 64):\n",
            "[[934   5   8   7   3   3   2   4  25   9]\n",
            " [  6 955   2   2   0   0   3   1   7  24]\n",
            " [ 21   0 893  21  25  15  13   9   2   1]\n",
            " [  5   2  27 803  18 109  19  10   4   3]\n",
            " [  6   1  20  24 895  14  13  23   2   2]\n",
            " [  3   1  16  85  15 861   8  10   0   1]\n",
            " [  7   1  15  21   3  10 939   1   1   2]\n",
            " [  6   1  14   9  13  23   1 929   2   2]\n",
            " [ 16  10   3   2   3   1   1   1 958   5]\n",
            " [ 11  29   1   4   0   4   1   1  16 933]]\n"
          ]
        },
        {
          "output_type": "stream",
          "name": "stderr",
          "text": [
            "/usr/local/lib/python3.11/dist-packages/torch/utils/data/dataloader.py:624: UserWarning: This DataLoader will create 4 worker processes in total. Our suggested max number of worker in current system is 2, which is smaller than what this DataLoader is going to create. Please be aware that excessive worker creation might get DataLoader running slow or even freeze, lower the worker number to avoid potential slowness/freeze if necessary.\n",
            "  warnings.warn(\n"
          ]
        },
        {
          "output_type": "stream",
          "name": "stdout",
          "text": [
            "Epoch 65: Loss: 0.5479, Train Accuracy: 98.00%\n",
            "Test Accuracy: 91.06%\n",
            "Confusion Matrix (Epoch 65):\n",
            "[[934   5   8   8   3   2   2   3  25  10]\n",
            " [  6 953   2   2   0   0   2   1   8  26]\n",
            " [ 19   0 895  21  24  14  14  10   2   1]\n",
            " [  5   2  28 806  17 106  19  10   4   3]\n",
            " [  6   1  17  25 900  14  12  20   3   2]\n",
            " [  3   1  15  87  15 859  10   9   0   1]\n",
            " [  7   1  14  19   3  10 942   1   1   2]\n",
            " [  6   1  14  11  14  23   1 926   2   2]\n",
            " [ 17   8   4   2   3   0   1   1 958   6]\n",
            " [ 11  29   1   4   0   4   1   1  16 933]]\n"
          ]
        },
        {
          "output_type": "stream",
          "name": "stderr",
          "text": [
            "/usr/local/lib/python3.11/dist-packages/torch/utils/data/dataloader.py:624: UserWarning: This DataLoader will create 4 worker processes in total. Our suggested max number of worker in current system is 2, which is smaller than what this DataLoader is going to create. Please be aware that excessive worker creation might get DataLoader running slow or even freeze, lower the worker number to avoid potential slowness/freeze if necessary.\n",
            "  warnings.warn(\n"
          ]
        },
        {
          "output_type": "stream",
          "name": "stdout",
          "text": [
            "Epoch 66: Loss: 0.5456, Train Accuracy: 98.15%\n",
            "Test Accuracy: 91.12%\n",
            "Confusion Matrix (Epoch 66):\n",
            "[[934   4   9   7   3   2   2   4  24  11]\n",
            " [  6 955   2   2   0   0   3   1   7  24]\n",
            " [ 19   0 902  19  23  11  13  10   2   1]\n",
            " [  5   2  29 801  19 108  19  10   4   3]\n",
            " [  6   1  21  24 899  11  12  22   2   2]\n",
            " [  3   1  16  82  14 865   8  10   0   1]\n",
            " [  7   1  17  16   3  10 941   1   1   3]\n",
            " [  6   1  16   9  14  24   1 925   2   2]\n",
            " [ 16   9   3   2   4   1   1   1 955   8]\n",
            " [ 11  28   1   4   0   4   1   1  15 935]]\n"
          ]
        },
        {
          "output_type": "stream",
          "name": "stderr",
          "text": [
            "/usr/local/lib/python3.11/dist-packages/torch/utils/data/dataloader.py:624: UserWarning: This DataLoader will create 4 worker processes in total. Our suggested max number of worker in current system is 2, which is smaller than what this DataLoader is going to create. Please be aware that excessive worker creation might get DataLoader running slow or even freeze, lower the worker number to avoid potential slowness/freeze if necessary.\n",
            "  warnings.warn(\n"
          ]
        },
        {
          "output_type": "stream",
          "name": "stdout",
          "text": [
            "Epoch 67: Loss: 0.5463, Train Accuracy: 98.10%\n",
            "Test Accuracy: 91.06%\n",
            "Confusion Matrix (Epoch 67):\n",
            "[[933   5   8   8   3   2   2   4  25  10]\n",
            " [  6 954   2   2   0   0   2   1   7  26]\n",
            " [ 18   0 897  22  23  13  14  10   2   1]\n",
            " [  6   2  28 804  17 109  18   9   4   3]\n",
            " [  6   1  19  23 899  13  13  21   3   2]\n",
            " [  3   1  16  86  14 861   8  10   0   1]\n",
            " [  7   1  16  20   2  10 940   1   1   2]\n",
            " [  6   2  14  11  14  24   1 925   2   1]\n",
            " [ 17   8   3   1   2   1   1   1 960   6]\n",
            " [ 11  29   1   5   0   4   1   1  15 933]]\n"
          ]
        },
        {
          "output_type": "stream",
          "name": "stderr",
          "text": [
            "/usr/local/lib/python3.11/dist-packages/torch/utils/data/dataloader.py:624: UserWarning: This DataLoader will create 4 worker processes in total. Our suggested max number of worker in current system is 2, which is smaller than what this DataLoader is going to create. Please be aware that excessive worker creation might get DataLoader running slow or even freeze, lower the worker number to avoid potential slowness/freeze if necessary.\n",
            "  warnings.warn(\n"
          ]
        },
        {
          "output_type": "stream",
          "name": "stdout",
          "text": [
            "Epoch 68: Loss: 0.5472, Train Accuracy: 98.10%\n",
            "Test Accuracy: 91.01%\n",
            "Confusion Matrix (Epoch 68):\n",
            "[[936   5   8   6   3   2   2   4  24  10]\n",
            " [  6 956   2   2   0   0   3   1   6  24]\n",
            " [ 22   0 891  21  26  14  13  10   2   1]\n",
            " [  5   2  26 802  19 110  18  11   4   3]\n",
            " [  6   1  19  23 898  14  10  24   3   2]\n",
            " [  4   1  15  83  15 862  10   9   0   1]\n",
            " [  7   1  14  19   3  10 942   1   1   2]\n",
            " [  6   1  14  11  12  20   1 931   2   2]\n",
            " [ 24   8   2   2   4   1   2   1 949   7]\n",
            " [ 11  29   1   4   0   4   1   1  15 934]]\n"
          ]
        },
        {
          "output_type": "stream",
          "name": "stderr",
          "text": [
            "/usr/local/lib/python3.11/dist-packages/torch/utils/data/dataloader.py:624: UserWarning: This DataLoader will create 4 worker processes in total. Our suggested max number of worker in current system is 2, which is smaller than what this DataLoader is going to create. Please be aware that excessive worker creation might get DataLoader running slow or even freeze, lower the worker number to avoid potential slowness/freeze if necessary.\n",
            "  warnings.warn(\n"
          ]
        },
        {
          "output_type": "stream",
          "name": "stdout",
          "text": [
            "Epoch 69: Loss: 0.5454, Train Accuracy: 98.19%\n",
            "Test Accuracy: 91.05%\n",
            "Confusion Matrix (Epoch 69):\n",
            "[[934   5   8   7   3   2   2   4  25  10]\n",
            " [  6 954   2   2   0   0   2   1   8  25]\n",
            " [ 18   0 895  22  25  16  13   8   2   1]\n",
            " [  5   1  26 806  16 111  18  10   4   3]\n",
            " [  6   1  19  24 900  14  11  21   3   1]\n",
            " [  3   1  15  86  15 861   8  10   0   1]\n",
            " [  7   1  14  22   3  10 939   1   1   2]\n",
            " [  6   1  15  11  13  22   1 927   2   2]\n",
            " [ 16   9   2   3   4   2   2   1 954   7]\n",
            " [ 11  27   1   5   0   4   1   1  15 935]]\n"
          ]
        },
        {
          "output_type": "stream",
          "name": "stderr",
          "text": [
            "/usr/local/lib/python3.11/dist-packages/torch/utils/data/dataloader.py:624: UserWarning: This DataLoader will create 4 worker processes in total. Our suggested max number of worker in current system is 2, which is smaller than what this DataLoader is going to create. Please be aware that excessive worker creation might get DataLoader running slow or even freeze, lower the worker number to avoid potential slowness/freeze if necessary.\n",
            "  warnings.warn(\n"
          ]
        },
        {
          "output_type": "stream",
          "name": "stdout",
          "text": [
            "Epoch 70: Loss: 0.5463, Train Accuracy: 98.04%\n",
            "Test Accuracy: 91.04%\n",
            "Confusion Matrix (Epoch 70):\n",
            "[[933   5   8   8   3   2   2   3  26  10]\n",
            " [  6 957   2   2   0   0   2   1   8  22]\n",
            " [ 19   0 896  21  24  13  14  10   2   1]\n",
            " [  6   2  25 805  19 108  18  10   4   3]\n",
            " [  6   1  20  26 896  12  12  23   3   1]\n",
            " [  3   1  16  89  18 853  10   9   0   1]\n",
            " [  7   1  15  20   2  10 941   1   1   2]\n",
            " [  6   1  13  12  13  18   1 932   2   2]\n",
            " [ 18   8   2   3   2   1   1   1 958   6]\n",
            " [ 11  31   1   3   0   4   1   2  14 933]]\n"
          ]
        }
      ]
    },
    {
      "cell_type": "code",
      "source": [
        "plt.plot(acc_list)\n",
        "plt.title('Accuracy')\n",
        "plt.xlabel('Epoch')\n",
        "plt.xticks(np.arange(0,70,10))\n",
        "plt.ylabel('Accuracy')\n",
        "plt.show()"
      ],
      "metadata": {
        "colab": {
          "base_uri": "https://localhost:8080/",
          "height": 472
        },
        "id": "BvNbkM600txP",
        "outputId": "9a4c2bad-f824-43df-f2d9-8cb76944c4b4"
      },
      "execution_count": 9,
      "outputs": [
        {
          "output_type": "display_data",
          "data": {
            "text/plain": [
              "<Figure size 640x480 with 1 Axes>"
            ],
            "image/png": "[encoded data removed]"
          },
          "metadata": {}
        }
      ]
    },
    {
      "cell_type": "code",
      "source": [
        "plt.plot(train_acc_list)\n",
        "plt.title('Training Accuracy')\n",
        "plt.xlabel('Epoch')\n",
        "plt.xticks(np.arange(0,70,10))\n",
        "plt.ylabel('Accuracy')\n",
        "plt.show()"
      ],
      "metadata": {
        "colab": {
          "base_uri": "https://localhost:8080/",
          "height": 472
        },
        "id": "RCbp7dPC0ybY",
        "outputId": "3b792ef5-0158-4b48-f064-26c76a530c48"
      },
      "execution_count": 10,
      "outputs": [
        {
          "output_type": "display_data",
          "data": {
            "text/plain": [
              "<Figure size 640x480 with 1 Axes>"
            ],
            "image/png": "[encoded data removed]"
          },
          "metadata": {}
        }
      ]
    },
    {
      "cell_type": "code",
      "source": [
        "plt.plot(loss_list)\n",
        "plt.title('Cross Entropy Loss')\n",
        "plt.xlabel('Epoch')\n",
        "plt.xticks(np.arange(0,70,10))\n",
        "plt.ylabel('Accuracy')\n",
        "plt.show()"
      ],
      "metadata": {
        "colab": {
          "base_uri": "https://localhost:8080/",
          "height": 472
        },
        "id": "9SDGO5Ez01o-",
        "outputId": "f895cb67-4c8b-47bf-d963-533afb6a2a01"
      },
      "execution_count": 11,
      "outputs": [
        {
          "output_type": "display_data",
          "data": {
            "text/plain": [
              "<Figure size 640x480 with 1 Axes>"
            ],
            "image/png": "[encoded data removed]"
          },
          "metadata": {}
        }
      ]
    }
  ]
}