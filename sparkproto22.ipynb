{
  "nbformat": 4,
  "nbformat_minor": 0,
  "metadata": {
    "colab": {
      "provenance": [],
      "gpuType": "T4",
      "authorship_tag": "ABX9TyOCq8VEmn9f2RZeuGqyXcbr",
      "include_colab_link": true
    },
    "kernelspec": {
      "name": "python3",
      "display_name": "Python 3"
    },
    "language_info": {
      "name": "python"
    },
    "accelerator": "GPU"
  },
  "cells": [
    {
      "cell_type": "markdown",
      "metadata": {
        "id": "view-in-github",
        "colab_type": "text"
      },
      "source": [
        "<a href=\"https://colab.research.google.com/github/armarmarm927/dl_lecture_competition_pub/blob/main/sparkproto22.ipynb\" target=\"_parent\"><img src=\"https://colab.research.google.com/assets/colab-badge.svg\" alt=\"Open In Colab\"/></a>"
      ]
    },
    {
      "cell_type": "code",
      "execution_count": 1,
      "metadata": {
        "id": "yBlR7xzY0IYX"
      },
      "outputs": [],
      "source": [
        "import torch\n",
        "import torch.nn as nn\n",
        "import torch.optim as optim\n",
        "import torchvision.transforms as transforms\n",
        "import torchvision.datasets as datasets\n",
        "import torchvision.models as models\n",
        "from torch.utils.data import DataLoader\n",
        "from sklearn.metrics import confusion_matrix\n",
        "import numpy as np\n",
        "import matplotlib.pyplot as plt"
      ]
    },
    {
      "cell_type": "code",
      "source": [
        "from google.colab import drive\n",
        "drive.mount('/content/drive')"
      ],
      "metadata": {
        "colab": {
          "base_uri": "https://localhost:8080/"
        },
        "id": "JL5ZeUod0LMO",
        "outputId": "c8b3048a-2b62-47ec-cc2c-556d1e45483a"
      },
      "execution_count": 2,
      "outputs": [
        {
          "output_type": "stream",
          "name": "stdout",
          "text": [
            "Mounted at /content/drive\n"
          ]
        }
      ]
    },
    {
      "cell_type": "code",
      "source": [
        "device = torch.device(\"cuda\" if torch.cuda.is_available() else \"cpu\")"
      ],
      "metadata": {
        "id": "GeGZKbbA0Nss"
      },
      "execution_count": 3,
      "outputs": []
    },
    {
      "cell_type": "code",
      "source": [
        "transform_train = transforms.Compose([\n",
        "    transforms.RandomHorizontalFlip(),\n",
        "    transforms.RandomCrop(32, padding=4),\n",
        "    transforms.RandomAffine([-10,10],scale=(1,1.25)),\n",
        "    transforms.ColorJitter(brightness=0.2, contrast=0.2, saturation=0.2),\n",
        "    transforms.ToTensor(),\n",
        "    transforms.Normalize((0.4914, 0.4822, 0.4465),(0.2023, 0.1994, 0.2010)),\n",
        "    transforms.RandomErasing(p=0.5,scale=(0.02,0.33),ratio=(0.3,3.3),value=0,inplace=False)\n",
        "])\n",
        "\n",
        "transform_test = transforms.Compose([\n",
        "    transforms.ToTensor(),\n",
        "    transforms.Normalize((0.4914, 0.4822, 0.4465),(0.2023, 0.1994, 0.2010))\n",
        "])"
      ],
      "metadata": {
        "id": "ziHGnHdL0Qk4"
      },
      "execution_count": 4,
      "outputs": []
    },
    {
      "cell_type": "code",
      "source": [
        "train_dataset = datasets.CIFAR10(root='./data', train=True, download=True, transform=transform_train)\n",
        "test_dataset = datasets.CIFAR10(root='./data', train=False, download=True, transform=transform_test)\n",
        "\n",
        "train_loader = DataLoader(train_dataset, batch_size=128, shuffle=True, num_workers=4)\n",
        "test_loader = DataLoader(test_dataset, batch_size=128, shuffle=False, num_workers=4)"
      ],
      "metadata": {
        "colab": {
          "base_uri": "https://localhost:8080/"
        },
        "id": "_S5hqyVn0U6Z",
        "outputId": "4e30a63d-dbc0-4a26-e57e-ef9c490a34f7"
      },
      "execution_count": 5,
      "outputs": [
        {
          "output_type": "stream",
          "name": "stderr",
          "text": [
            "100%|██████████| 170M/170M [00:38<00:00, 4.38MB/s]\n",
            "/usr/local/lib/python3.11/dist-packages/torch/utils/data/dataloader.py:624: UserWarning: This DataLoader will create 4 worker processes in total. Our suggested max number of worker in current system is 2, which is smaller than what this DataLoader is going to create. Please be aware that excessive worker creation might get DataLoader running slow or even freeze, lower the worker number to avoid potential slowness/freeze if necessary.\n",
            "  warnings.warn(\n"
          ]
        }
      ]
    },
    {
      "cell_type": "code",
      "source": [
        "model_ft = models.resnet50(weights=models.ResNet50_Weights.IMAGENET1K_V2)\n",
        "model_ft.fc = nn.Linear(model_ft.fc.in_features, 10)\n",
        "net = model_ft.to(device)"
      ],
      "metadata": {
        "id": "zCz0IQj10XyK",
        "colab": {
          "base_uri": "https://localhost:8080/"
        },
        "outputId": "8021a20b-399a-43a3-ced1-4bd6bd211c9f"
      },
      "execution_count": 6,
      "outputs": [
        {
          "output_type": "stream",
          "name": "stderr",
          "text": [
            "Downloading: \"https://download.pytorch.org/models/resnet50-11ad3fa6.pth\" to /root/.cache/torch/hub/checkpoints/resnet50-11ad3fa6.pth\n",
            "100%|██████████| 97.8M/97.8M [00:00<00:00, 172MB/s]\n"
          ]
        }
      ]
    },
    {
      "cell_type": "code",
      "source": [
        "criterion = nn.CrossEntropyLoss(label_smoothing=0.1)\n",
        "optimizer = optim.SGD(net.parameters(),lr=0.1,momentum=0.9,weight_decay=0.00005)\n",
        "scheduler = optim.lr_scheduler.MultiStepLR(optimizer, milestones=[60,120,160], gamma=0.2)"
      ],
      "metadata": {
        "id": "EsTHJvID0b0M"
      },
      "execution_count": 7,
      "outputs": []
    },
    {
      "cell_type": "code",
      "source": [
        "def mixup_data(x, y, alpha=1.0):\n",
        "    if alpha > 0:\n",
        "        lam = np.random.beta(alpha, alpha)\n",
        "    else:\n",
        "        lam = 1\n",
        "\n",
        "    batch_size = x.size()[0]\n",
        "    index = torch.randperm(batch_size).to(device)\n",
        "\n",
        "    mixed_x = lam * x + (1 - lam) * x[index, :]\n",
        "    y_a, y_b = y, y[index]\n",
        "    return mixed_x, y_a, y_b, lam"
      ],
      "metadata": {
        "id": "tDrTZJrSVj8h"
      },
      "execution_count": 8,
      "outputs": []
    },
    {
      "cell_type": "code",
      "source": [
        "num_epochs = 200\n",
        "loss_list = []\n",
        "acc_list = []\n",
        "train_acc_list = []\n",
        "\n",
        "for epoch in range(num_epochs):\n",
        "    net.train()\n",
        "    correct_train = 0\n",
        "    total_train = 0\n",
        "    epoch_loss = 0\n",
        "\n",
        "    for inputs, labels in train_loader:\n",
        "        inputs, labels = inputs.to(device), labels.to(device)\n",
        "\n",
        "        inputs, targets_a, targets_b, lam = mixup_data(inputs, labels, alpha=1.0)\n",
        "\n",
        "        optimizer.zero_grad()\n",
        "        outputs = net(inputs)\n",
        "        loss = lam * criterion(outputs, targets_a) + (1 - lam) * criterion(outputs, targets_b)\n",
        "        loss.backward()\n",
        "        optimizer.step()\n",
        "\n",
        "        epoch_loss += loss.item()\n",
        "        _, predicted = torch.max(outputs, 1)\n",
        "        correct_train += (predicted == labels).sum().item()\n",
        "        total_train += labels.size(0)\n",
        "\n",
        "    train_accuracy = 100. * correct_train / total_train\n",
        "    train_acc_list.append(train_accuracy)\n",
        "    print(f'Epoch {epoch+1}: Loss: {epoch_loss/len(train_loader):.4f}, Train Accuracy: {train_accuracy:.2f}%')\n",
        "    loss_list.append(epoch_loss/len(train_loader))\n",
        "\n",
        "    net.eval()\n",
        "    correct = 0\n",
        "    total = 0\n",
        "    y_true = []\n",
        "    y_pred = []\n",
        "\n",
        "    with torch.no_grad():\n",
        "        for inputs, labels in test_loader:\n",
        "            inputs, labels = inputs.to(device), labels.to(device)\n",
        "            outputs = net(inputs)\n",
        "            _, predicted = torch.max(outputs, 1)\n",
        "            correct += (predicted == labels).sum().item()\n",
        "            total += labels.size(0)\n",
        "            y_true.extend(labels.cpu().numpy())\n",
        "            y_pred.extend(predicted.cpu().numpy())\n",
        "\n",
        "    test_accuracy = 100. * correct / total\n",
        "    acc_list.append(test_accuracy)\n",
        "    print(f'Test Accuracy: {test_accuracy:.2f}%')\n",
        "\n",
        "    # 混同行列の出力\n",
        "    cm = confusion_matrix(y_true, y_pred)\n",
        "    print(f'Confusion Matrix (Epoch {epoch+1}):')\n",
        "    print(cm)\n",
        "\n",
        "    scheduler.step()\n",
        "    torch.save(net.state_dict(), '/content/drive/MyDrive/Weight_Epoch50.pth')"
      ],
      "metadata": {
        "colab": {
          "base_uri": "https://localhost:8080/"
        },
        "id": "TYZ13KVt0gkU",
        "outputId": "427cc46e-fd24-42aa-d112-c0751df6aeba"
      },
      "execution_count": null,
      "outputs": [
        {
          "output_type": "stream",
          "name": "stdout",
          "text": [
            "Epoch 1: Loss: 2.1109, Train Accuracy: 22.03%\n",
            "Test Accuracy: 49.00%\n",
            "Confusion Matrix (Epoch 1):\n",
            "[[771  37 109   3   1  13   8   8  30  20]\n",
            " [129 756  10   6   1   7  10  14  19  48]\n",
            " [134  24 358  24  61 183 175  22  10   9]\n",
            " [ 39  16 159  79  27 560  51  22  28  19]\n",
            " [ 78  13 176   7 230 186 154 141   8   7]\n",
            " [ 21  10 129  23  22 726  29  24  12   4]\n",
            " [ 16  10 127  88  69 122 537  13  10   8]\n",
            " [ 36  11  99   5  31 239   6 546   3  24]\n",
            " [437  65  32   4   0  14   3   0 429  16]\n",
            " [143 293  18   6   1  12   8  28  23 468]]\n"
          ]
        },
        {
          "output_type": "stream",
          "name": "stderr",
          "text": [
            "/usr/local/lib/python3.11/dist-packages/torch/utils/data/dataloader.py:624: UserWarning: This DataLoader will create 4 worker processes in total. Our suggested max number of worker in current system is 2, which is smaller than what this DataLoader is going to create. Please be aware that excessive worker creation might get DataLoader running slow or even freeze, lower the worker number to avoid potential slowness/freeze if necessary.\n",
            "  warnings.warn(\n"
          ]
        },
        {
          "output_type": "stream",
          "name": "stdout",
          "text": [
            "Epoch 2: Loss: 1.8813, Train Accuracy: 33.37%\n",
            "Test Accuracy: 60.65%\n",
            "Confusion Matrix (Epoch 2):\n",
            "[[801  11  19   2   1   2   3   5 106  50]\n",
            " [ 28 619   2   0   0   1   0   0  94 256]\n",
            " [229  24 410  17  76  51 110  31  16  36]\n",
            " [ 90  29  86 248  27 229 106  39  50  96]\n",
            " [138  16 128  31 351  18 131  98  33  56]\n",
            " [ 44  15  70  71  23 594  22  82  16  63]\n",
            " [ 36  27  69  27  20  27 714   5  22  53]\n",
            " [119  20  51   7  50  38   9 593   5 108]\n",
            " [ 80  10   4   2   1   3   1   0 866  33]\n",
            " [ 35  37   3   2   0   0   1   1  52 869]]\n"
          ]
        },
        {
          "output_type": "stream",
          "name": "stderr",
          "text": [
            "/usr/local/lib/python3.11/dist-packages/torch/utils/data/dataloader.py:624: UserWarning: This DataLoader will create 4 worker processes in total. Our suggested max number of worker in current system is 2, which is smaller than what this DataLoader is going to create. Please be aware that excessive worker creation might get DataLoader running slow or even freeze, lower the worker number to avoid potential slowness/freeze if necessary.\n",
            "  warnings.warn(\n"
          ]
        },
        {
          "output_type": "stream",
          "name": "stdout",
          "text": [
            "Epoch 3: Loss: 1.7749, Train Accuracy: 35.82%\n",
            "Test Accuracy: 65.94%\n",
            "Confusion Matrix (Epoch 3):\n",
            "[[613  60 111   1   0   9   3  38  99  66]\n",
            " [  2 885   4   0   0   2   1   4  23  79]\n",
            " [ 48  19 620  17  42  95  40  90  12  17]\n",
            " [ 15  27  86 209  18 396  21 151  41  36]\n",
            " [ 46  18  98  39 357  46  37 333  14  12]\n",
            " [  5  13  57  31  17 691   5 148  13  20]\n",
            " [  4  44  91  60  37  74 614  27  23  26]\n",
            " [  4  10  18  11   0  48   5 890   2  12]\n",
            " [ 43  42   3   1   1   5   1   6 865  33]\n",
            " [ 14  86   5   2   0   2   0  22  19 850]]\n"
          ]
        },
        {
          "output_type": "stream",
          "name": "stderr",
          "text": [
            "/usr/local/lib/python3.11/dist-packages/torch/utils/data/dataloader.py:624: UserWarning: This DataLoader will create 4 worker processes in total. Our suggested max number of worker in current system is 2, which is smaller than what this DataLoader is going to create. Please be aware that excessive worker creation might get DataLoader running slow or even freeze, lower the worker number to avoid potential slowness/freeze if necessary.\n",
            "  warnings.warn(\n"
          ]
        },
        {
          "output_type": "stream",
          "name": "stdout",
          "text": [
            "Epoch 4: Loss: 1.7443, Train Accuracy: 35.31%\n",
            "Test Accuracy: 65.97%\n",
            "Confusion Matrix (Epoch 4):\n",
            "[[827  78  42   2   2   0   3   4  37   5]\n",
            " [ 10 976   1   4   1   2   4   1   0   1]\n",
            " [123   9 712  18  21  40  64   9   3   1]\n",
            " [ 61  26 129 482  18 168  75  12  23   6]\n",
            " [ 71   8 218  50 518  18  85  23   8   1]\n",
            " [ 30  11 116 157  23 614  27  15   5   2]\n",
            " [  6  11 124  41   6  14 788   2   8   0]\n",
            " [ 74  19 103  52  85  66  16 576   0   9]\n",
            " [ 82 118  13   4   1   3   4   0 771   4]\n",
            " [ 49 547   5  10   1   8  16  10  21 333]]\n"
          ]
        },
        {
          "output_type": "stream",
          "name": "stderr",
          "text": [
            "/usr/local/lib/python3.11/dist-packages/torch/utils/data/dataloader.py:624: UserWarning: This DataLoader will create 4 worker processes in total. Our suggested max number of worker in current system is 2, which is smaller than what this DataLoader is going to create. Please be aware that excessive worker creation might get DataLoader running slow or even freeze, lower the worker number to avoid potential slowness/freeze if necessary.\n",
            "  warnings.warn(\n"
          ]
        },
        {
          "output_type": "stream",
          "name": "stdout",
          "text": [
            "Epoch 5: Loss: 1.7100, Train Accuracy: 37.42%\n",
            "Test Accuracy: 73.81%\n",
            "Confusion Matrix (Epoch 5):\n",
            "[[783  34  27   8  10   2   4  24  92  16]\n",
            " [ 11 931   1   6   3   6   2   8   9  23]\n",
            " [ 76   3 608  44  51  58  74  62  14  10]\n",
            " [ 11  15  32 497  37 254  51  78  19   6]\n",
            " [ 18   3  58  44 599  28  65 163  20   2]\n",
            " [ 11   3  29  95  24 717  14  91  11   5]\n",
            " [  6   6  43  54  17  47 807  16   2   2]\n",
            " [  8   5  12  18  12  51   4 880   4   6]\n",
            " [ 35  48   4   8   2   3   2   3 888   7]\n",
            " [ 33 213   3   6   2  11   3  18  40 671]]\n"
          ]
        },
        {
          "output_type": "stream",
          "name": "stderr",
          "text": [
            "/usr/local/lib/python3.11/dist-packages/torch/utils/data/dataloader.py:624: UserWarning: This DataLoader will create 4 worker processes in total. Our suggested max number of worker in current system is 2, which is smaller than what this DataLoader is going to create. Please be aware that excessive worker creation might get DataLoader running slow or even freeze, lower the worker number to avoid potential slowness/freeze if necessary.\n",
            "  warnings.warn(\n"
          ]
        },
        {
          "output_type": "stream",
          "name": "stdout",
          "text": [
            "Epoch 6: Loss: 1.6944, Train Accuracy: 39.70%\n",
            "Test Accuracy: 70.34%\n",
            "Confusion Matrix (Epoch 6):\n",
            "[[944  17  10   3   1   0   0   5  18   2]\n",
            " [ 35 919   4   0   0   2   2   2  23  13]\n",
            " [150   3 736  17  15  20  33  23   2   1]\n",
            " [113  19 156 439  18 133  28  39  52   3]\n",
            " [115   6 151  39 512  21  45 104   6   1]\n",
            " [ 60   9 127  99  17 619   8  50  11   0]\n",
            " [ 24  15 154  32   8  25 728  12   2   0]\n",
            " [ 61   4  60  41   8  23   1 795   3   4]\n",
            " [201  20  13   1   1   1   1   2 756   4]\n",
            " [116 246   9   0   1   5   2   9  26 586]]\n"
          ]
        },
        {
          "output_type": "stream",
          "name": "stderr",
          "text": [
            "/usr/local/lib/python3.11/dist-packages/torch/utils/data/dataloader.py:624: UserWarning: This DataLoader will create 4 worker processes in total. Our suggested max number of worker in current system is 2, which is smaller than what this DataLoader is going to create. Please be aware that excessive worker creation might get DataLoader running slow or even freeze, lower the worker number to avoid potential slowness/freeze if necessary.\n",
            "  warnings.warn(\n"
          ]
        },
        {
          "output_type": "stream",
          "name": "stdout",
          "text": [
            "Epoch 7: Loss: 1.6457, Train Accuracy: 39.08%\n",
            "Test Accuracy: 73.79%\n",
            "Confusion Matrix (Epoch 7):\n",
            "[[829  12  60   4   8   4   0   8  63  12]\n",
            " [ 22 881   7   2   0  12   2   1  54  19]\n",
            " [ 48   3 761  22  36  65  14  33   4  14]\n",
            " [ 44   6  79 376  36 329  16  64  36  14]\n",
            " [ 34   3  91  38 607  60  25 119  19   4]\n",
            " [ 16   1  51  46  20 773   4  65  15   9]\n",
            " [ 14   9 119  42  29  94 670   8  11   4]\n",
            " [ 25   4  32   6  13  52   2 849   5  12]\n",
            " [ 51   5  13   4   2   6   0   1 915   3]\n",
            " [ 78 123   5   8   0   9   1   6  52 718]]\n"
          ]
        },
        {
          "output_type": "stream",
          "name": "stderr",
          "text": [
            "/usr/local/lib/python3.11/dist-packages/torch/utils/data/dataloader.py:624: UserWarning: This DataLoader will create 4 worker processes in total. Our suggested max number of worker in current system is 2, which is smaller than what this DataLoader is going to create. Please be aware that excessive worker creation might get DataLoader running slow or even freeze, lower the worker number to avoid potential slowness/freeze if necessary.\n",
            "  warnings.warn(\n"
          ]
        },
        {
          "output_type": "stream",
          "name": "stdout",
          "text": [
            "Epoch 8: Loss: 1.6625, Train Accuracy: 38.24%\n",
            "Test Accuracy: 76.43%\n",
            "Confusion Matrix (Epoch 8):\n",
            "[[897   7   5   5   7   1   3  17  41  17]\n",
            " [ 35 874   2   3   2   0   2   8  24  50]\n",
            " [ 94   2 609  23  94  23  80  59  13   3]\n",
            " [ 61   6  35 469  34 177  47 116  39  16]\n",
            " [ 43   1  20  32 714  28  25 121  13   3]\n",
            " [ 33   5  38  95  28 642  12 122  18   7]\n",
            " [ 18   2  12  31  47  28 829  17  10   6]\n",
            " [ 20   1   8  11  21  19   3 912   2   3]\n",
            " [ 87  10   5   1   4   1   1   5 875  11]\n",
            " [ 46  76   2   2   1   1   2  17  31 822]]\n"
          ]
        },
        {
          "output_type": "stream",
          "name": "stderr",
          "text": [
            "/usr/local/lib/python3.11/dist-packages/torch/utils/data/dataloader.py:624: UserWarning: This DataLoader will create 4 worker processes in total. Our suggested max number of worker in current system is 2, which is smaller than what this DataLoader is going to create. Please be aware that excessive worker creation might get DataLoader running slow or even freeze, lower the worker number to avoid potential slowness/freeze if necessary.\n",
            "  warnings.warn(\n"
          ]
        },
        {
          "output_type": "stream",
          "name": "stdout",
          "text": [
            "Epoch 9: Loss: 1.6211, Train Accuracy: 40.94%\n",
            "Test Accuracy: 76.71%\n",
            "Confusion Matrix (Epoch 9):\n",
            "[[845  32  14   3   2   5   3  20  37  39]\n",
            " [ 10 929   2   0   0   9   1   2  10  37]\n",
            " [ 75   4 677  34  38  75  48  31  10   8]\n",
            " [ 46   7  49 437  25 323  25  57  17  14]\n",
            " [ 20   7  34  40 637  49  59 139  10   5]\n",
            " [ 23   4  29  43  20 821   4  50   2   4]\n",
            " [ 25  10  24  51  17  69 780  15   7   2]\n",
            " [ 14   3   8  10   9  61   1 878   2  14]\n",
            " [ 73  37   4   0   2   8   1   7 854  14]\n",
            " [ 33 116   5   2   0   8   0  14   9 813]]\n"
          ]
        },
        {
          "output_type": "stream",
          "name": "stderr",
          "text": [
            "/usr/local/lib/python3.11/dist-packages/torch/utils/data/dataloader.py:624: UserWarning: This DataLoader will create 4 worker processes in total. Our suggested max number of worker in current system is 2, which is smaller than what this DataLoader is going to create. Please be aware that excessive worker creation might get DataLoader running slow or even freeze, lower the worker number to avoid potential slowness/freeze if necessary.\n",
            "  warnings.warn(\n"
          ]
        },
        {
          "output_type": "stream",
          "name": "stdout",
          "text": [
            "Epoch 10: Loss: 1.5848, Train Accuracy: 40.22%\n",
            "Test Accuracy: 74.92%\n",
            "Confusion Matrix (Epoch 10):\n",
            "[[875  23  32   3   6   0   1   7  44   9]\n",
            " [ 16 947   2   0   0   1   2   3  20   9]\n",
            " [ 61   2 809   5  33  10  55  17   7   1]\n",
            " [ 76  26 161 375  63  55 139  54  45   6]\n",
            " [ 34   4  84   6 712   6  74  68  11   1]\n",
            " [ 31  11 168  95  40 494  68  76  14   3]\n",
            " [ 14  12  76   6   5   3 875   5   4   0]\n",
            " [ 23   7  47   6  13   9   9 879   2   5]\n",
            " [ 78  46  13   0   1   1   1   1 858   1]\n",
            " [ 62 219   9   2   0   0   4   4  32 668]]\n"
          ]
        },
        {
          "output_type": "stream",
          "name": "stderr",
          "text": [
            "/usr/local/lib/python3.11/dist-packages/torch/utils/data/dataloader.py:624: UserWarning: This DataLoader will create 4 worker processes in total. Our suggested max number of worker in current system is 2, which is smaller than what this DataLoader is going to create. Please be aware that excessive worker creation might get DataLoader running slow or even freeze, lower the worker number to avoid potential slowness/freeze if necessary.\n",
            "  warnings.warn(\n"
          ]
        },
        {
          "output_type": "stream",
          "name": "stdout",
          "text": [
            "Epoch 11: Loss: 1.6374, Train Accuracy: 39.24%\n",
            "Test Accuracy: 72.38%\n",
            "Confusion Matrix (Epoch 11):\n",
            "[[798  20  70  10   3   8   1  32  46  12]\n",
            " [ 14 908  20   3   0  12   1  15  10  17]\n",
            " [ 41   3 788  27  33  69   7  26   3   3]\n",
            " [ 18   7  88 523  16 302  16  22   4   4]\n",
            " [ 17   7 137  65 537 115  18  96   7   1]\n",
            " [  4   5  83  87  13 781   1  23   2   1]\n",
            " [ 13   9  83  80  13 160 620  11   2   9]\n",
            " [  7   3  41  23   6 145   0 767   1   7]\n",
            " [ 69  49  37  14   0  13   1   8 800   9]\n",
            " [ 39 154  15  11   0  27   0  19  19 716]]\n"
          ]
        },
        {
          "output_type": "stream",
          "name": "stderr",
          "text": [
            "/usr/local/lib/python3.11/dist-packages/torch/utils/data/dataloader.py:624: UserWarning: This DataLoader will create 4 worker processes in total. Our suggested max number of worker in current system is 2, which is smaller than what this DataLoader is going to create. Please be aware that excessive worker creation might get DataLoader running slow or even freeze, lower the worker number to avoid potential slowness/freeze if necessary.\n",
            "  warnings.warn(\n"
          ]
        },
        {
          "output_type": "stream",
          "name": "stdout",
          "text": [
            "Epoch 12: Loss: 1.5868, Train Accuracy: 38.69%\n",
            "Test Accuracy: 72.80%\n",
            "Confusion Matrix (Epoch 12):\n",
            "[[877   7  44  27   2   9   0   9  19   6]\n",
            " [140 786  21  11   0  12   1   3  22   4]\n",
            " [ 49   1 755  80  13  73   7  17   4   1]\n",
            " [ 19   0  43 694  11 216   3  10   2   2]\n",
            " [ 25   4 110 114 558  81  10  88  10   0]\n",
            " [  7   3  34 137   9 780   0  29   1   0]\n",
            " [ 19   3  95 175  16  73 601  11   7   0]\n",
            " [ 17   0  20  53   4  98   0 805   1   2]\n",
            " [104  13  18  34   2   9   1   2 816   1]\n",
            " [ 61 185  22  46   1  38   0  13  26 608]]\n"
          ]
        },
        {
          "output_type": "stream",
          "name": "stderr",
          "text": [
            "/usr/local/lib/python3.11/dist-packages/torch/utils/data/dataloader.py:624: UserWarning: This DataLoader will create 4 worker processes in total. Our suggested max number of worker in current system is 2, which is smaller than what this DataLoader is going to create. Please be aware that excessive worker creation might get DataLoader running slow or even freeze, lower the worker number to avoid potential slowness/freeze if necessary.\n",
            "  warnings.warn(\n"
          ]
        },
        {
          "output_type": "stream",
          "name": "stdout",
          "text": [
            "Epoch 13: Loss: 1.6404, Train Accuracy: 39.13%\n",
            "Test Accuracy: 78.40%\n",
            "Confusion Matrix (Epoch 13):\n",
            "[[820  33  25   4   3   4   3  26  50  32]\n",
            " [  5 952   6   0   0   6   1   5  12  13]\n",
            " [ 51   8 770  26  20  58  26  28   4   9]\n",
            " [ 19  12  55 514  28 292  20  40  16   4]\n",
            " [ 17   8  77  36 678  61  33  81   8   1]\n",
            " [ 10   3  24  61  22 825   5  45   2   3]\n",
            " [ 12  11  58  47   5  74 774   7   9   3]\n",
            " [ 10   7   9  18  12  46   3 890   3   2]\n",
            " [ 51  34  14   9   2   6   1   8 868   7]\n",
            " [ 16 153   5   8   2  13   1  28  25 749]]\n"
          ]
        },
        {
          "output_type": "stream",
          "name": "stderr",
          "text": [
            "/usr/local/lib/python3.11/dist-packages/torch/utils/data/dataloader.py:624: UserWarning: This DataLoader will create 4 worker processes in total. Our suggested max number of worker in current system is 2, which is smaller than what this DataLoader is going to create. Please be aware that excessive worker creation might get DataLoader running slow or even freeze, lower the worker number to avoid potential slowness/freeze if necessary.\n",
            "  warnings.warn(\n"
          ]
        },
        {
          "output_type": "stream",
          "name": "stdout",
          "text": [
            "Epoch 14: Loss: 1.6076, Train Accuracy: 41.20%\n",
            "Test Accuracy: 78.52%\n",
            "Confusion Matrix (Epoch 14):\n",
            "[[904  17  32   7   0   1   4   5   6  24]\n",
            " [ 13 929   3   1   0   0   6   3   7  38]\n",
            " [ 57   1 706  31  39  42  92  23   2   7]\n",
            " [ 54  14  31 603  23 153  76  30   6  10]\n",
            " [ 43   3  43  52 629  35 113  74   4   4]\n",
            " [ 29   5  26 115  20 728  27  41   4   5]\n",
            " [ 16   7  16  31   2  16 908   2   1   1]\n",
            " [ 29   2  12  22   8  41  10 868   1   7]\n",
            " [179  33  19  11   0   3   7   3 724  21]\n",
            " [ 41  75   4   6   0   3   8   5   5 853]]\n"
          ]
        },
        {
          "output_type": "stream",
          "name": "stderr",
          "text": [
            "/usr/local/lib/python3.11/dist-packages/torch/utils/data/dataloader.py:624: UserWarning: This DataLoader will create 4 worker processes in total. Our suggested max number of worker in current system is 2, which is smaller than what this DataLoader is going to create. Please be aware that excessive worker creation might get DataLoader running slow or even freeze, lower the worker number to avoid potential slowness/freeze if necessary.\n",
            "  warnings.warn(\n"
          ]
        },
        {
          "output_type": "stream",
          "name": "stdout",
          "text": [
            "Epoch 15: Loss: 1.5813, Train Accuracy: 39.40%\n",
            "Test Accuracy: 77.91%\n",
            "Confusion Matrix (Epoch 15):\n",
            "[[885  22  30  10   2   2   7  13  15  14]\n",
            " [  8 734   3   9   0   9   7   1 202  27]\n",
            " [ 53   2 697  29  28  59  86  37   4   5]\n",
            " [ 29   5  42 547  21 196 105  43   5   7]\n",
            " [ 20   2  43  39 693  36 108  57   1   1]\n",
            " [ 12   1  25  88  22 782  32  36   0   2]\n",
            " [  6   5  19  18   3  31 910   5   3   0]\n",
            " [ 13   0  13  16   9  40   9 892   1   7]\n",
            " [ 84  35  14   9   1   4   7   7 832   7]\n",
            " [ 39  81   6  11   0   3   8  11  22 819]]\n"
          ]
        },
        {
          "output_type": "stream",
          "name": "stderr",
          "text": [
            "/usr/local/lib/python3.11/dist-packages/torch/utils/data/dataloader.py:624: UserWarning: This DataLoader will create 4 worker processes in total. Our suggested max number of worker in current system is 2, which is smaller than what this DataLoader is going to create. Please be aware that excessive worker creation might get DataLoader running slow or even freeze, lower the worker number to avoid potential slowness/freeze if necessary.\n",
            "  warnings.warn(\n"
          ]
        },
        {
          "output_type": "stream",
          "name": "stdout",
          "text": [
            "Epoch 16: Loss: 1.5623, Train Accuracy: 41.27%\n",
            "Test Accuracy: 79.90%\n",
            "Confusion Matrix (Epoch 16):\n",
            "[[873  14  48   7   3   1   9   1  37   7]\n",
            " [ 11 850   7   4   0   2   2   1 110  13]\n",
            " [ 34   1 841  25  27  22  38   4   5   3]\n",
            " [ 26   3  72 686  31 121  44   6   6   5]\n",
            " [ 10   3  93  46 737  21  60  20   8   2]\n",
            " [ 13   1  55 157  27 701  25  14   3   4]\n",
            " [  4   3  49  53   5   9 875   0   2   0]\n",
            " [ 39   7  27  54  49  34  12 764   2  12]\n",
            " [ 52  21  13  11   0   0   3   0 891   9]\n",
            " [ 50 123   5  14   0   3   7   0  26 772]]\n"
          ]
        },
        {
          "output_type": "stream",
          "name": "stderr",
          "text": [
            "/usr/local/lib/python3.11/dist-packages/torch/utils/data/dataloader.py:624: UserWarning: This DataLoader will create 4 worker processes in total. Our suggested max number of worker in current system is 2, which is smaller than what this DataLoader is going to create. Please be aware that excessive worker creation might get DataLoader running slow or even freeze, lower the worker number to avoid potential slowness/freeze if necessary.\n",
            "  warnings.warn(\n"
          ]
        },
        {
          "output_type": "stream",
          "name": "stdout",
          "text": [
            "Epoch 17: Loss: 1.5604, Train Accuracy: 43.08%\n",
            "Test Accuracy: 78.87%\n",
            "Confusion Matrix (Epoch 17):\n",
            "[[878  10  17   1   5   1   0   3  75  10]\n",
            " [ 21 791   4   0   0   2   0   1 151  30]\n",
            " [ 65   0 825  10  29  23  15  13  14   6]\n",
            " [ 40   9 133 425  62 210  45  34  19  23]\n",
            " [ 29   4  83  10 760  25  19  57  13   0]\n",
            " [ 21   4  67  48  38 757  10  45   6   4]\n",
            " [ 15   3  76  23  18  20 829   4   7   5]\n",
            " [ 39   0  23   9  14  35   2 866   6   6]\n",
            " [ 28   6   5   0   2   3   1   0 951   4]\n",
            " [ 51  60   6   2   1   2   1   3  69 805]]\n"
          ]
        },
        {
          "output_type": "stream",
          "name": "stderr",
          "text": [
            "/usr/local/lib/python3.11/dist-packages/torch/utils/data/dataloader.py:624: UserWarning: This DataLoader will create 4 worker processes in total. Our suggested max number of worker in current system is 2, which is smaller than what this DataLoader is going to create. Please be aware that excessive worker creation might get DataLoader running slow or even freeze, lower the worker number to avoid potential slowness/freeze if necessary.\n",
            "  warnings.warn(\n"
          ]
        },
        {
          "output_type": "stream",
          "name": "stdout",
          "text": [
            "Epoch 18: Loss: 1.5638, Train Accuracy: 44.75%\n",
            "Test Accuracy: 78.40%\n",
            "Confusion Matrix (Epoch 18):\n",
            "[[887  21   9   7   1   5   1   6  44  19]\n",
            " [  5 849   2   2   0  10   2   0 109  21]\n",
            " [ 76   4 792  13  15  61  12  21   5   1]\n",
            " [ 49   2  71 435  24 345  28  32   5   9]\n",
            " [ 40   2 117  29 645  72  30  53  10   2]\n",
            " [ 17   3  31  43  15 853   9  28   1   0]\n",
            " [ 30   6  62  33   6  59 796   5   2   1]\n",
            " [ 20   0  18   6   9  86   0 853   2   6]\n",
            " [ 36  14   9   4   2  11   0   4 913   7]\n",
            " [ 36  85   3   6   0  16   2   7  28 817]]\n"
          ]
        },
        {
          "output_type": "stream",
          "name": "stderr",
          "text": [
            "/usr/local/lib/python3.11/dist-packages/torch/utils/data/dataloader.py:624: UserWarning: This DataLoader will create 4 worker processes in total. Our suggested max number of worker in current system is 2, which is smaller than what this DataLoader is going to create. Please be aware that excessive worker creation might get DataLoader running slow or even freeze, lower the worker number to avoid potential slowness/freeze if necessary.\n",
            "  warnings.warn(\n"
          ]
        },
        {
          "output_type": "stream",
          "name": "stdout",
          "text": [
            "Epoch 19: Loss: 1.5822, Train Accuracy: 40.12%\n",
            "Test Accuracy: 81.49%\n",
            "Confusion Matrix (Epoch 19):\n",
            "[[902  14  22   7   8   0   3   4  27  13]\n",
            " [ 21 917   4   6   0   2   4   2  25  19]\n",
            " [ 62   1 817  28  27  14  36  11   2   2]\n",
            " [ 24   1  66 745  34  71  33  15   6   5]\n",
            " [ 13   3  59  47 737  19  68  47   6   1]\n",
            " [ 12   1  53 214  29 644  15  24   4   4]\n",
            " [ 12   4  47  75   4   6 844   4   4   0]\n",
            " [ 34   2  23  56  11  24   4 840   2   4]\n",
            " [ 54  17  13  16   4   2   1   1 883   9]\n",
            " [ 39  80  12  17   1   3   4   2  22 820]]\n"
          ]
        },
        {
          "output_type": "stream",
          "name": "stderr",
          "text": [
            "/usr/local/lib/python3.11/dist-packages/torch/utils/data/dataloader.py:624: UserWarning: This DataLoader will create 4 worker processes in total. Our suggested max number of worker in current system is 2, which is smaller than what this DataLoader is going to create. Please be aware that excessive worker creation might get DataLoader running slow or even freeze, lower the worker number to avoid potential slowness/freeze if necessary.\n",
            "  warnings.warn(\n"
          ]
        },
        {
          "output_type": "stream",
          "name": "stdout",
          "text": [
            "Epoch 20: Loss: 1.5857, Train Accuracy: 41.55%\n",
            "Test Accuracy: 81.69%\n",
            "Confusion Matrix (Epoch 20):\n",
            "[[905   9  16   0   3   2   1  13  34  17]\n",
            " [  9 903   0   1   1   2   2   3  50  29]\n",
            " [ 59   6 805  12  40  30  15  23   4   6]\n",
            " [ 38  16  79 451  62 217  40  75  10  12]\n",
            " [ 17   3  55   8 812   9  29  58   8   1]\n",
            " [ 15   5  39  58  31 770   7  68   2   5]\n",
            " [ 25   6  47  20  10  21 848  13   5   5]\n",
            " [ 13   2  13   5  17  25   1 917   3   4]\n",
            " [ 46  16   5   2   1   4   0   4 905  17]\n",
            " [ 28  77   1   4   0   2   0  14  21 853]]\n"
          ]
        },
        {
          "output_type": "stream",
          "name": "stderr",
          "text": [
            "/usr/local/lib/python3.11/dist-packages/torch/utils/data/dataloader.py:624: UserWarning: This DataLoader will create 4 worker processes in total. Our suggested max number of worker in current system is 2, which is smaller than what this DataLoader is going to create. Please be aware that excessive worker creation might get DataLoader running slow or even freeze, lower the worker number to avoid potential slowness/freeze if necessary.\n",
            "  warnings.warn(\n"
          ]
        },
        {
          "output_type": "stream",
          "name": "stdout",
          "text": [
            "Epoch 21: Loss: 1.5299, Train Accuracy: 39.57%\n",
            "Test Accuracy: 79.99%\n",
            "Confusion Matrix (Epoch 21):\n",
            "[[952   7   2   3   2   8   0   5  16   5]\n",
            " [ 21 916   3   2   0   9   3   1  10  35]\n",
            " [ 95   0 690  18  35  97  32  26   5   2]\n",
            " [ 45   1  27 455  21 389  32  19   7   4]\n",
            " [ 44   1  24  27 719  69  39  72   3   2]\n",
            " [ 13   1   6  42  10 903   7  18   0   0]\n",
            " [ 18   2  11  36   4  52 870   4   1   2]\n",
            " [ 28   0   2   7   8 126   4 822   0   3]\n",
            " [107  27   2   2   0  13   1   1 837  10]\n",
            " [ 61  52   2   7   0  21   1  11  10 835]]\n"
          ]
        },
        {
          "output_type": "stream",
          "name": "stderr",
          "text": [
            "/usr/local/lib/python3.11/dist-packages/torch/utils/data/dataloader.py:624: UserWarning: This DataLoader will create 4 worker processes in total. Our suggested max number of worker in current system is 2, which is smaller than what this DataLoader is going to create. Please be aware that excessive worker creation might get DataLoader running slow or even freeze, lower the worker number to avoid potential slowness/freeze if necessary.\n",
            "  warnings.warn(\n"
          ]
        },
        {
          "output_type": "stream",
          "name": "stdout",
          "text": [
            "Epoch 22: Loss: 1.5421, Train Accuracy: 42.64%\n",
            "Test Accuracy: 78.76%\n",
            "Confusion Matrix (Epoch 22):\n",
            "[[929  14   4   3   3   3   0  11  24   9]\n",
            " [  6 692   1   2   0   3 277   1   4  14]\n",
            " [ 88   7 741  42  23  46  42   8   1   2]\n",
            " [ 81   6  32 538  28 244  41  11  15   4]\n",
            " [ 29   5  41  29 782  36  42  29   4   3]\n",
            " [ 36   3  12  68  24 833   9  12   1   2]\n",
            " [ 17  13  19  21   7  40 873   3   5   2]\n",
            " [ 21   4  10  27  22  83   4 824   2   3]\n",
            " [ 68  32   7   0   1  10   2   2 874   4]\n",
            " [ 30 123   5   8   1  15   5   5  18 790]]\n"
          ]
        },
        {
          "output_type": "stream",
          "name": "stderr",
          "text": [
            "/usr/local/lib/python3.11/dist-packages/torch/utils/data/dataloader.py:624: UserWarning: This DataLoader will create 4 worker processes in total. Our suggested max number of worker in current system is 2, which is smaller than what this DataLoader is going to create. Please be aware that excessive worker creation might get DataLoader running slow or even freeze, lower the worker number to avoid potential slowness/freeze if necessary.\n",
            "  warnings.warn(\n"
          ]
        },
        {
          "output_type": "stream",
          "name": "stdout",
          "text": [
            "Epoch 23: Loss: 1.5171, Train Accuracy: 40.37%\n",
            "Test Accuracy: 79.96%\n",
            "Confusion Matrix (Epoch 23):\n",
            "[[860  16  16   0   0   1   0  10  86  11]\n",
            " [  8 674 210   0   0   3   1   1  59  44]\n",
            " [ 39   1 824  10  26  42  20  22  10   6]\n",
            " [ 41   7  54 445  39 256  39  76  28  15]\n",
            " [ 20   5  60   7 772  26  32  65  11   2]\n",
            " [ 18   3  34  34  20 811   5  63   4   8]\n",
            " [ 16   5  40  23   8  13 860  17  11   7]\n",
            " [ 12   0  15   2  14  27   1 914   7   8]\n",
            " [ 23   5   3   1   1   2   1   2 954   8]\n",
            " [ 18  58   2   2   1   0   3   3  31 882]]\n"
          ]
        },
        {
          "output_type": "stream",
          "name": "stderr",
          "text": [
            "/usr/local/lib/python3.11/dist-packages/torch/utils/data/dataloader.py:624: UserWarning: This DataLoader will create 4 worker processes in total. Our suggested max number of worker in current system is 2, which is smaller than what this DataLoader is going to create. Please be aware that excessive worker creation might get DataLoader running slow or even freeze, lower the worker number to avoid potential slowness/freeze if necessary.\n",
            "  warnings.warn(\n"
          ]
        },
        {
          "output_type": "stream",
          "name": "stdout",
          "text": [
            "Epoch 24: Loss: 1.5257, Train Accuracy: 43.22%\n",
            "Test Accuracy: 81.77%\n",
            "Confusion Matrix (Epoch 24):\n",
            "[[929   9   5   1   2   0   2   3  46   3]\n",
            " [ 17 856   1   2   0   3   3   2 106  10]\n",
            " [ 71   3 804  22  24  22  41   5   7   1]\n",
            " [ 30   7  59 631  38 125  64  20  23   3]\n",
            " [ 28   4  73  24 781  16  55  13   5   1]\n",
            " [ 23   3  40 103  46 735  21  19   9   1]\n",
            " [ 18   5  36  23   6   7 896   3   5   1]\n",
            " [ 23   5  18  19  62  29   6 830   3   5]\n",
            " [ 43   7   0   2   0   2   2   1 941   2]\n",
            " [ 49 114   2   6   2   2   3   4  44 774]]\n"
          ]
        },
        {
          "output_type": "stream",
          "name": "stderr",
          "text": [
            "/usr/local/lib/python3.11/dist-packages/torch/utils/data/dataloader.py:624: UserWarning: This DataLoader will create 4 worker processes in total. Our suggested max number of worker in current system is 2, which is smaller than what this DataLoader is going to create. Please be aware that excessive worker creation might get DataLoader running slow or even freeze, lower the worker number to avoid potential slowness/freeze if necessary.\n",
            "  warnings.warn(\n"
          ]
        },
        {
          "output_type": "stream",
          "name": "stdout",
          "text": [
            "Epoch 25: Loss: 1.5363, Train Accuracy: 39.76%\n",
            "Test Accuracy: 80.10%\n",
            "Confusion Matrix (Epoch 25):\n",
            "[[933  10  13   5   1   0   1   4  23  10]\n",
            " [ 11 657   1   1   0   0   3   2 306  19]\n",
            " [ 50   1 868   8  18  12  26  15   1   1]\n",
            " [ 47  11 104 651  40  58  57  15  10   7]\n",
            " [ 30   0  75  22 778   4  43  40   8   0]\n",
            " [ 28   4  69 165  37 631  23  36   4   3]\n",
            " [ 11   3  61  20   3   0 898   1   1   2]\n",
            " [ 28   3  22  17  15  18   4 887   2   4]\n",
            " [ 90  25   3   3   2   1   2   0 866   8]\n",
            " [ 51  78   2   6   0   0   2   3  17 841]]\n"
          ]
        },
        {
          "output_type": "stream",
          "name": "stderr",
          "text": [
            "/usr/local/lib/python3.11/dist-packages/torch/utils/data/dataloader.py:624: UserWarning: This DataLoader will create 4 worker processes in total. Our suggested max number of worker in current system is 2, which is smaller than what this DataLoader is going to create. Please be aware that excessive worker creation might get DataLoader running slow or even freeze, lower the worker number to avoid potential slowness/freeze if necessary.\n",
            "  warnings.warn(\n"
          ]
        },
        {
          "output_type": "stream",
          "name": "stdout",
          "text": [
            "Epoch 26: Loss: 1.5231, Train Accuracy: 43.52%\n",
            "Test Accuracy: 84.32%\n",
            "Confusion Matrix (Epoch 26):\n",
            "[[891  12  16   6   0   4   2   5  42  22]\n",
            " [  8 962   1   2   0   2   1   0   7  17]\n",
            " [ 55   6 787  18  28  60  22   9  11   4]\n",
            " [ 22   7  38 625  28 189  48  20  13  10]\n",
            " [ 11   3  34  42 790  47  31  27  12   3]\n",
            " [ 11   2  16  74  22 840  15  16   1   3]\n",
            " [ 13   4  23  21   7  22 908   0   2   0]\n",
            " [ 18   2   6  20  32  55   3 847   5  12]\n",
            " [ 33  18   3   2   0   6   2   2 925   9]\n",
            " [ 16  91   3   6   0   4   3   1  19 857]]\n"
          ]
        },
        {
          "output_type": "stream",
          "name": "stderr",
          "text": [
            "/usr/local/lib/python3.11/dist-packages/torch/utils/data/dataloader.py:624: UserWarning: This DataLoader will create 4 worker processes in total. Our suggested max number of worker in current system is 2, which is smaller than what this DataLoader is going to create. Please be aware that excessive worker creation might get DataLoader running slow or even freeze, lower the worker number to avoid potential slowness/freeze if necessary.\n",
            "  warnings.warn(\n"
          ]
        },
        {
          "output_type": "stream",
          "name": "stdout",
          "text": [
            "Epoch 27: Loss: 1.5331, Train Accuracy: 42.16%\n",
            "Test Accuracy: 82.66%\n",
            "Confusion Matrix (Epoch 27):\n",
            "[[883  11  44   7   6   3   1  16  24   5]\n",
            " [ 11 918   5   7   0  10   2   4  15  28]\n",
            " [ 25   0 811  32  42  47  16  21   3   3]\n",
            " [ 26   1  27 590  41 263  18  27   3   4]\n",
            " [ 19   1  47  25 819  21  19  46   1   2]\n",
            " [ 15   1  24  76  34 813   2  33   0   2]\n",
            " [  7   2  47  48  17  46 826   5   2   0]\n",
            " [ 11   1  12  14  19  37   1 898   1   6]\n",
            " [ 80  16  14   8   1  12   1   6 858   4]\n",
            " [ 34  66   7   9   1   7   1   7  18 850]]\n"
          ]
        },
        {
          "output_type": "stream",
          "name": "stderr",
          "text": [
            "/usr/local/lib/python3.11/dist-packages/torch/utils/data/dataloader.py:624: UserWarning: This DataLoader will create 4 worker processes in total. Our suggested max number of worker in current system is 2, which is smaller than what this DataLoader is going to create. Please be aware that excessive worker creation might get DataLoader running slow or even freeze, lower the worker number to avoid potential slowness/freeze if necessary.\n",
            "  warnings.warn(\n"
          ]
        },
        {
          "output_type": "stream",
          "name": "stdout",
          "text": [
            "Epoch 28: Loss: 1.5067, Train Accuracy: 44.24%\n",
            "Test Accuracy: 83.55%\n",
            "Confusion Matrix (Epoch 28):\n",
            "[[883  19   8   8   9   2   4  14  29  24]\n",
            " [  4 881   2   1   0   3   4   3  14  88]\n",
            " [ 54   4 770  32  48  28  27  28   1   8]\n",
            " [ 18   4  20 626  59 158  48  44   6  17]\n",
            " [  9   2  55  24 800  11  37  54   4   4]\n",
            " [  8   1  20  96  40 762  19  48   3   3]\n",
            " [  9   3  33  24  11   4 903   8   2   3]\n",
            " [  7   0   7   3  21  22   0 929   1  10]\n",
            " [ 53  34   8   7   4   0   1   5 866  22]\n",
            " [ 16  25   2   4   1   3   2   0  12 935]]\n"
          ]
        },
        {
          "output_type": "stream",
          "name": "stderr",
          "text": [
            "/usr/local/lib/python3.11/dist-packages/torch/utils/data/dataloader.py:624: UserWarning: This DataLoader will create 4 worker processes in total. Our suggested max number of worker in current system is 2, which is smaller than what this DataLoader is going to create. Please be aware that excessive worker creation might get DataLoader running slow or even freeze, lower the worker number to avoid potential slowness/freeze if necessary.\n",
            "  warnings.warn(\n"
          ]
        },
        {
          "output_type": "stream",
          "name": "stdout",
          "text": [
            "Epoch 29: Loss: 1.5333, Train Accuracy: 44.03%\n",
            "Test Accuracy: 84.03%\n",
            "Confusion Matrix (Epoch 29):\n",
            "[[903  15  12   9   0   0   4   6  28  23]\n",
            " [  4 930   1   2   0   1   1   2   5  54]\n",
            " [ 43   2 773  37  33  44  43  15   6   4]\n",
            " [ 26   5  32 646  27 199  34  11   6  14]\n",
            " [ 16   4  34  42 784  23  44  42   6   5]\n",
            " [ 20   3  17  81  28 818  12  15   2   4]\n",
            " [ 11   5  15  41   4  20 895   1   4   4]\n",
            " [ 11   2   4  20  14  59   1 877   4   8]\n",
            " [ 53  34   3   4   1   8   0   0 873  24]\n",
            " [ 20  47   3   6   0   3   0   2  15 904]]\n"
          ]
        },
        {
          "output_type": "stream",
          "name": "stderr",
          "text": [
            "/usr/local/lib/python3.11/dist-packages/torch/utils/data/dataloader.py:624: UserWarning: This DataLoader will create 4 worker processes in total. Our suggested max number of worker in current system is 2, which is smaller than what this DataLoader is going to create. Please be aware that excessive worker creation might get DataLoader running slow or even freeze, lower the worker number to avoid potential slowness/freeze if necessary.\n",
            "  warnings.warn(\n"
          ]
        },
        {
          "output_type": "stream",
          "name": "stdout",
          "text": [
            "Epoch 30: Loss: 1.5026, Train Accuracy: 45.11%\n",
            "Test Accuracy: 81.72%\n",
            "Confusion Matrix (Epoch 30):\n",
            "[[902  12  31   4   0   0   1   7  22  21]\n",
            " [  7 800   7   0   0   1   3   2 134  46]\n",
            " [ 30   4 832  13  24  26  29  24   7  11]\n",
            " [ 49  11  55 520  23 180  52  63  16  31]\n",
            " [ 22   5  33  22 762  20  41  82   5   8]\n",
            " [ 27   3  40  40  22 780  14  55   5  14]\n",
            " [ 18   4  35  11  11  13 888   9   4   7]\n",
            " [ 14   1  16   2  11  14   2 920   4  16]\n",
            " [ 65  22   9   0   0   0   2   1 876  25]\n",
            " [ 28  61   5   0   0   0   1   2  11 892]]\n"
          ]
        },
        {
          "output_type": "stream",
          "name": "stderr",
          "text": [
            "/usr/local/lib/python3.11/dist-packages/torch/utils/data/dataloader.py:624: UserWarning: This DataLoader will create 4 worker processes in total. Our suggested max number of worker in current system is 2, which is smaller than what this DataLoader is going to create. Please be aware that excessive worker creation might get DataLoader running slow or even freeze, lower the worker number to avoid potential slowness/freeze if necessary.\n",
            "  warnings.warn(\n"
          ]
        },
        {
          "output_type": "stream",
          "name": "stdout",
          "text": [
            "Epoch 31: Loss: 1.5060, Train Accuracy: 43.91%\n",
            "Test Accuracy: 83.55%\n",
            "Confusion Matrix (Epoch 31):\n",
            "[[846  20  30  15   7   1   4   2  42  33]\n",
            " [  7 914   2   5   0   4   1   2  15  50]\n",
            " [ 32   4 772  36  40  58  35  12   4   7]\n",
            " [ 19   4  25 666  42 182  38   6  13   5]\n",
            " [  8   3  38  22 832  21  33  36   4   3]\n",
            " [ 13   2  15 112  28 801   7  15   4   3]\n",
            " [  5   1  21  46  14  38 866   3   5   1]\n",
            " [ 13   0   9  37  24  52  10 840   7   8]\n",
            " [ 35  17   5   6   2   2   4   0 913  16]\n",
            " [ 15  46   5  10   1   6   2   0  10 905]]\n"
          ]
        },
        {
          "output_type": "stream",
          "name": "stderr",
          "text": [
            "/usr/local/lib/python3.11/dist-packages/torch/utils/data/dataloader.py:624: UserWarning: This DataLoader will create 4 worker processes in total. Our suggested max number of worker in current system is 2, which is smaller than what this DataLoader is going to create. Please be aware that excessive worker creation might get DataLoader running slow or even freeze, lower the worker number to avoid potential slowness/freeze if necessary.\n",
            "  warnings.warn(\n"
          ]
        },
        {
          "output_type": "stream",
          "name": "stdout",
          "text": [
            "Epoch 32: Loss: 1.5178, Train Accuracy: 45.83%\n",
            "Test Accuracy: 81.38%\n",
            "Confusion Matrix (Epoch 32):\n",
            "[[817  11  81  15  13  10   2  10  21  20]\n",
            " [ 13 893  11   2   0   6   3   4  49  19]\n",
            " [ 16   1 890  20  15  15  27  12   1   3]\n",
            " [  9   3  84 603  29 200  26  41   1   4]\n",
            " [  3   2  70  45 759  29  39  50   2   1]\n",
            " [  6   1  64  89  21 787   6  26   0   0]\n",
            " [  6   1  50  59   7  25 848   4   0   0]\n",
            " [  5   0  34  16  17  50   1 871   1   5]\n",
            " [ 64  17  45  19   0  10   2   5 832   6]\n",
            " [ 25  75  21  10   0  16   1   6   8 838]]\n"
          ]
        },
        {
          "output_type": "stream",
          "name": "stderr",
          "text": [
            "/usr/local/lib/python3.11/dist-packages/torch/utils/data/dataloader.py:624: UserWarning: This DataLoader will create 4 worker processes in total. Our suggested max number of worker in current system is 2, which is smaller than what this DataLoader is going to create. Please be aware that excessive worker creation might get DataLoader running slow or even freeze, lower the worker number to avoid potential slowness/freeze if necessary.\n",
            "  warnings.warn(\n"
          ]
        },
        {
          "output_type": "stream",
          "name": "stdout",
          "text": [
            "Epoch 33: Loss: 1.5268, Train Accuracy: 40.27%\n",
            "Test Accuracy: 81.45%\n",
            "Confusion Matrix (Epoch 33):\n",
            "[[878   8  54  17   4   0   6   8  22   3]\n",
            " [ 13 727  13   4   1   3   4   4 213  18]\n",
            " [ 15   0 900  18  17  13  19  16   1   1]\n",
            " [ 11   3  83 718  23  96  42  16   7   1]\n",
            " [  7   2  79  44 759  17  33  57   2   0]\n",
            " [  6   2  73 142  21 708  11  35   2   0]\n",
            " [  9   2  56  33   3   6 886   4   1   0]\n",
            " [ 12   2  21  28   8  37   2 886   2   2]\n",
            " [ 61  11  19  10   1   1   1   5 888   3]\n",
            " [ 48  82  18  22   0   2   4   5  24 795]]\n"
          ]
        },
        {
          "output_type": "stream",
          "name": "stderr",
          "text": [
            "/usr/local/lib/python3.11/dist-packages/torch/utils/data/dataloader.py:624: UserWarning: This DataLoader will create 4 worker processes in total. Our suggested max number of worker in current system is 2, which is smaller than what this DataLoader is going to create. Please be aware that excessive worker creation might get DataLoader running slow or even freeze, lower the worker number to avoid potential slowness/freeze if necessary.\n",
            "  warnings.warn(\n"
          ]
        },
        {
          "output_type": "stream",
          "name": "stdout",
          "text": [
            "Epoch 34: Loss: 1.5171, Train Accuracy: 43.10%\n",
            "Test Accuracy: 83.78%\n",
            "Confusion Matrix (Epoch 34):\n",
            "[[916  17   6  12   4   2   1   7  16  19]\n",
            " [  4 958   1   3   0   2   0   0   3  29]\n",
            " [ 69   3 815  31  15  34  15  13   1   4]\n",
            " [ 22   7  29 707  18 186  12   7   5   7]\n",
            " [ 12   5  52  73 761  40  27  27   3   0]\n",
            " [ 18   4  24  82  14 838   2  15   1   2]\n",
            " [ 16   8  39  96   6  16 815   1   2   1]\n",
            " [ 22   4   6  19  21  68   1 853   1   5]\n",
            " [ 65  35   5  20   0   4   1   2 847  21]\n",
            " [ 24  82   2  12   0   4   1   1   6 868]]\n"
          ]
        },
        {
          "output_type": "stream",
          "name": "stderr",
          "text": [
            "/usr/local/lib/python3.11/dist-packages/torch/utils/data/dataloader.py:624: UserWarning: This DataLoader will create 4 worker processes in total. Our suggested max number of worker in current system is 2, which is smaller than what this DataLoader is going to create. Please be aware that excessive worker creation might get DataLoader running slow or even freeze, lower the worker number to avoid potential slowness/freeze if necessary.\n",
            "  warnings.warn(\n"
          ]
        },
        {
          "output_type": "stream",
          "name": "stdout",
          "text": [
            "Epoch 35: Loss: 1.5164, Train Accuracy: 41.94%\n",
            "Test Accuracy: 83.01%\n",
            "Confusion Matrix (Epoch 35):\n",
            "[[905   4  15   4   1   2   1  10  48  10]\n",
            " [ 20 903   5   7   1   8   1   3  13  39]\n",
            " [ 57   0 826  21  15  34  14  26   5   2]\n",
            " [ 24   0  41 615  15 229  15  42  12   7]\n",
            " [ 25   4  69  33 670  49  32 112   4   2]\n",
            " [ 16   2  31  63   5 833   1  47   1   1]\n",
            " [ 16   2  62  43   5  43 813  10   4   2]\n",
            " [  7   0   5  12   4  35   0 934   1   2]\n",
            " [ 31   5   6  10   0   2   1   4 935   6]\n",
            " [ 44  43   6   6   0   6   0   6  22 867]]\n"
          ]
        },
        {
          "output_type": "stream",
          "name": "stderr",
          "text": [
            "/usr/local/lib/python3.11/dist-packages/torch/utils/data/dataloader.py:624: UserWarning: This DataLoader will create 4 worker processes in total. Our suggested max number of worker in current system is 2, which is smaller than what this DataLoader is going to create. Please be aware that excessive worker creation might get DataLoader running slow or even freeze, lower the worker number to avoid potential slowness/freeze if necessary.\n",
            "  warnings.warn(\n"
          ]
        },
        {
          "output_type": "stream",
          "name": "stdout",
          "text": [
            "Epoch 36: Loss: 1.4810, Train Accuracy: 41.67%\n",
            "Test Accuracy: 84.20%\n",
            "Confusion Matrix (Epoch 36):\n",
            "[[877  17  36   9   2   0   4   8  30  17]\n",
            " [  5 921   1   1   0   1   4   2   7  58]\n",
            " [ 23   2 829  19  27  27  38  27   4   4]\n",
            " [ 17  11  38 624  33 145  75  35  16   6]\n",
            " [ 13   2  30  21 785  18  57  67   7   0]\n",
            " [  6   5  27  87  30 767  21  47   7   3]\n",
            " [  7   4  23  12   7   7 932   5   3   0]\n",
            " [ 14   2   7  13  12  27   2 916   1   6]\n",
            " [ 70  19   7   1   3   1   2   0 876  21]\n",
            " [ 33  58   3   2   0   0   1   4   6 893]]\n"
          ]
        },
        {
          "output_type": "stream",
          "name": "stderr",
          "text": [
            "/usr/local/lib/python3.11/dist-packages/torch/utils/data/dataloader.py:624: UserWarning: This DataLoader will create 4 worker processes in total. Our suggested max number of worker in current system is 2, which is smaller than what this DataLoader is going to create. Please be aware that excessive worker creation might get DataLoader running slow or even freeze, lower the worker number to avoid potential slowness/freeze if necessary.\n",
            "  warnings.warn(\n"
          ]
        },
        {
          "output_type": "stream",
          "name": "stdout",
          "text": [
            "Epoch 37: Loss: 1.4917, Train Accuracy: 45.35%\n",
            "Test Accuracy: 80.56%\n",
            "Confusion Matrix (Epoch 37):\n",
            "[[899   6  52   2   1   0   0   4  34   2]\n",
            " [ 14 875   4   0   0   1   1   1  95   9]\n",
            " [ 35   3 904   9  16   9   3  15   5   1]\n",
            " [ 44  15 105 646  24  97  16  36  16   1]\n",
            " [ 36   7  90  24 741  27  14  58   3   0]\n",
            " [ 26   5  96 125  15 686   5  38   4   0]\n",
            " [ 26   9  95  47   7  10 791   7   7   1]\n",
            " [ 26   5  23   8  12  28   0 893   3   2]\n",
            " [ 50  17  13   1   1   1   0   1 914   2]\n",
            " [ 60 171   5   7   0   3   2   5  40 707]]\n"
          ]
        },
        {
          "output_type": "stream",
          "name": "stderr",
          "text": [
            "/usr/local/lib/python3.11/dist-packages/torch/utils/data/dataloader.py:624: UserWarning: This DataLoader will create 4 worker processes in total. Our suggested max number of worker in current system is 2, which is smaller than what this DataLoader is going to create. Please be aware that excessive worker creation might get DataLoader running slow or even freeze, lower the worker number to avoid potential slowness/freeze if necessary.\n",
            "  warnings.warn(\n"
          ]
        },
        {
          "output_type": "stream",
          "name": "stdout",
          "text": [
            "Epoch 38: Loss: 1.4959, Train Accuracy: 43.61%\n",
            "Test Accuracy: 83.02%\n",
            "Confusion Matrix (Epoch 38):\n",
            "[[901  15  17  15   0   0   2   5  34  11]\n",
            " [ 58 872  41   2   0   2   1   1  12  11]\n",
            " [ 48   2 855  28  14  14  15  16   5   3]\n",
            " [ 15   6  58 745  24  91  33  17   8   3]\n",
            " [ 17   5  62  52 778  18  30  36   2   0]\n",
            " [ 17   2  43 152  22 726  14  20   3   1]\n",
            " [ 16   8  60  52   5  11 846   0   2   0]\n",
            " [ 22   4  10  25  23  28   1 884   2   1]\n",
            " [ 49  24  12   9   1   3   0   3 895   4]\n",
            " [ 28 117   4  11   0   3   5   3  29 800]]\n"
          ]
        },
        {
          "output_type": "stream",
          "name": "stderr",
          "text": [
            "/usr/local/lib/python3.11/dist-packages/torch/utils/data/dataloader.py:624: UserWarning: This DataLoader will create 4 worker processes in total. Our suggested max number of worker in current system is 2, which is smaller than what this DataLoader is going to create. Please be aware that excessive worker creation might get DataLoader running slow or even freeze, lower the worker number to avoid potential slowness/freeze if necessary.\n",
            "  warnings.warn(\n"
          ]
        },
        {
          "output_type": "stream",
          "name": "stdout",
          "text": [
            "Epoch 39: Loss: 1.4920, Train Accuracy: 41.77%\n",
            "Test Accuracy: 82.99%\n",
            "Confusion Matrix (Epoch 39):\n",
            "[[865   8  36   8   0   0   3   4  56  20]\n",
            " [ 10 794   2   3   0   2   4   2  23 160]\n",
            " [ 21   1 866  20  18  26  33   7   6   2]\n",
            " [ 19   5  61 649  27 147  59  14  15   4]\n",
            " [ 12   2  67  38 757  20  51  45   5   3]\n",
            " [ 16   2  27 105  21 787  15  23   3   1]\n",
            " [ 10   3  45  18   4  18 899   0   3   0]\n",
            " [ 15   1  17  16  10  33   8 889   6   5]\n",
            " [ 38   9   4   7   0   3   5   1 925   8]\n",
            " [ 25  64   5   9   0   2   3   4  20 868]]\n"
          ]
        },
        {
          "output_type": "stream",
          "name": "stderr",
          "text": [
            "/usr/local/lib/python3.11/dist-packages/torch/utils/data/dataloader.py:624: UserWarning: This DataLoader will create 4 worker processes in total. Our suggested max number of worker in current system is 2, which is smaller than what this DataLoader is going to create. Please be aware that excessive worker creation might get DataLoader running slow or even freeze, lower the worker number to avoid potential slowness/freeze if necessary.\n",
            "  warnings.warn(\n"
          ]
        },
        {
          "output_type": "stream",
          "name": "stdout",
          "text": [
            "Epoch 40: Loss: 1.4875, Train Accuracy: 45.06%\n",
            "Test Accuracy: 83.85%\n",
            "Confusion Matrix (Epoch 40):\n",
            "[[899  11  20   4   4   0   4   4  36  18]\n",
            " [ 48 867   1   3  25   0   1   1  15  39]\n",
            " [ 36   1 900  10  14   8  13   8   6   4]\n",
            " [ 32   7  88 701  35  57  35  16  17  12]\n",
            " [  8   3  89  31 796   4  34  27   5   3]\n",
            " [ 20   2  87 149  32 647  14  33  11   5]\n",
            " [ 12   4  62  52   2   0 866   1   0   1]\n",
            " [ 15   2  27  22  18  14   5 888   3   6]\n",
            " [ 34  11  15   2   1   0   3   1 920  13]\n",
            " [ 23  45   9   1   0   1   1   0  19 901]]\n"
          ]
        },
        {
          "output_type": "stream",
          "name": "stderr",
          "text": [
            "/usr/local/lib/python3.11/dist-packages/torch/utils/data/dataloader.py:624: UserWarning: This DataLoader will create 4 worker processes in total. Our suggested max number of worker in current system is 2, which is smaller than what this DataLoader is going to create. Please be aware that excessive worker creation might get DataLoader running slow or even freeze, lower the worker number to avoid potential slowness/freeze if necessary.\n",
            "  warnings.warn(\n"
          ]
        },
        {
          "output_type": "stream",
          "name": "stdout",
          "text": [
            "Epoch 41: Loss: 1.5107, Train Accuracy: 43.11%\n",
            "Test Accuracy: 82.42%\n",
            "Confusion Matrix (Epoch 41):\n",
            "[[961   5   5   7   0   1   3   2  14   2]\n",
            " [ 18 848   2   4   1   2   1   1  56  67]\n",
            " [ 65   2 829  11  18  29  32  11   1   2]\n",
            " [ 40   5  45 621  18 196  60  12   2   1]\n",
            " [ 50   3  66  25 730  29  62  33   2   0]\n",
            " [ 28   0  23  76  17 815  23  17   1   0]\n",
            " [ 27   4  21  20   2  17 905   1   2   1]\n",
            " [ 26   1  16  19  10  41   3 880   2   2]\n",
            " [ 95  18   8   9   0   8   2   4 855   1]\n",
            " [ 53  98   7  16   0  10   2   4  12 798]]\n"
          ]
        },
        {
          "output_type": "stream",
          "name": "stderr",
          "text": [
            "/usr/local/lib/python3.11/dist-packages/torch/utils/data/dataloader.py:624: UserWarning: This DataLoader will create 4 worker processes in total. Our suggested max number of worker in current system is 2, which is smaller than what this DataLoader is going to create. Please be aware that excessive worker creation might get DataLoader running slow or even freeze, lower the worker number to avoid potential slowness/freeze if necessary.\n",
            "  warnings.warn(\n"
          ]
        },
        {
          "output_type": "stream",
          "name": "stdout",
          "text": [
            "Epoch 42: Loss: 1.5187, Train Accuracy: 41.79%\n",
            "Test Accuracy: 81.90%\n",
            "Confusion Matrix (Epoch 42):\n",
            "[[914   7   9   5   1   0   0   6  47  11]\n",
            " [ 19 875   1  37   0   0   1   2  30  35]\n",
            " [ 79   1 800  27  31   5  12  19  18   8]\n",
            " [ 57   8  52 641  35  71  20  67  36  13]\n",
            " [ 39   3  41  18 805   4  12  63  11   4]\n",
            " [ 40   6  70 126  40 612   4  81  18   3]\n",
            " [ 26   5  44  40  21   8 821  12  13  10]\n",
            " [ 13   0  21   9  11   6   0 929   5   6]\n",
            " [ 54   5   2   2   1   0   0   1 928   7]\n",
            " [ 42  53   3   3   1   1   1   5  26 865]]\n"
          ]
        },
        {
          "output_type": "stream",
          "name": "stderr",
          "text": [
            "/usr/local/lib/python3.11/dist-packages/torch/utils/data/dataloader.py:624: UserWarning: This DataLoader will create 4 worker processes in total. Our suggested max number of worker in current system is 2, which is smaller than what this DataLoader is going to create. Please be aware that excessive worker creation might get DataLoader running slow or even freeze, lower the worker number to avoid potential slowness/freeze if necessary.\n",
            "  warnings.warn(\n"
          ]
        },
        {
          "output_type": "stream",
          "name": "stdout",
          "text": [
            "Epoch 43: Loss: 1.5296, Train Accuracy: 44.09%\n",
            "Test Accuracy: 82.62%\n",
            "Confusion Matrix (Epoch 43):\n",
            "[[902  21   8   1   1   0   0   6  24  37]\n",
            " [  8 951   0   1   0   1   0   1   1  37]\n",
            " [ 55  12 858  14  14  12  10  16   2   7]\n",
            " [ 43  22  80 617  16 123  27  38  16  18]\n",
            " [ 28  17  77  25 715  15  16  91   8   8]\n",
            " [ 25  18  41  92  18 742  12  41   1  10]\n",
            " [ 33  20  53  27   7   6 840   4   4   6]\n",
            " [ 18   5   9  15   8  11   0 916   7  11]\n",
            " [ 58  62   9   3   1   0   0   0 841  26]\n",
            " [ 12  88   3   2   0   1   0   2  12 880]]\n"
          ]
        },
        {
          "output_type": "stream",
          "name": "stderr",
          "text": [
            "/usr/local/lib/python3.11/dist-packages/torch/utils/data/dataloader.py:624: UserWarning: This DataLoader will create 4 worker processes in total. Our suggested max number of worker in current system is 2, which is smaller than what this DataLoader is going to create. Please be aware that excessive worker creation might get DataLoader running slow or even freeze, lower the worker number to avoid potential slowness/freeze if necessary.\n",
            "  warnings.warn(\n"
          ]
        },
        {
          "output_type": "stream",
          "name": "stdout",
          "text": [
            "Epoch 44: Loss: 1.4859, Train Accuracy: 44.60%\n",
            "Test Accuracy: 80.10%\n",
            "Confusion Matrix (Epoch 44):\n",
            "[[898  20  14   1  10   0   2   4  43   8]\n",
            " [  4 958   5   0   0   1   1   3  20   8]\n",
            " [ 56   3 872   5  27   3  15  13   5   1]\n",
            " [ 32  11 127 526  64  86  56  45  46   7]\n",
            " [ 10   5  62   6 814   9  34  52   5   3]\n",
            " [ 22   8 136  93  43 600  23  60  12   3]\n",
            " [ 19   9  50  11  11   1 882   7   9   1]\n",
            " [ 16   5  24   9  24   8   5 903   4   2]\n",
            " [ 44  23   9   0   1   0   0   1 918   4]\n",
            " [ 32 252   6   3   1   1   2   6  58 639]]\n"
          ]
        },
        {
          "output_type": "stream",
          "name": "stderr",
          "text": [
            "/usr/local/lib/python3.11/dist-packages/torch/utils/data/dataloader.py:624: UserWarning: This DataLoader will create 4 worker processes in total. Our suggested max number of worker in current system is 2, which is smaller than what this DataLoader is going to create. Please be aware that excessive worker creation might get DataLoader running slow or even freeze, lower the worker number to avoid potential slowness/freeze if necessary.\n",
            "  warnings.warn(\n"
          ]
        },
        {
          "output_type": "stream",
          "name": "stdout",
          "text": [
            "Epoch 45: Loss: 1.5192, Train Accuracy: 46.56%\n",
            "Test Accuracy: 76.67%\n",
            "Confusion Matrix (Epoch 45):\n",
            "[[848   8   6   3   1   2  13   3  57  59]\n",
            " [ 14 869   3   3   0   5   2   2  44  58]\n",
            " [ 73   4 750  37  20  39  35  17  10  15]\n",
            " [ 48  13  37 539  38 190  58  18  31  28]\n",
            " [ 45   7  84  33 681  27  36  55  14  18]\n",
            " [ 28   8  17 110  16 740  14  42  12  13]\n",
            " [ 20  10  25  28  12  10 864   6  10  15]\n",
            " [ 17   2   8  35  10  30   3 854  13  28]\n",
            " [ 51  13   3   0   0   3   6   0 872  52]\n",
            " [135 114   3   8   0   5   6  15  64 650]]\n"
          ]
        },
        {
          "output_type": "stream",
          "name": "stderr",
          "text": [
            "/usr/local/lib/python3.11/dist-packages/torch/utils/data/dataloader.py:624: UserWarning: This DataLoader will create 4 worker processes in total. Our suggested max number of worker in current system is 2, which is smaller than what this DataLoader is going to create. Please be aware that excessive worker creation might get DataLoader running slow or even freeze, lower the worker number to avoid potential slowness/freeze if necessary.\n",
            "  warnings.warn(\n"
          ]
        },
        {
          "output_type": "stream",
          "name": "stdout",
          "text": [
            "Epoch 46: Loss: 1.5131, Train Accuracy: 43.02%\n",
            "Test Accuracy: 83.11%\n",
            "Confusion Matrix (Epoch 46):\n",
            "[[876  13  18  13   3   3   3  12  30  29]\n",
            " [  1 941   5   9   0   6   0   2   4  32]\n",
            " [ 48   0 797  34  16  58  24  13   3   7]\n",
            " [  9   1  27 651  20 228  35  11  11   7]\n",
            " [ 15   2  43  61 677  93  34  71   2   2]\n",
            " [  6   0  11  77   8 864  12  15   5   2]\n",
            " [ 12   3  25  39   2  43 867   2   3   4]\n",
            " [  7   2   8  29   5  64   0 878   2   5]\n",
            " [ 42  22  13   6   0   4   3   0 897  13]\n",
            " [ 11  85   4  10   0   9   0   2  16 863]]\n"
          ]
        },
        {
          "output_type": "stream",
          "name": "stderr",
          "text": [
            "/usr/local/lib/python3.11/dist-packages/torch/utils/data/dataloader.py:624: UserWarning: This DataLoader will create 4 worker processes in total. Our suggested max number of worker in current system is 2, which is smaller than what this DataLoader is going to create. Please be aware that excessive worker creation might get DataLoader running slow or even freeze, lower the worker number to avoid potential slowness/freeze if necessary.\n",
            "  warnings.warn(\n"
          ]
        },
        {
          "output_type": "stream",
          "name": "stdout",
          "text": [
            "Epoch 47: Loss: 1.5071, Train Accuracy: 43.77%\n",
            "Test Accuracy: 84.67%\n",
            "Confusion Matrix (Epoch 47):\n",
            "[[930   4  15  10   2   2   2   6  24   5]\n",
            " [ 19 930   2   6   1   2   1   2  12  25]\n",
            " [ 48   0 813  32  45  17  27  12   4   2]\n",
            " [ 23   3  25 768  45  78  39  11   4   4]\n",
            " [ 21   2  23  35 846   6  34  30   2   1]\n",
            " [ 19   1  22 162  44 702  26  19   2   3]\n",
            " [ 15   3  21  31  22   5 899   1   2   1]\n",
            " [ 23   1  13  31  29  20   5 872   2   4]\n",
            " [ 68   8   7  12   1   1   0   0 898   5]\n",
            " [ 58  79   4  15   1   7   2   3  22 809]]\n"
          ]
        },
        {
          "output_type": "stream",
          "name": "stderr",
          "text": [
            "/usr/local/lib/python3.11/dist-packages/torch/utils/data/dataloader.py:624: UserWarning: This DataLoader will create 4 worker processes in total. Our suggested max number of worker in current system is 2, which is smaller than what this DataLoader is going to create. Please be aware that excessive worker creation might get DataLoader running slow or even freeze, lower the worker number to avoid potential slowness/freeze if necessary.\n",
            "  warnings.warn(\n"
          ]
        },
        {
          "output_type": "stream",
          "name": "stdout",
          "text": [
            "Epoch 48: Loss: 1.5037, Train Accuracy: 44.34%\n",
            "Test Accuracy: 83.29%\n",
            "Confusion Matrix (Epoch 48):\n",
            "[[830  12  32  18   2   2   1   8  81  14]\n",
            " [  9 931   4   7   0   3   1   2  22  21]\n",
            " [ 21   3 888  28  11  15  10  13   7   4]\n",
            " [ 18   2  67 746  14  98  14  30  10   1]\n",
            " [ 18   5  94  68 701  40  20  43   9   2]\n",
            " [  9   1  53 144  12 739   3  32   4   3]\n",
            " [ 11   2  71  84   3  11 800   4   8   6]\n",
            " [ 16   1  19  20   5  27   0 904   3   5]\n",
            " [ 13   9   7   4   1   2   1   2 958   3]\n",
            " [ 16  93   4   7   0   2   1   4  41 832]]\n"
          ]
        },
        {
          "output_type": "stream",
          "name": "stderr",
          "text": [
            "/usr/local/lib/python3.11/dist-packages/torch/utils/data/dataloader.py:624: UserWarning: This DataLoader will create 4 worker processes in total. Our suggested max number of worker in current system is 2, which is smaller than what this DataLoader is going to create. Please be aware that excessive worker creation might get DataLoader running slow or even freeze, lower the worker number to avoid potential slowness/freeze if necessary.\n",
            "  warnings.warn(\n"
          ]
        },
        {
          "output_type": "stream",
          "name": "stdout",
          "text": [
            "Epoch 49: Loss: 1.4941, Train Accuracy: 44.25%\n",
            "Test Accuracy: 81.34%\n",
            "Confusion Matrix (Epoch 49):\n",
            "[[824  44  50   3   2   1   2   7  46  21]\n",
            " [  2 923   2   0   0   3   1   5   1  63]\n",
            " [ 24   7 892  11  11  21  12  15   4   3]\n",
            " [ 25  12 109 599  22 140  30  49   7   7]\n",
            " [ 22  11  87  33 687  32  33  80   8   7]\n",
            " [ 10   8  82  84  11 736   9  49   5   6]\n",
            " [  9  14  64  27   4  16 848   9   3   6]\n",
            " [ 12   5  15   6   3  44   0 905   2   8]\n",
            " [ 35  55  16   2   0   4   0   4 863  21]\n",
            " [ 14  97   8   2   0   2   1  10   9 857]]\n"
          ]
        },
        {
          "output_type": "stream",
          "name": "stderr",
          "text": [
            "/usr/local/lib/python3.11/dist-packages/torch/utils/data/dataloader.py:624: UserWarning: This DataLoader will create 4 worker processes in total. Our suggested max number of worker in current system is 2, which is smaller than what this DataLoader is going to create. Please be aware that excessive worker creation might get DataLoader running slow or even freeze, lower the worker number to avoid potential slowness/freeze if necessary.\n",
            "  warnings.warn(\n"
          ]
        },
        {
          "output_type": "stream",
          "name": "stdout",
          "text": [
            "Epoch 50: Loss: 1.4919, Train Accuracy: 44.58%\n",
            "Test Accuracy: 83.65%\n",
            "Confusion Matrix (Epoch 50):\n",
            "[[893   6  63   4   1   0   0   5  23   5]\n",
            " [  6 893   5   4   0   1   1   1  11  78]\n",
            " [ 21   1 905  22   8  14  12  11   4   2]\n",
            " [ 21   3  73 752  22  70  26  18   9   6]\n",
            " [ 28   3 103  55 722  14  21  45   6   3]\n",
            " [ 22   1  61 132  17 729  10  25   2   1]\n",
            " [ 10   4  66  54   4  10 846   1   4   1]\n",
            " [ 28   3  19  31  14  17   1 883   0   4]\n",
            " [ 57  12  13   8   0   1   0   1 904   4]\n",
            " [ 47  68   5   8   0   1   1   3  29 838]]\n"
          ]
        },
        {
          "output_type": "stream",
          "name": "stderr",
          "text": [
            "/usr/local/lib/python3.11/dist-packages/torch/utils/data/dataloader.py:624: UserWarning: This DataLoader will create 4 worker processes in total. Our suggested max number of worker in current system is 2, which is smaller than what this DataLoader is going to create. Please be aware that excessive worker creation might get DataLoader running slow or even freeze, lower the worker number to avoid potential slowness/freeze if necessary.\n",
            "  warnings.warn(\n"
          ]
        },
        {
          "output_type": "stream",
          "name": "stdout",
          "text": [
            "Epoch 51: Loss: 1.4794, Train Accuracy: 45.02%\n",
            "Test Accuracy: 84.90%\n",
            "Confusion Matrix (Epoch 51):\n",
            "[[891   8   6   4   1   0   3   2  70  15]\n",
            " [ 14 889   1   4   0   0   0   1  31  60]\n",
            " [ 63   0 764  31  28  21  37  34  14   8]\n",
            " [ 39   5  29 687  36 102  42  26  21  13]\n",
            " [ 17   2  23  37 830  12  35  29  11   4]\n",
            " [ 21   3  15 103  22 772  10  41   5   8]\n",
            " [ 14   3  15  23  11  12 910   1   6   5]\n",
            " [ 30   6   4  15  22  22   1 892   3   5]\n",
            " [ 32   3   2   4   0   0   0   3 949   7]\n",
            " [ 26  37   2   2   0   1   0   2  24 906]]\n"
          ]
        },
        {
          "output_type": "stream",
          "name": "stderr",
          "text": [
            "/usr/local/lib/python3.11/dist-packages/torch/utils/data/dataloader.py:624: UserWarning: This DataLoader will create 4 worker processes in total. Our suggested max number of worker in current system is 2, which is smaller than what this DataLoader is going to create. Please be aware that excessive worker creation might get DataLoader running slow or even freeze, lower the worker number to avoid potential slowness/freeze if necessary.\n",
            "  warnings.warn(\n"
          ]
        },
        {
          "output_type": "stream",
          "name": "stdout",
          "text": [
            "Epoch 52: Loss: 1.5137, Train Accuracy: 43.07%\n",
            "Test Accuracy: 84.31%\n",
            "Confusion Matrix (Epoch 52):\n",
            "[[936   8   8   3   3   0   0   4  30   8]\n",
            " [ 16 930   4   3   0   1   1   1  14  30]\n",
            " [ 64   0 870  17  13  15   9   7   3   2]\n",
            " [ 43   4  73 666  23 133  31   9  13   5]\n",
            " [ 12   1  95  39 778  17  23  26   6   3]\n",
            " [ 24   1  54  99  19 782  11   5   3   2]\n",
            " [ 13   4  48  53   2  14 864   1   0   1]\n",
            " [ 20   3  21  19  25  70   1 837   1   3]\n",
            " [ 58  11  14   4   0   2   1   2 900   8]\n",
            " [ 45  49   6   6   0   8   2   1  15 868]]\n"
          ]
        },
        {
          "output_type": "stream",
          "name": "stderr",
          "text": [
            "/usr/local/lib/python3.11/dist-packages/torch/utils/data/dataloader.py:624: UserWarning: This DataLoader will create 4 worker processes in total. Our suggested max number of worker in current system is 2, which is smaller than what this DataLoader is going to create. Please be aware that excessive worker creation might get DataLoader running slow or even freeze, lower the worker number to avoid potential slowness/freeze if necessary.\n",
            "  warnings.warn(\n"
          ]
        },
        {
          "output_type": "stream",
          "name": "stdout",
          "text": [
            "Epoch 53: Loss: 1.4990, Train Accuracy: 44.38%\n",
            "Test Accuracy: 83.61%\n",
            "Confusion Matrix (Epoch 53):\n",
            "[[900  17  14   4   2   4   0   4  29  26]\n",
            " [  5 930   1   2   1   5   1   1  31  23]\n",
            " [ 43   5 836  22  20  40  16   8   5   5]\n",
            " [ 13   7  49 600  22 257  33   6  10   3]\n",
            " [ 12   3  51  33 794  39  40  20   4   4]\n",
            " [  8   2  26  71  16 856   4  16   0   1]\n",
            " [  7   6  37  26   4  48 864   3   4   1]\n",
            " [ 11   4  17  20  26  68   2 840   4   8]\n",
            " [ 60  31   5   7   2  10   0   1 870  14]\n",
            " [ 15  75   3   4   1  11   1   3  16 871]]\n"
          ]
        },
        {
          "output_type": "stream",
          "name": "stderr",
          "text": [
            "/usr/local/lib/python3.11/dist-packages/torch/utils/data/dataloader.py:624: UserWarning: This DataLoader will create 4 worker processes in total. Our suggested max number of worker in current system is 2, which is smaller than what this DataLoader is going to create. Please be aware that excessive worker creation might get DataLoader running slow or even freeze, lower the worker number to avoid potential slowness/freeze if necessary.\n",
            "  warnings.warn(\n"
          ]
        },
        {
          "output_type": "stream",
          "name": "stdout",
          "text": [
            "Epoch 54: Loss: 1.4662, Train Accuracy: 44.28%\n",
            "Test Accuracy: 83.12%\n",
            "Confusion Matrix (Epoch 54):\n",
            "[[956   8   4   1   0   0   2   2  11  16]\n",
            " [ 16 924   1   0   0   0   1   2   4  52]\n",
            " [ 86   3 805  18  19  16  36   7   4   6]\n",
            " [ 97   6  52 624  32  88  53  16  14  18]\n",
            " [ 48   5  63  33 783   4  25  33   4   2]\n",
            " [ 52   5  41 100  37 720  14  21   1   9]\n",
            " [ 23   8  24  20   7   3 908   4   1   2]\n",
            " [ 26   3  32  14  17  18   1 882   2   5]\n",
            " [135  25  10   1   0   1   1   0 808  19]\n",
            " [ 43  37   2   4   0   2   1   1   8 902]]\n"
          ]
        },
        {
          "output_type": "stream",
          "name": "stderr",
          "text": [
            "/usr/local/lib/python3.11/dist-packages/torch/utils/data/dataloader.py:624: UserWarning: This DataLoader will create 4 worker processes in total. Our suggested max number of worker in current system is 2, which is smaller than what this DataLoader is going to create. Please be aware that excessive worker creation might get DataLoader running slow or even freeze, lower the worker number to avoid potential slowness/freeze if necessary.\n",
            "  warnings.warn(\n"
          ]
        },
        {
          "output_type": "stream",
          "name": "stdout",
          "text": [
            "Epoch 55: Loss: 1.4632, Train Accuracy: 44.05%\n",
            "Test Accuracy: 76.53%\n",
            "Confusion Matrix (Epoch 55):\n",
            "[[778  73  33  30  20   4   3   4  46   9]\n",
            " [ 34 929   0  10   0   1   1   6  12   7]\n",
            " [ 30  19 788  63  19  46  19   5  10   1]\n",
            " [  8  18  25 753  14 145  21   3  12   1]\n",
            " [ 14  12  91 133 621  66  38  18   7   0]\n",
            " [  6   9  17 182  17 744  11   6   8   0]\n",
            " [  6  16  37  93   3  57 779   0   6   3]\n",
            " [ 14  11  18  71  31  86   6 755   4   4]\n",
            " [ 44  29   2  20   4   2   5   4 888   2]\n",
            " [ 17 290   3  24   2  12   2   5  27 618]]\n"
          ]
        },
        {
          "output_type": "stream",
          "name": "stderr",
          "text": [
            "/usr/local/lib/python3.11/dist-packages/torch/utils/data/dataloader.py:624: UserWarning: This DataLoader will create 4 worker processes in total. Our suggested max number of worker in current system is 2, which is smaller than what this DataLoader is going to create. Please be aware that excessive worker creation might get DataLoader running slow or even freeze, lower the worker number to avoid potential slowness/freeze if necessary.\n",
            "  warnings.warn(\n"
          ]
        },
        {
          "output_type": "stream",
          "name": "stdout",
          "text": [
            "Epoch 56: Loss: 1.4766, Train Accuracy: 41.31%\n",
            "Test Accuracy: 81.51%\n",
            "Confusion Matrix (Epoch 56):\n",
            "[[876  11  22   0   1   1   0   1  72  16]\n",
            " [  8 973   0   0   0   0   0   0  10   9]\n",
            " [ 46   4 893   7   6  12  15   7   8   2]\n",
            " [ 68  35  89 551  25 160  12  29  19  12]\n",
            " [ 50  13 114  13 702  27  27  42   8   4]\n",
            " [ 33  11  69  53  15 772   4  34   5   4]\n",
            " [ 19  15  84  35   5  17 806  11   8   0]\n",
            " [ 29   4  27   8  12  26   1 878   8   7]\n",
            " [ 31  21   3   3   0   2   0   1 937   2]\n",
            " [ 34 153   6   1   0   1   1   1  40 763]]\n"
          ]
        },
        {
          "output_type": "stream",
          "name": "stderr",
          "text": [
            "/usr/local/lib/python3.11/dist-packages/torch/utils/data/dataloader.py:624: UserWarning: This DataLoader will create 4 worker processes in total. Our suggested max number of worker in current system is 2, which is smaller than what this DataLoader is going to create. Please be aware that excessive worker creation might get DataLoader running slow or even freeze, lower the worker number to avoid potential slowness/freeze if necessary.\n",
            "  warnings.warn(\n"
          ]
        },
        {
          "output_type": "stream",
          "name": "stdout",
          "text": [
            "Epoch 57: Loss: 1.4939, Train Accuracy: 41.98%\n",
            "Test Accuracy: 84.54%\n",
            "Confusion Matrix (Epoch 57):\n",
            "[[879  13  12   2   3   1   2  10  60  18]\n",
            " [  3 939   3   1   0   5   2   2   9  36]\n",
            " [ 49   1 863  12  12  30  20   7   5   1]\n",
            " [ 24   2  66 544  17 235  61  26  21   4]\n",
            " [ 18   2  78  21 746  18  59  48   8   2]\n",
            " [ 11   0  26  46  27 842  16  27   4   1]\n",
            " [ 11   2  31   9   3  14 918   5   7   0]\n",
            " [  6   2  22  12  10  26   9 908   2   3]\n",
            " [ 22   9   9   3   0   1   3   3 943   7]\n",
            " [ 21  57  10   6   0   5   6   7  16 872]]\n"
          ]
        },
        {
          "output_type": "stream",
          "name": "stderr",
          "text": [
            "/usr/local/lib/python3.11/dist-packages/torch/utils/data/dataloader.py:624: UserWarning: This DataLoader will create 4 worker processes in total. Our suggested max number of worker in current system is 2, which is smaller than what this DataLoader is going to create. Please be aware that excessive worker creation might get DataLoader running slow or even freeze, lower the worker number to avoid potential slowness/freeze if necessary.\n",
            "  warnings.warn(\n"
          ]
        },
        {
          "output_type": "stream",
          "name": "stdout",
          "text": [
            "Epoch 58: Loss: 1.4923, Train Accuracy: 44.25%\n",
            "Test Accuracy: 83.82%\n",
            "Confusion Matrix (Epoch 58):\n",
            "[[911  13  20   1   7   1   0  12  25  10]\n",
            " [  6 860   0   2   0   2  70   5  37  18]\n",
            " [ 36   2 804  11  33  36  27  39   3   9]\n",
            " [ 22  10  31 571  27 228  30  69   5   7]\n",
            " [ 11   3  19  13 820  27  20  82   4   1]\n",
            " [ 18   8  12  41  16 835   6  60   2   2]\n",
            " [ 10  18  12  23  15  26 874  14   5   3]\n",
            " [  8   3   5   2   5  11   0 963   0   3]\n",
            " [ 40  40   4   3   1   1   0   3 902   6]\n",
            " [ 28  90   4   1   0   3   2  12  18 842]]\n"
          ]
        },
        {
          "output_type": "stream",
          "name": "stderr",
          "text": [
            "/usr/local/lib/python3.11/dist-packages/torch/utils/data/dataloader.py:624: UserWarning: This DataLoader will create 4 worker processes in total. Our suggested max number of worker in current system is 2, which is smaller than what this DataLoader is going to create. Please be aware that excessive worker creation might get DataLoader running slow or even freeze, lower the worker number to avoid potential slowness/freeze if necessary.\n",
            "  warnings.warn(\n"
          ]
        },
        {
          "output_type": "stream",
          "name": "stdout",
          "text": [
            "Epoch 59: Loss: 1.4957, Train Accuracy: 42.48%\n",
            "Test Accuracy: 85.24%\n",
            "Confusion Matrix (Epoch 59):\n",
            "[[929   7  17   7   1   1   2   6  17  13]\n",
            " [  9 927   2   3   0   4   4   4   6  41]\n",
            " [ 40   1 861  23  18  26  13  15   2   1]\n",
            " [ 18   2  48 693  19 163  21  20   8   8]\n",
            " [ 26   1  47  33 749  35  33  71   5   0]\n",
            " [ 15   1  34  85  11 815   8  27   2   2]\n",
            " [  7   4  42  31   9  23 877   6   1   0]\n",
            " [ 13   1  19  19   5  25   2 911   4   1]\n",
            " [ 62  21  12   7   1   9   0   2 873  13]\n",
            " [ 25  47   4   4   0  12   3   2  14 889]]\n"
          ]
        },
        {
          "output_type": "stream",
          "name": "stderr",
          "text": [
            "/usr/local/lib/python3.11/dist-packages/torch/utils/data/dataloader.py:624: UserWarning: This DataLoader will create 4 worker processes in total. Our suggested max number of worker in current system is 2, which is smaller than what this DataLoader is going to create. Please be aware that excessive worker creation might get DataLoader running slow or even freeze, lower the worker number to avoid potential slowness/freeze if necessary.\n",
            "  warnings.warn(\n"
          ]
        },
        {
          "output_type": "stream",
          "name": "stdout",
          "text": [
            "Epoch 60: Loss: 1.4982, Train Accuracy: 45.33%\n",
            "Test Accuracy: 80.38%\n",
            "Confusion Matrix (Epoch 60):\n",
            "[[906  13  15   5   2   1   3   2  25  28]\n",
            " [ 10 650   1   0   0   0   2   2 311  24]\n",
            " [ 65   7 807  37  14  26  24  12   3   5]\n",
            " [ 62   9  21 550  26 264  33  25   5   5]\n",
            " [ 22   6  39  34 789  22  46  35   4   3]\n",
            " [ 32   6  25  48  28 819  12  22   5   3]\n",
            " [ 13  11  25  41   6  15 887   1   1   0]\n",
            " [ 26   3  10  16   4  46   1 891   0   3]\n",
            " [ 60  41   7   4   0   4   1   0 872  11]\n",
            " [ 28  75   1   5   0   2   2   5  15 867]]\n"
          ]
        },
        {
          "output_type": "stream",
          "name": "stderr",
          "text": [
            "/usr/local/lib/python3.11/dist-packages/torch/utils/data/dataloader.py:624: UserWarning: This DataLoader will create 4 worker processes in total. Our suggested max number of worker in current system is 2, which is smaller than what this DataLoader is going to create. Please be aware that excessive worker creation might get DataLoader running slow or even freeze, lower the worker number to avoid potential slowness/freeze if necessary.\n",
            "  warnings.warn(\n"
          ]
        },
        {
          "output_type": "stream",
          "name": "stdout",
          "text": [
            "Epoch 61: Loss: 1.4098, Train Accuracy: 41.58%\n",
            "Test Accuracy: 86.63%\n",
            "Confusion Matrix (Epoch 61):\n",
            "[[928  10  16   1   1   0   1   5  23  15]\n",
            " [  9 820   2   2   0   0   0   2 136  29]\n",
            " [ 35   2 889  16  16  17  10   9   3   3]\n",
            " [ 24   7  36 712  22 137  32  19   5   6]\n",
            " [ 13   2  43  25 839  17  28  29   4   0]\n",
            " [ 15   2  31  83  21 815  10  20   2   1]\n",
            " [  9   4  25  21   6   9 919   3   3   1]\n",
            " [  9   2  12  13  17  18   1 924   1   3]\n",
            " [ 44  14   6   4   1   1   1   0 923   6]\n",
            " [ 23  54   2   5   0   2   2   1  17 894]]\n"
          ]
        },
        {
          "output_type": "stream",
          "name": "stderr",
          "text": [
            "/usr/local/lib/python3.11/dist-packages/torch/utils/data/dataloader.py:624: UserWarning: This DataLoader will create 4 worker processes in total. Our suggested max number of worker in current system is 2, which is smaller than what this DataLoader is going to create. Please be aware that excessive worker creation might get DataLoader running slow or even freeze, lower the worker number to avoid potential slowness/freeze if necessary.\n",
            "  warnings.warn(\n"
          ]
        },
        {
          "output_type": "stream",
          "name": "stdout",
          "text": [
            "Epoch 62: Loss: 1.4047, Train Accuracy: 47.31%\n",
            "Test Accuracy: 87.70%\n",
            "Confusion Matrix (Epoch 62):\n",
            "[[930   9  13   0   2   0   1   3  34   8]\n",
            " [ 11 925   1   2   0   0   1   1  39  20]\n",
            " [ 35   2 887  20  16  14  12  10   1   3]\n",
            " [ 24   5  42 723  22 122  27  22   6   7]\n",
            " [ 15   2  38  26 839  15  32  30   3   0]\n",
            " [ 22   2  23  91  18 814   8  20   1   1]\n",
            " [ 11   5  26  25   4   9 916   1   2   1]\n",
            " [ 11   1  11  13  12  19   1 929   1   2]\n",
            " [ 34  12   7   3   1   0   0   2 936   5]\n",
            " [ 30  71   2   5   1   2   1   1  16 871]]\n"
          ]
        },
        {
          "output_type": "stream",
          "name": "stderr",
          "text": [
            "/usr/local/lib/python3.11/dist-packages/torch/utils/data/dataloader.py:624: UserWarning: This DataLoader will create 4 worker processes in total. Our suggested max number of worker in current system is 2, which is smaller than what this DataLoader is going to create. Please be aware that excessive worker creation might get DataLoader running slow or even freeze, lower the worker number to avoid potential slowness/freeze if necessary.\n",
            "  warnings.warn(\n"
          ]
        },
        {
          "output_type": "stream",
          "name": "stdout",
          "text": [
            "Epoch 63: Loss: 1.4276, Train Accuracy: 48.14%\n",
            "Test Accuracy: 88.74%\n",
            "Confusion Matrix (Epoch 63):\n",
            "[[919  10  17   4   2   0   0   2  33  13]\n",
            " [  7 960   1   4   0   0   0   1   4  23]\n",
            " [ 29   2 876  24  18  24  14   8   2   3]\n",
            " [  8   2  35 771  21 117  24  11   5   6]\n",
            " [  6   2  32  33 840  20  25  37   5   0]\n",
            " [ 13   1  19  99  12 829   7  17   2   1]\n",
            " [  9   4  26  26   6  10 914   1   3   1]\n",
            " [  8   1  11  17   7  26   0 928   1   1]\n",
            " [ 29   9   3   4   0   2   2   2 946   3]\n",
            " [ 20  58   1   7   0   2   1   0  20 891]]\n"
          ]
        },
        {
          "output_type": "stream",
          "name": "stderr",
          "text": [
            "/usr/local/lib/python3.11/dist-packages/torch/utils/data/dataloader.py:624: UserWarning: This DataLoader will create 4 worker processes in total. Our suggested max number of worker in current system is 2, which is smaller than what this DataLoader is going to create. Please be aware that excessive worker creation might get DataLoader running slow or even freeze, lower the worker number to avoid potential slowness/freeze if necessary.\n",
            "  warnings.warn(\n"
          ]
        },
        {
          "output_type": "stream",
          "name": "stdout",
          "text": [
            "Epoch 64: Loss: 1.3883, Train Accuracy: 49.32%\n",
            "Test Accuracy: 89.03%\n",
            "Confusion Matrix (Epoch 64):\n",
            "[[929  10  12   2   2   0   1   2  34   8]\n",
            " [  9 961   1   1   0   0   0   2   4  22]\n",
            " [ 39   1 890  14  18  14  11   8   4   1]\n",
            " [ 12   5  38 758  26 110  26  14   7   4]\n",
            " [ 11   2  36  21 871  12  15  30   2   0]\n",
            " [ 16   2  22  95  21 818   6  17   2   1]\n",
            " [  7   4  36  26   8   9 906   1   3   0]\n",
            " [  8   0  11  19   9  16   2 933   1   1]\n",
            " [ 26   9   4   3   0   1   1   1 949   6]\n",
            " [ 21  58   3   6   0   2   1   2  19 888]]\n"
          ]
        },
        {
          "output_type": "stream",
          "name": "stderr",
          "text": [
            "/usr/local/lib/python3.11/dist-packages/torch/utils/data/dataloader.py:624: UserWarning: This DataLoader will create 4 worker processes in total. Our suggested max number of worker in current system is 2, which is smaller than what this DataLoader is going to create. Please be aware that excessive worker creation might get DataLoader running slow or even freeze, lower the worker number to avoid potential slowness/freeze if necessary.\n",
            "  warnings.warn(\n"
          ]
        },
        {
          "output_type": "stream",
          "name": "stdout",
          "text": [
            "Epoch 65: Loss: 1.4201, Train Accuracy: 46.68%\n",
            "Test Accuracy: 89.15%\n",
            "Confusion Matrix (Epoch 65):\n",
            "[[942   7  16   1   2   2   2   1  17  10]\n",
            " [ 12 954   2   2   0   1   1   2   4  22]\n",
            " [ 30   1 905  11  14  14  12   8   2   3]\n",
            " [ 12   3  54 753  21 113  25  12   3   4]\n",
            " [  9   2  37  17 867  17  22  27   2   0]\n",
            " [ 10   0  26  81  15 841  10  12   3   2]\n",
            " [ 10   1  37  21   6  11 913   0   1   0]\n",
            " [  8   1  14  11   8  23   0 932   0   3]\n",
            " [ 46  13   6   2   1   1   1   1 920   9]\n",
            " [ 28  52   4   5   0   4   1   1  17 888]]\n"
          ]
        },
        {
          "output_type": "stream",
          "name": "stderr",
          "text": [
            "/usr/local/lib/python3.11/dist-packages/torch/utils/data/dataloader.py:624: UserWarning: This DataLoader will create 4 worker processes in total. Our suggested max number of worker in current system is 2, which is smaller than what this DataLoader is going to create. Please be aware that excessive worker creation might get DataLoader running slow or even freeze, lower the worker number to avoid potential slowness/freeze if necessary.\n",
            "  warnings.warn(\n"
          ]
        },
        {
          "output_type": "stream",
          "name": "stdout",
          "text": [
            "Epoch 66: Loss: 1.3891, Train Accuracy: 46.95%\n",
            "Test Accuracy: 88.29%\n",
            "Confusion Matrix (Epoch 66):\n",
            "[[948   4  15   4   2   1   1   4  16   5]\n",
            " [ 14 922   1   2   0   0   1   1  42  17]\n",
            " [ 36   1 903  15  16   9   9   7   3   1]\n",
            " [ 16   3  43 776  23  97  15  18   7   2]\n",
            " [ 13   1  36  23 860  10  18  34   5   0]\n",
            " [ 16   0  27 108  22 800   7  18   1   1]\n",
            " [ 10   3  40  37   7  13 888   0   2   0]\n",
            " [ 10   0  16   8   7  18   0 937   1   3]\n",
            " [ 56   9   7   7   2   0   1   1 914   3]\n",
            " [ 33  53   3   7   1   3   1   1  17 881]]\n"
          ]
        },
        {
          "output_type": "stream",
          "name": "stderr",
          "text": [
            "/usr/local/lib/python3.11/dist-packages/torch/utils/data/dataloader.py:624: UserWarning: This DataLoader will create 4 worker processes in total. Our suggested max number of worker in current system is 2, which is smaller than what this DataLoader is going to create. Please be aware that excessive worker creation might get DataLoader running slow or even freeze, lower the worker number to avoid potential slowness/freeze if necessary.\n",
            "  warnings.warn(\n"
          ]
        },
        {
          "output_type": "stream",
          "name": "stdout",
          "text": [
            "Epoch 67: Loss: 1.3879, Train Accuracy: 44.50%\n",
            "Test Accuracy: 88.51%\n",
            "Confusion Matrix (Epoch 67):\n",
            "[[921   5  27   3   1   2   0   2  32   7]\n",
            " [ 12 967   1   2   0   1   0   1   3  13]\n",
            " [ 26   2 910  14  12  11  14   8   3   0]\n",
            " [  8   0  44 779  25  95  23  14   9   3]\n",
            " [  8   2  44  26 860  16  24  17   3   0]\n",
            " [ 12   1  35 109  19 796   8  16   2   2]\n",
            " [  8   1  40  28   5  10 905   1   2   0]\n",
            " [  7   0  17  17  23  21   1 913   0   1]\n",
            " [ 30  10   8   4   1   0   2   1 940   4]\n",
            " [ 35  67   5   8   1   1   1   1  21 860]]\n"
          ]
        },
        {
          "output_type": "stream",
          "name": "stderr",
          "text": [
            "/usr/local/lib/python3.11/dist-packages/torch/utils/data/dataloader.py:624: UserWarning: This DataLoader will create 4 worker processes in total. Our suggested max number of worker in current system is 2, which is smaller than what this DataLoader is going to create. Please be aware that excessive worker creation might get DataLoader running slow or even freeze, lower the worker number to avoid potential slowness/freeze if necessary.\n",
            "  warnings.warn(\n"
          ]
        },
        {
          "output_type": "stream",
          "name": "stdout",
          "text": [
            "Epoch 68: Loss: 1.3994, Train Accuracy: 48.90%\n",
            "Test Accuracy: 89.19%\n",
            "Confusion Matrix (Epoch 68):\n",
            "[[928   7  19   4   1   0   0   4  25  12]\n",
            " [  9 956   1   4   0   1   0   2   1  26]\n",
            " [ 23   2 901  22  11  16   8  11   3   3]\n",
            " [  5   2  35 786  16 108  21  15   7   5]\n",
            " [ 13   1  46  37 829  16  17  38   2   1]\n",
            " [ 13   2  21 101  14 822   8  18   0   1]\n",
            " [  6   3  38  28   4  14 906   1   0   0]\n",
            " [  8   1  12  14   2  17   0 943   2   1]\n",
            " [ 30  16   4   4   0   1   0   1 939   5]\n",
            " [ 21  39   2   6   1   2   1   1  18 909]]\n"
          ]
        },
        {
          "output_type": "stream",
          "name": "stderr",
          "text": [
            "/usr/local/lib/python3.11/dist-packages/torch/utils/data/dataloader.py:624: UserWarning: This DataLoader will create 4 worker processes in total. Our suggested max number of worker in current system is 2, which is smaller than what this DataLoader is going to create. Please be aware that excessive worker creation might get DataLoader running slow or even freeze, lower the worker number to avoid potential slowness/freeze if necessary.\n",
            "  warnings.warn(\n"
          ]
        },
        {
          "output_type": "stream",
          "name": "stdout",
          "text": [
            "Epoch 69: Loss: 1.3942, Train Accuracy: 46.26%\n",
            "Test Accuracy: 89.52%\n",
            "Confusion Matrix (Epoch 69):\n",
            "[[923   5  27   2   4   2   0   2  27   8]\n",
            " [ 11 956   1   1   0   1   0   2   5  23]\n",
            " [ 17   1 918  14  11  12  14   9   4   0]\n",
            " [  9   2  41 764  20 111  23  18   7   5]\n",
            " [ 10   2  42  21 851  16  18  35   4   1]\n",
            " [ 14   0  22  78  16 839  10  18   2   1]\n",
            " [  8   5  26  28   4  10 917   1   0   1]\n",
            " [  9   1  13   9   7  16   1 942   1   1]\n",
            " [ 27  13   5   3   0   1   2   1 941   7]\n",
            " [ 23  47   3   5   0   1   1   1  18 901]]\n"
          ]
        },
        {
          "output_type": "stream",
          "name": "stderr",
          "text": [
            "/usr/local/lib/python3.11/dist-packages/torch/utils/data/dataloader.py:624: UserWarning: This DataLoader will create 4 worker processes in total. Our suggested max number of worker in current system is 2, which is smaller than what this DataLoader is going to create. Please be aware that excessive worker creation might get DataLoader running slow or even freeze, lower the worker number to avoid potential slowness/freeze if necessary.\n",
            "  warnings.warn(\n"
          ]
        },
        {
          "output_type": "stream",
          "name": "stdout",
          "text": [
            "Epoch 70: Loss: 1.3755, Train Accuracy: 50.21%\n",
            "Test Accuracy: 89.13%\n",
            "Confusion Matrix (Epoch 70):\n",
            "[[929  10  16   2   2   0   0   4  25  12]\n",
            " [  7 946   1   1   0   0   0   2  23  20]\n",
            " [ 25   2 904  15  16  11  15   9   1   2]\n",
            " [ 15   3  35 750  22 116  26  19   9   5]\n",
            " [ 10   2  38  17 865  19  23  22   3   1]\n",
            " [ 16   1  23  85  19 819  10  24   2   1]\n",
            " [ 10   4  23  29   4  12 911   2   3   2]\n",
            " [  7   1  11   9  11  15   2 942   0   2]\n",
            " [ 28  13   2   2   1   0   1   0 949   4]\n",
            " [ 22  50   1   6   0   2   1   2  18 898]]\n"
          ]
        },
        {
          "output_type": "stream",
          "name": "stderr",
          "text": [
            "/usr/local/lib/python3.11/dist-packages/torch/utils/data/dataloader.py:624: UserWarning: This DataLoader will create 4 worker processes in total. Our suggested max number of worker in current system is 2, which is smaller than what this DataLoader is going to create. Please be aware that excessive worker creation might get DataLoader running slow or even freeze, lower the worker number to avoid potential slowness/freeze if necessary.\n",
            "  warnings.warn(\n"
          ]
        },
        {
          "output_type": "stream",
          "name": "stdout",
          "text": [
            "Epoch 71: Loss: 1.3902, Train Accuracy: 46.04%\n",
            "Test Accuracy: 88.93%\n",
            "Confusion Matrix (Epoch 71):\n",
            "[[941   9  14   4   1   0   0   1  24   6]\n",
            " [ 11 929   1   1   0   0   1   0  39  18]\n",
            " [ 31   2 901  21  15  13  10   3   2   2]\n",
            " [ 13   2  31 796  14  96  27  13   4   4]\n",
            " [ 11   2  37  23 859  18  22  23   4   1]\n",
            " [ 15   0  21  98  12 833   5  13   1   2]\n",
            " [ 11   5  28  33   5  11 907   0   0   0]\n",
            " [  7   1  13  13   9  24   2 928   2   1]\n",
            " [ 46  20   3   6   0   0   2   0 917   6]\n",
            " [ 28  65   1   6   0   2   1   0  15 882]]\n"
          ]
        },
        {
          "output_type": "stream",
          "name": "stderr",
          "text": [
            "/usr/local/lib/python3.11/dist-packages/torch/utils/data/dataloader.py:624: UserWarning: This DataLoader will create 4 worker processes in total. Our suggested max number of worker in current system is 2, which is smaller than what this DataLoader is going to create. Please be aware that excessive worker creation might get DataLoader running slow or even freeze, lower the worker number to avoid potential slowness/freeze if necessary.\n",
            "  warnings.warn(\n"
          ]
        },
        {
          "output_type": "stream",
          "name": "stdout",
          "text": [
            "Epoch 72: Loss: 1.4084, Train Accuracy: 49.43%\n",
            "Test Accuracy: 88.65%\n",
            "Confusion Matrix (Epoch 72):\n",
            "[[936   8  21   2   3   1   0   1  21   7]\n",
            " [  7 935   2   2   0   0   0   1  40  13]\n",
            " [ 26   2 899  20  17  19  12   3   1   1]\n",
            " [ 13   1  26 809  19  86  26  11   6   3]\n",
            " [ 12   2  31  24 868  16  20  24   3   0]\n",
            " [ 13   1  19 118  19 805  10  13   1   1]\n",
            " [ 11   5  26  30   8   9 910   1   0   0]\n",
            " [ 12   2  15  21  15  19   2 912   2   0]\n",
            " [ 49  16   5   8   0   0   1   1 916   4]\n",
            " [ 26  70   3   8   0   1   1   0  16 875]]\n"
          ]
        },
        {
          "output_type": "stream",
          "name": "stderr",
          "text": [
            "/usr/local/lib/python3.11/dist-packages/torch/utils/data/dataloader.py:624: UserWarning: This DataLoader will create 4 worker processes in total. Our suggested max number of worker in current system is 2, which is smaller than what this DataLoader is going to create. Please be aware that excessive worker creation might get DataLoader running slow or even freeze, lower the worker number to avoid potential slowness/freeze if necessary.\n",
            "  warnings.warn(\n"
          ]
        },
        {
          "output_type": "stream",
          "name": "stdout",
          "text": [
            "Epoch 73: Loss: 1.3833, Train Accuracy: 47.36%\n",
            "Test Accuracy: 89.10%\n",
            "Confusion Matrix (Epoch 73):\n",
            "[[937   8  11   5   0   2   0   4  25   8]\n",
            " [  8 966   1   2   0   0   0   1   2  20]\n",
            " [ 30   4 890  20  14  14  12  10   3   3]\n",
            " [ 15   4  38 764  19 108  26  17   6   3]\n",
            " [ 13   2  39  24 842  23  23  31   3   0]\n",
            " [ 16   0  23  87  11 831   8  21   2   1]\n",
            " [ 11   2  30  27   4  11 910   3   2   0]\n",
            " [  7   1  10   9   7  19   1 943   2   1]\n",
            " [ 33  15   4   6   0   0   0   0 939   3]\n",
            " [ 24  56   1   5   0   2   1   1  22 888]]\n"
          ]
        },
        {
          "output_type": "stream",
          "name": "stderr",
          "text": [
            "/usr/local/lib/python3.11/dist-packages/torch/utils/data/dataloader.py:624: UserWarning: This DataLoader will create 4 worker processes in total. Our suggested max number of worker in current system is 2, which is smaller than what this DataLoader is going to create. Please be aware that excessive worker creation might get DataLoader running slow or even freeze, lower the worker number to avoid potential slowness/freeze if necessary.\n",
            "  warnings.warn(\n"
          ]
        },
        {
          "output_type": "stream",
          "name": "stdout",
          "text": [
            "Epoch 74: Loss: 1.3731, Train Accuracy: 45.88%\n",
            "Test Accuracy: 89.65%\n",
            "Confusion Matrix (Epoch 74):\n",
            "[[925   5  20   4   2   1   0   2  35   6]\n",
            " [  8 958   2   3   0   0   0   2   7  20]\n",
            " [ 15   3 904  21  22  12  10  10   2   1]\n",
            " [  8   3  32 785  25 103  21  14   6   3]\n",
            " [  3   1  25  24 882  15  18  28   4   0]\n",
            " [ 14   0  20  99  17 826   8  14   0   2]\n",
            " [  9   3  32  30   9  11 905   0   1   0]\n",
            " [  7   0  13  12   8  18   1 938   1   2]\n",
            " [ 26  14   7   2   2   0   2   1 944   2]\n",
            " [ 20  48   3   6   0   1   1   1  22 898]]\n"
          ]
        },
        {
          "output_type": "stream",
          "name": "stderr",
          "text": [
            "/usr/local/lib/python3.11/dist-packages/torch/utils/data/dataloader.py:624: UserWarning: This DataLoader will create 4 worker processes in total. Our suggested max number of worker in current system is 2, which is smaller than what this DataLoader is going to create. Please be aware that excessive worker creation might get DataLoader running slow or even freeze, lower the worker number to avoid potential slowness/freeze if necessary.\n",
            "  warnings.warn(\n"
          ]
        },
        {
          "output_type": "stream",
          "name": "stdout",
          "text": [
            "Epoch 75: Loss: 1.3953, Train Accuracy: 47.32%\n",
            "Test Accuracy: 89.38%\n",
            "Confusion Matrix (Epoch 75):\n",
            "[[946   8   9   4   3   3   1   1  16   9]\n",
            " [  5 922   2   3   0   0   0   1  30  37]\n",
            " [ 26   3 885  29  15  15  12  11   2   2]\n",
            " [  9   3  34 781  21 108  27  12   3   2]\n",
            " [  6   2  33  20 859  26  19  29   5   1]\n",
            " [ 10   1  12  97  15 836  10  17   0   2]\n",
            " [ 10   1  27  20   3  11 925   2   1   0]\n",
            " [  8   0   6  18  11  15   0 939   1   2]\n",
            " [ 39  12   4   6   1   0   1   1 931   5]\n",
            " [ 25  34   3   6   0   1   1   2  14 914]]\n"
          ]
        },
        {
          "output_type": "stream",
          "name": "stderr",
          "text": [
            "/usr/local/lib/python3.11/dist-packages/torch/utils/data/dataloader.py:624: UserWarning: This DataLoader will create 4 worker processes in total. Our suggested max number of worker in current system is 2, which is smaller than what this DataLoader is going to create. Please be aware that excessive worker creation might get DataLoader running slow or even freeze, lower the worker number to avoid potential slowness/freeze if necessary.\n",
            "  warnings.warn(\n"
          ]
        },
        {
          "output_type": "stream",
          "name": "stdout",
          "text": [
            "Epoch 76: Loss: 1.3840, Train Accuracy: 47.09%\n",
            "Test Accuracy: 88.92%\n",
            "Confusion Matrix (Epoch 76):\n",
            "[[930   6  26   1   1   2   0   2  24   8]\n",
            " [  8 969   1   2   0   0   0   2   3  15]\n",
            " [ 15   2 918  12   9  17  10  10   4   3]\n",
            " [ 14   3  43 771  16 105  24  15   4   5]\n",
            " [ 12   2  57  20 825  20  25  33   4   2]\n",
            " [ 15   2  19  88  14 833   8  18   2   1]\n",
            " [ 10   3  46  30   2  10 894   3   1   1]\n",
            " [  9   1  15  10   6  17   0 937   2   3]\n",
            " [ 36  14   5   4   0   0   0   1 933   7]\n",
            " [ 23  67   3   4   0   3   0   2  16 882]]\n"
          ]
        },
        {
          "output_type": "stream",
          "name": "stderr",
          "text": [
            "/usr/local/lib/python3.11/dist-packages/torch/utils/data/dataloader.py:624: UserWarning: This DataLoader will create 4 worker processes in total. Our suggested max number of worker in current system is 2, which is smaller than what this DataLoader is going to create. Please be aware that excessive worker creation might get DataLoader running slow or even freeze, lower the worker number to avoid potential slowness/freeze if necessary.\n",
            "  warnings.warn(\n"
          ]
        },
        {
          "output_type": "stream",
          "name": "stdout",
          "text": [
            "Epoch 77: Loss: 1.3900, Train Accuracy: 44.87%\n",
            "Test Accuracy: 88.45%\n",
            "Confusion Matrix (Epoch 77):\n",
            "[[918  10  24   4   0   2   0   2  29  11]\n",
            " [  5 857   1   2   0   0   0   1 115  19]\n",
            " [ 19   4 902  25  18  12  12   5   2   1]\n",
            " [ 13   2  30 791  17 103  22  13   6   3]\n",
            " [  7   2  33  26 873  22  19  13   5   0]\n",
            " [ 14   0  15  94  12 839  10  14   2   0]\n",
            " [  7   4  28  26   5  13 913   0   3   1]\n",
            " [ 10   1  12  14  23  19   2 915   2   2]\n",
            " [ 26  17   3   2   1   0   0   1 945   5]\n",
            " [ 19  58   1   6   0   1   1   1  21 892]]\n"
          ]
        },
        {
          "output_type": "stream",
          "name": "stderr",
          "text": [
            "/usr/local/lib/python3.11/dist-packages/torch/utils/data/dataloader.py:624: UserWarning: This DataLoader will create 4 worker processes in total. Our suggested max number of worker in current system is 2, which is smaller than what this DataLoader is going to create. Please be aware that excessive worker creation might get DataLoader running slow or even freeze, lower the worker number to avoid potential slowness/freeze if necessary.\n",
            "  warnings.warn(\n"
          ]
        },
        {
          "output_type": "stream",
          "name": "stdout",
          "text": [
            "Epoch 78: Loss: 1.3771, Train Accuracy: 46.91%\n",
            "Test Accuracy: 89.00%\n",
            "Confusion Matrix (Epoch 78):\n",
            "[[937   7  10   3   0   1   0   2  29  11]\n",
            " [  9 929   3   3   0   1   0   1  34  20]\n",
            " [ 29   2 897  22  11  11  14   9   3   2]\n",
            " [ 14   3  34 758  21 112  32  14   6   6]\n",
            " [ 11   2  46  23 848  18  20  28   4   0]\n",
            " [ 11   0  17  82  12 845   8  23   1   1]\n",
            " [  8   4  28  25   2   8 922   1   2   0]\n",
            " [ 10   0  13  11   6  18   2 936   2   2]\n",
            " [ 35   9   3   4   1   1   0   0 941   6]\n",
            " [ 23  64   2   5   0   1   1   1  16 887]]\n"
          ]
        },
        {
          "output_type": "stream",
          "name": "stderr",
          "text": [
            "/usr/local/lib/python3.11/dist-packages/torch/utils/data/dataloader.py:624: UserWarning: This DataLoader will create 4 worker processes in total. Our suggested max number of worker in current system is 2, which is smaller than what this DataLoader is going to create. Please be aware that excessive worker creation might get DataLoader running slow or even freeze, lower the worker number to avoid potential slowness/freeze if necessary.\n",
            "  warnings.warn(\n"
          ]
        },
        {
          "output_type": "stream",
          "name": "stdout",
          "text": [
            "Epoch 79: Loss: 1.3898, Train Accuracy: 49.89%\n",
            "Test Accuracy: 89.41%\n",
            "Confusion Matrix (Epoch 79):\n",
            "[[939   2  18   2   2   1   1   4  22   9]\n",
            " [  8 958   3   3   0   1   0   2   5  20]\n",
            " [ 27   0 882  28  14  17  17  11   2   2]\n",
            " [ 12   1  27 777  16 113  28  20   3   3]\n",
            " [  8   1  25  25 859  22  34  23   2   1]\n",
            " [  9   1  17  89  12 836  11  23   2   0]\n",
            " [  9   2  20  25   5   6 930   2   1   0]\n",
            " [ 10   0   7  11   9  17   2 941   2   1]\n",
            " [ 50  12   6   8   1   0   0   1 918   4]\n",
            " [ 24  48   3   5   0   2   1   2  14 901]]\n"
          ]
        },
        {
          "output_type": "stream",
          "name": "stderr",
          "text": [
            "/usr/local/lib/python3.11/dist-packages/torch/utils/data/dataloader.py:624: UserWarning: This DataLoader will create 4 worker processes in total. Our suggested max number of worker in current system is 2, which is smaller than what this DataLoader is going to create. Please be aware that excessive worker creation might get DataLoader running slow or even freeze, lower the worker number to avoid potential slowness/freeze if necessary.\n",
            "  warnings.warn(\n"
          ]
        },
        {
          "output_type": "stream",
          "name": "stdout",
          "text": [
            "Epoch 80: Loss: 1.3964, Train Accuracy: 47.10%\n",
            "Test Accuracy: 89.38%\n",
            "Confusion Matrix (Epoch 80):\n",
            "[[923   2  24   2   2   1   1   3  34   8]\n",
            " [  9 951   3   1   0   1   1   2   8  24]\n",
            " [ 23   0 914  13  13  12  13   8   4   0]\n",
            " [ 12   2  38 755  20 124  24  12   8   5]\n",
            " [  4   1  35  29 855  25  19  28   4   0]\n",
            " [ 13   0  16  85  15 846   8  14   2   1]\n",
            " [  9   1  37  24   7   9 912   0   1   0]\n",
            " [ 10   0  13  10  11  25   2 925   2   2]\n",
            " [ 20   9   5   2   1   0   0   1 955   7]\n",
            " [ 20  48   3   4   0   3   1   1  18 902]]\n"
          ]
        },
        {
          "output_type": "stream",
          "name": "stderr",
          "text": [
            "/usr/local/lib/python3.11/dist-packages/torch/utils/data/dataloader.py:624: UserWarning: This DataLoader will create 4 worker processes in total. Our suggested max number of worker in current system is 2, which is smaller than what this DataLoader is going to create. Please be aware that excessive worker creation might get DataLoader running slow or even freeze, lower the worker number to avoid potential slowness/freeze if necessary.\n",
            "  warnings.warn(\n"
          ]
        },
        {
          "output_type": "stream",
          "name": "stdout",
          "text": [
            "Epoch 81: Loss: 1.3721, Train Accuracy: 50.20%\n",
            "Test Accuracy: 89.46%\n",
            "Confusion Matrix (Epoch 81):\n",
            "[[950   5  15   2   2   3   1   1  16   5]\n",
            " [ 11 959   1   1   0   2   0   1  10  15]\n",
            " [ 27   1 892  27  17  12  18   4   1   1]\n",
            " [ 11   2  26 787  19 111  29  10   3   2]\n",
            " [  6   1  32  22 866  28  21  19   4   1]\n",
            " [ 14   1  13  94  14 840  10  14   0   0]\n",
            " [ 10   2  23  21   4   7 932   0   1   0]\n",
            " [  9   1  14  13  14  26   1 917   4   1]\n",
            " [ 46  14   4   7   0   0   1   0 927   1]\n",
            " [ 34  61   4   8   0   4   1   0  12 876]]\n"
          ]
        },
        {
          "output_type": "stream",
          "name": "stderr",
          "text": [
            "/usr/local/lib/python3.11/dist-packages/torch/utils/data/dataloader.py:624: UserWarning: This DataLoader will create 4 worker processes in total. Our suggested max number of worker in current system is 2, which is smaller than what this DataLoader is going to create. Please be aware that excessive worker creation might get DataLoader running slow or even freeze, lower the worker number to avoid potential slowness/freeze if necessary.\n",
            "  warnings.warn(\n"
          ]
        },
        {
          "output_type": "stream",
          "name": "stdout",
          "text": [
            "Epoch 82: Loss: 1.3624, Train Accuracy: 45.01%\n",
            "Test Accuracy: 88.28%\n",
            "Confusion Matrix (Epoch 82):\n",
            "[[922   7  21   1   1   2   0   1  40   5]\n",
            " [  6 845   1   3   0   1   0   2 128  14]\n",
            " [ 18   3 902  27  12  13  17   6   2   0]\n",
            " [ 10   0  34 807  16 100  19   7   5   2]\n",
            " [  4   2  43  29 857  17  25  21   1   1]\n",
            " [ 12   0  16 101  16 826  10  16   2   1]\n",
            " [ 11   3  28  29   3   6 917   0   2   1]\n",
            " [ 13   1  14  19  10  18   2 919   2   2]\n",
            " [ 21  14   5   6   0   0   1   1 950   2]\n",
            " [ 23  59   4   8   0   2   1   1  19 883]]\n"
          ]
        },
        {
          "output_type": "stream",
          "name": "stderr",
          "text": [
            "/usr/local/lib/python3.11/dist-packages/torch/utils/data/dataloader.py:624: UserWarning: This DataLoader will create 4 worker processes in total. Our suggested max number of worker in current system is 2, which is smaller than what this DataLoader is going to create. Please be aware that excessive worker creation might get DataLoader running slow or even freeze, lower the worker number to avoid potential slowness/freeze if necessary.\n",
            "  warnings.warn(\n"
          ]
        },
        {
          "output_type": "stream",
          "name": "stdout",
          "text": [
            "Epoch 83: Loss: 1.3933, Train Accuracy: 47.27%\n",
            "Test Accuracy: 89.72%\n",
            "Confusion Matrix (Epoch 83):\n",
            "[[925   5  26   2   2   2   0   3  27   8]\n",
            " [ 17 950   2   2   0   0   0   1   4  24]\n",
            " [ 25   3 906  16  10  15  13   8   2   2]\n",
            " [ 14   1  44 750  16 129  21  12   8   5]\n",
            " [  5   1  29  21 882  21  16  23   2   0]\n",
            " [  9   0  17  73  15 859  11  13   2   1]\n",
            " [  9   2  30  26   6   7 917   0   2   1]\n",
            " [  8   0  11  10   8  24   2 933   2   2]\n",
            " [ 33  14   6   4   0   0   1   1 935   6]\n",
            " [ 15  44   3   2   0   3   1   1  16 915]]\n"
          ]
        },
        {
          "output_type": "stream",
          "name": "stderr",
          "text": [
            "/usr/local/lib/python3.11/dist-packages/torch/utils/data/dataloader.py:624: UserWarning: This DataLoader will create 4 worker processes in total. Our suggested max number of worker in current system is 2, which is smaller than what this DataLoader is going to create. Please be aware that excessive worker creation might get DataLoader running slow or even freeze, lower the worker number to avoid potential slowness/freeze if necessary.\n",
            "  warnings.warn(\n"
          ]
        },
        {
          "output_type": "stream",
          "name": "stdout",
          "text": [
            "Epoch 84: Loss: 1.3733, Train Accuracy: 45.99%\n",
            "Test Accuracy: 89.83%\n",
            "Confusion Matrix (Epoch 84):\n",
            "[[927   6  29   3   1   2   0   3  20   9]\n",
            " [  3 967   1   4   0   1   0   1   9  14]\n",
            " [ 15   4 904  24  16  17  11   4   2   3]\n",
            " [ 12   2  32 789  17 107  24  10   3   4]\n",
            " [ 12   1  22  25 878  15  17  26   4   0]\n",
            " [  8   2  17  78  18 846   9  19   2   1]\n",
            " [  9   2  30  31  10   7 910   0   1   0]\n",
            " [ 12   0  10  11  10  21   0 934   1   1]\n",
            " [ 40  16   4   5   0   1   0   1 926   7]\n",
            " [ 15  57   1   4   0   3   1   1  16 902]]\n"
          ]
        },
        {
          "output_type": "stream",
          "name": "stderr",
          "text": [
            "/usr/local/lib/python3.11/dist-packages/torch/utils/data/dataloader.py:624: UserWarning: This DataLoader will create 4 worker processes in total. Our suggested max number of worker in current system is 2, which is smaller than what this DataLoader is going to create. Please be aware that excessive worker creation might get DataLoader running slow or even freeze, lower the worker number to avoid potential slowness/freeze if necessary.\n",
            "  warnings.warn(\n"
          ]
        },
        {
          "output_type": "stream",
          "name": "stdout",
          "text": [
            "Epoch 85: Loss: 1.3853, Train Accuracy: 46.08%\n",
            "Test Accuracy: 88.43%\n",
            "Confusion Matrix (Epoch 85):\n",
            "[[925  10  11   4   2   2   0   4  32  10]\n",
            " [  3 877   2   3   0   0   0   2  92  21]\n",
            " [ 38   3 868  26  19  17  17   7   2   3]\n",
            " [ 13   2  23 787  14 115  24  11   8   3]\n",
            " [  4   2  20  27 865  27  22  30   3   0]\n",
            " [ 12   1  12  99  14 838   8  13   2   1]\n",
            " [ 10   2  21  37   6   9 912   1   1   1]\n",
            " [  8   1  10  18   9  28   1 922   1   2]\n",
            " [ 25  18   2   9   0   1   0   1 935   9]\n",
            " [  9  49   2   5   0   2   1   1  17 914]]\n"
          ]
        },
        {
          "output_type": "stream",
          "name": "stderr",
          "text": [
            "/usr/local/lib/python3.11/dist-packages/torch/utils/data/dataloader.py:624: UserWarning: This DataLoader will create 4 worker processes in total. Our suggested max number of worker in current system is 2, which is smaller than what this DataLoader is going to create. Please be aware that excessive worker creation might get DataLoader running slow or even freeze, lower the worker number to avoid potential slowness/freeze if necessary.\n",
            "  warnings.warn(\n"
          ]
        },
        {
          "output_type": "stream",
          "name": "stdout",
          "text": [
            "Epoch 86: Loss: 1.3963, Train Accuracy: 50.32%\n",
            "Test Accuracy: 89.10%\n",
            "Confusion Matrix (Epoch 86):\n",
            "[[934   6  19   7   0   1   1   5  21   6]\n",
            " [  6 943   2   1   0   1   0   1  32  14]\n",
            " [ 27   2 887  22  10  16  23   9   2   2]\n",
            " [  7   2  26 775  13 120  38  13   5   1]\n",
            " [ 12   2  30  32 826  27  31  38   2   0]\n",
            " [ 10   1  14  85  14 848   8  18   1   1]\n",
            " [  8   1  19  20   4   6 941   0   1   0]\n",
            " [ 10   0  11  13   4  21   2 937   1   1]\n",
            " [ 39  14   4   7   0   0   1   1 929   5]\n",
            " [ 19  59   3   6   0   2   3   2  16 890]]\n"
          ]
        },
        {
          "output_type": "stream",
          "name": "stderr",
          "text": [
            "/usr/local/lib/python3.11/dist-packages/torch/utils/data/dataloader.py:624: UserWarning: This DataLoader will create 4 worker processes in total. Our suggested max number of worker in current system is 2, which is smaller than what this DataLoader is going to create. Please be aware that excessive worker creation might get DataLoader running slow or even freeze, lower the worker number to avoid potential slowness/freeze if necessary.\n",
            "  warnings.warn(\n"
          ]
        },
        {
          "output_type": "stream",
          "name": "stdout",
          "text": [
            "Epoch 87: Loss: 1.3741, Train Accuracy: 47.03%\n",
            "Test Accuracy: 88.50%\n",
            "Confusion Matrix (Epoch 87):\n",
            "[[931   5  19   2   2   0   0   5  25  11]\n",
            " [  4 872   2   1   0   0   0   1  98  22]\n",
            " [ 27   2 901  15  14  19  12   5   3   2]\n",
            " [ 15   3  31 757  18 132  21  12   6   5]\n",
            " [  5   2  32  26 863  20  21  28   2   1]\n",
            " [ 10   2  19  80  17 846   8  14   3   1]\n",
            " [ 14   1  32  33   6   8 903   1   0   2]\n",
            " [  9   1  14  13  10  24   0 925   2   2]\n",
            " [ 31  17   5   5   0   1   0   0 931  10]\n",
            " [ 11  46   2   2   0   3   1   2  12 921]]\n"
          ]
        },
        {
          "output_type": "stream",
          "name": "stderr",
          "text": [
            "/usr/local/lib/python3.11/dist-packages/torch/utils/data/dataloader.py:624: UserWarning: This DataLoader will create 4 worker processes in total. Our suggested max number of worker in current system is 2, which is smaller than what this DataLoader is going to create. Please be aware that excessive worker creation might get DataLoader running slow or even freeze, lower the worker number to avoid potential slowness/freeze if necessary.\n",
            "  warnings.warn(\n"
          ]
        },
        {
          "output_type": "stream",
          "name": "stdout",
          "text": [
            "Epoch 88: Loss: 1.3816, Train Accuracy: 50.00%\n",
            "Test Accuracy: 89.47%\n",
            "Confusion Matrix (Epoch 88):\n",
            "[[939   8  10   4   0   0   0   2  29   8]\n",
            " [  6 964   2   2   0   0   0   1   9  16]\n",
            " [ 37   0 897  13  14  13  14   5   5   2]\n",
            " [ 21   3  36 763  20 110  27   9   8   3]\n",
            " [ 12   3  31  21 851  21  25  33   3   0]\n",
            " [ 16   0  22  84  18 831   9  16   3   1]\n",
            " [ 13   3  24  20   5   4 928   0   2   1]\n",
            " [  8   2  14  15  10  18   1 929   2   1]\n",
            " [ 32   9   3   4   0   0   0   0 946   6]\n",
            " [ 16  50   3   4   0   2   1   3  22 899]]\n"
          ]
        },
        {
          "output_type": "stream",
          "name": "stderr",
          "text": [
            "/usr/local/lib/python3.11/dist-packages/torch/utils/data/dataloader.py:624: UserWarning: This DataLoader will create 4 worker processes in total. Our suggested max number of worker in current system is 2, which is smaller than what this DataLoader is going to create. Please be aware that excessive worker creation might get DataLoader running slow or even freeze, lower the worker number to avoid potential slowness/freeze if necessary.\n",
            "  warnings.warn(\n"
          ]
        },
        {
          "output_type": "stream",
          "name": "stdout",
          "text": [
            "Epoch 89: Loss: 1.3734, Train Accuracy: 48.68%\n",
            "Test Accuracy: 89.64%\n",
            "Confusion Matrix (Epoch 89):\n",
            "[[929  10  10   9   0   2   0   1  32   7]\n",
            " [  3 956   2   5   0   0   0   1  12  21]\n",
            " [ 28   0 894  26  13  12  12   6   6   3]\n",
            " [  9   1  28 784  22 113  22  12   6   3]\n",
            " [  5   2  26  27 872  16  22  29   1   0]\n",
            " [  8   0  18  96  19 831   8  18   2   0]\n",
            " [  8   2  25  39   6   8 909   1   2   0]\n",
            " [  9   0  10  14   9  21   1 931   3   2]\n",
            " [ 25   9   2   7   0   0   0   1 948   8]\n",
            " [ 15  41   3   7   0   3   1   2  18 910]]\n"
          ]
        },
        {
          "output_type": "stream",
          "name": "stderr",
          "text": [
            "/usr/local/lib/python3.11/dist-packages/torch/utils/data/dataloader.py:624: UserWarning: This DataLoader will create 4 worker processes in total. Our suggested max number of worker in current system is 2, which is smaller than what this DataLoader is going to create. Please be aware that excessive worker creation might get DataLoader running slow or even freeze, lower the worker number to avoid potential slowness/freeze if necessary.\n",
            "  warnings.warn(\n"
          ]
        },
        {
          "output_type": "stream",
          "name": "stdout",
          "text": [
            "Epoch 90: Loss: 1.3197, Train Accuracy: 48.13%\n",
            "Test Accuracy: 89.64%\n",
            "Confusion Matrix (Epoch 90):\n",
            "[[929   7  15   2   1   0   3   2  31  10]\n",
            " [  4 960   2   1   0   0   0   1  14  18]\n",
            " [ 30   2 893  22  16  12  13   6   4   2]\n",
            " [ 10   2  36 795  22  82  26  13  12   2]\n",
            " [  5   2  20  26 897  15  12  20   3   0]\n",
            " [  8   1  21 115  17 813   7  13   3   2]\n",
            " [ 13   2  23  29   7   8 916   1   1   0]\n",
            " [  7   1   7  17  27  25   1 913   1   1]\n",
            " [ 20  16   4   2   1   1   0   1 947   8]\n",
            " [ 20  49   3   4   0   1   1   3  18 901]]\n"
          ]
        },
        {
          "output_type": "stream",
          "name": "stderr",
          "text": [
            "/usr/local/lib/python3.11/dist-packages/torch/utils/data/dataloader.py:624: UserWarning: This DataLoader will create 4 worker processes in total. Our suggested max number of worker in current system is 2, which is smaller than what this DataLoader is going to create. Please be aware that excessive worker creation might get DataLoader running slow or even freeze, lower the worker number to avoid potential slowness/freeze if necessary.\n",
            "  warnings.warn(\n"
          ]
        },
        {
          "output_type": "stream",
          "name": "stdout",
          "text": [
            "Epoch 91: Loss: 1.3725, Train Accuracy: 45.28%\n",
            "Test Accuracy: 89.42%\n",
            "Confusion Matrix (Epoch 91):\n",
            "[[931   7  28   2   1   1   0   3  22   5]\n",
            " [ 10 938   2   0   0   0   0   2  33  15]\n",
            " [ 26   3 909  18  12  11  13   7   0   1]\n",
            " [ 16   2  36 802  23  73  28  10   7   3]\n",
            " [  7   3  28  16 887  11  20  24   3   1]\n",
            " [ 15   0  21 113  21 804  10  13   0   3]\n",
            " [  8   1  40  26   9   6 909   0   1   0]\n",
            " [ 12   2  11  11  19  19   2 921   2   1]\n",
            " [ 37   8   9   3   0   0   0   1 939   3]\n",
            " [ 23  48   3   3   0   2   1   1  17 902]]\n"
          ]
        },
        {
          "output_type": "stream",
          "name": "stderr",
          "text": [
            "/usr/local/lib/python3.11/dist-packages/torch/utils/data/dataloader.py:624: UserWarning: This DataLoader will create 4 worker processes in total. Our suggested max number of worker in current system is 2, which is smaller than what this DataLoader is going to create. Please be aware that excessive worker creation might get DataLoader running slow or even freeze, lower the worker number to avoid potential slowness/freeze if necessary.\n",
            "  warnings.warn(\n"
          ]
        },
        {
          "output_type": "stream",
          "name": "stdout",
          "text": [
            "Epoch 92: Loss: 1.3619, Train Accuracy: 45.95%\n",
            "Test Accuracy: 90.32%\n",
            "Confusion Matrix (Epoch 92):\n",
            "[[917   5  38   5   1   0   1   2  23   8]\n",
            " [  5 970   1   0   0   0   0   2   4  18]\n",
            " [ 12   1 921  16  15  11  10   9   3   2]\n",
            " [  8   4  31 794  24  82  33  11   8   5]\n",
            " [  3   1  26  20 888  10  21  25   4   2]\n",
            " [ 11   0  17 100  17 824   9  20   2   0]\n",
            " [  7   0  29  19   7   4 931   2   0   1]\n",
            " [  6   0  11  10  15  15   0 939   2   2]\n",
            " [ 28  11   6   4   1   0   0   0 943   7]\n",
            " [ 20  46   4   4   0   1   1   3  16 905]]\n"
          ]
        },
        {
          "output_type": "stream",
          "name": "stderr",
          "text": [
            "/usr/local/lib/python3.11/dist-packages/torch/utils/data/dataloader.py:624: UserWarning: This DataLoader will create 4 worker processes in total. Our suggested max number of worker in current system is 2, which is smaller than what this DataLoader is going to create. Please be aware that excessive worker creation might get DataLoader running slow or even freeze, lower the worker number to avoid potential slowness/freeze if necessary.\n",
            "  warnings.warn(\n"
          ]
        },
        {
          "output_type": "stream",
          "name": "stdout",
          "text": [
            "Epoch 93: Loss: 1.3487, Train Accuracy: 47.24%\n",
            "Test Accuracy: 88.46%\n",
            "Confusion Matrix (Epoch 93):\n",
            "[[918   6  28   3   1   0   0   3  30  11]\n",
            " [  4 816   1   0   0   0   0   2 156  21]\n",
            " [ 16   3 909  17  19  13  10   8   3   2]\n",
            " [ 15   2  24 760  21 117  26  19  10   6]\n",
            " [  6   2  26  23 871  22  17  29   3   1]\n",
            " [ 11   1  16  67  19 851   8  23   1   3]\n",
            " [  8   1  25  25  11   5 923   2   0   0]\n",
            " [ 11   1  10   5  13  18   1 934   3   4]\n",
            " [ 23  11   5   4   0   0   1   0 949   7]\n",
            " [ 13  46   4   1   0   1   2   1  17 915]]\n"
          ]
        },
        {
          "output_type": "stream",
          "name": "stderr",
          "text": [
            "/usr/local/lib/python3.11/dist-packages/torch/utils/data/dataloader.py:624: UserWarning: This DataLoader will create 4 worker processes in total. Our suggested max number of worker in current system is 2, which is smaller than what this DataLoader is going to create. Please be aware that excessive worker creation might get DataLoader running slow or even freeze, lower the worker number to avoid potential slowness/freeze if necessary.\n",
            "  warnings.warn(\n"
          ]
        },
        {
          "output_type": "stream",
          "name": "stdout",
          "text": [
            "Epoch 94: Loss: 1.3457, Train Accuracy: 47.68%\n",
            "Test Accuracy: 88.79%\n",
            "Confusion Matrix (Epoch 94):\n",
            "[[936  11  14   3   0   1   1   0  23  11]\n",
            " [  3 849   1   1   0   0   0   1 127  18]\n",
            " [ 26   2 899  12  18  14  12  10   4   3]\n",
            " [ 22   4  25 757  21 116  27  14   8   6]\n",
            " [ 11   2  28  23 872  14  20  26   4   0]\n",
            " [ 11   1  13  79  16 854   7  15   2   2]\n",
            " [  8   4  24  22   6   9 924   2   0   1]\n",
            " [  7   1   8  10  13  23   0 934   3   1]\n",
            " [ 22  14   3   4   0   0   1   0 948   8]\n",
            " [ 15  52   2   3   0   2   1   2  17 906]]\n"
          ]
        },
        {
          "output_type": "stream",
          "name": "stderr",
          "text": [
            "/usr/local/lib/python3.11/dist-packages/torch/utils/data/dataloader.py:624: UserWarning: This DataLoader will create 4 worker processes in total. Our suggested max number of worker in current system is 2, which is smaller than what this DataLoader is going to create. Please be aware that excessive worker creation might get DataLoader running slow or even freeze, lower the worker number to avoid potential slowness/freeze if necessary.\n",
            "  warnings.warn(\n"
          ]
        },
        {
          "output_type": "stream",
          "name": "stdout",
          "text": [
            "Epoch 95: Loss: 1.3470, Train Accuracy: 48.66%\n",
            "Test Accuracy: 89.66%\n",
            "Confusion Matrix (Epoch 95):\n",
            "[[925   5  21   7   0   0   1   0  31  10]\n",
            " [  9 965   1   2   0   0   0   0   9  14]\n",
            " [ 20   2 908  20  17   8  14  10   1   0]\n",
            " [ 11   2  33 793  21 104  20   7   6   3]\n",
            " [  8   2  27  21 880  18  20  22   2   0]\n",
            " [  9   0  16 106  17 832   8   9   0   3]\n",
            " [ 11   2  31  29   7   9 911   0   0   0]\n",
            " [  9   0  13  15  15  29   2 913   2   2]\n",
            " [ 31   9   6   4   1   0   1   0 945   3]\n",
            " [ 21  56   3   5   0   2   1   2  16 894]]\n"
          ]
        },
        {
          "output_type": "stream",
          "name": "stderr",
          "text": [
            "/usr/local/lib/python3.11/dist-packages/torch/utils/data/dataloader.py:624: UserWarning: This DataLoader will create 4 worker processes in total. Our suggested max number of worker in current system is 2, which is smaller than what this DataLoader is going to create. Please be aware that excessive worker creation might get DataLoader running slow or even freeze, lower the worker number to avoid potential slowness/freeze if necessary.\n",
            "  warnings.warn(\n"
          ]
        },
        {
          "output_type": "stream",
          "name": "stdout",
          "text": [
            "Epoch 96: Loss: 1.3658, Train Accuracy: 46.54%\n",
            "Test Accuracy: 89.43%\n",
            "Confusion Matrix (Epoch 96):\n",
            "[[937   5  24   3   2   1   1   3  19   5]\n",
            " [  5 976   1   2   0   0   0   1   3  12]\n",
            " [ 22   2 907  18  14  16  12   6   1   2]\n",
            " [ 14   2  28 783  19 109  27  11   4   3]\n",
            " [  8   2  37  29 845  19  29  30   1   0]\n",
            " [ 11   0  24  92  12 831  11  16   2   1]\n",
            " [  6   2  26  26   6   3 929   1   1   0]\n",
            " [  8   0  18  14   8  19   1 929   1   2]\n",
            " [ 43  18   7   7   1   0   1   0 919   4]\n",
            " [ 19  65   5   5   0   4   1   2  12 887]]\n"
          ]
        },
        {
          "output_type": "stream",
          "name": "stderr",
          "text": [
            "/usr/local/lib/python3.11/dist-packages/torch/utils/data/dataloader.py:624: UserWarning: This DataLoader will create 4 worker processes in total. Our suggested max number of worker in current system is 2, which is smaller than what this DataLoader is going to create. Please be aware that excessive worker creation might get DataLoader running slow or even freeze, lower the worker number to avoid potential slowness/freeze if necessary.\n",
            "  warnings.warn(\n"
          ]
        },
        {
          "output_type": "stream",
          "name": "stdout",
          "text": [
            "Epoch 97: Loss: 1.3614, Train Accuracy: 50.28%\n",
            "Test Accuracy: 88.40%\n",
            "Confusion Matrix (Epoch 97):\n",
            "[[954   4  15   3   0   0   0   3  14   7]\n",
            " [  5 818   1   2   1   0   0   1 144  28]\n",
            " [ 24   2 907  18  13  10  15   9   2   0]\n",
            " [ 14   2  30 808  19  79  23  17   6   2]\n",
            " [  9   2  31  30 862  11  15  38   2   0]\n",
            " [ 12   0  24 109  19 801   7  24   2   2]\n",
            " [  9   4  29  32   4   3 916   2   0   1]\n",
            " [  7   0  12  11   5  17   0 946   0   2]\n",
            " [ 46  15   5   3   1   0   1   1 918  10]\n",
            " [ 28  37   3   5   0   2   0   2  13 910]]\n"
          ]
        },
        {
          "output_type": "stream",
          "name": "stderr",
          "text": [
            "/usr/local/lib/python3.11/dist-packages/torch/utils/data/dataloader.py:624: UserWarning: This DataLoader will create 4 worker processes in total. Our suggested max number of worker in current system is 2, which is smaller than what this DataLoader is going to create. Please be aware that excessive worker creation might get DataLoader running slow or even freeze, lower the worker number to avoid potential slowness/freeze if necessary.\n",
            "  warnings.warn(\n"
          ]
        },
        {
          "output_type": "stream",
          "name": "stdout",
          "text": [
            "Epoch 98: Loss: 1.3245, Train Accuracy: 48.32%\n",
            "Test Accuracy: 89.73%\n",
            "Confusion Matrix (Epoch 98):\n",
            "[[942   4  27   0   2   1   2   4  13   5]\n",
            " [  5 936   1   1   0   0   0   2  35  20]\n",
            " [ 18   2 911  18  15  14  11   9   1   1]\n",
            " [ 13   2  33 784  16  97  27  17   5   6]\n",
            " [  4   1  32  27 883  13  13  26   1   0]\n",
            " [  7   0  26  95  20 827  10  13   2   0]\n",
            " [  8   2  28  25   4   8 923   1   1   0]\n",
            " [  7   1  10  11   9  15   0 943   2   2]\n",
            " [ 44  14   7   4   0   0   0   0 922   9]\n",
            " [ 25  47   3   5   0   2   0   2  14 902]]\n"
          ]
        },
        {
          "output_type": "stream",
          "name": "stderr",
          "text": [
            "/usr/local/lib/python3.11/dist-packages/torch/utils/data/dataloader.py:624: UserWarning: This DataLoader will create 4 worker processes in total. Our suggested max number of worker in current system is 2, which is smaller than what this DataLoader is going to create. Please be aware that excessive worker creation might get DataLoader running slow or even freeze, lower the worker number to avoid potential slowness/freeze if necessary.\n",
            "  warnings.warn(\n"
          ]
        },
        {
          "output_type": "stream",
          "name": "stdout",
          "text": [
            "Epoch 99: Loss: 1.3722, Train Accuracy: 48.60%\n",
            "Test Accuracy: 88.42%\n",
            "Confusion Matrix (Epoch 99):\n",
            "[[917   4  47   6   2   2   0   2  16   4]\n",
            " [ 67 904   2   3   0   1   0   0  13  10]\n",
            " [  9   1 927  17  12  12   8  10   3   1]\n",
            " [  9   3  43 762  18 131  19   8   3   4]\n",
            " [  4   2  45  29 851  18  18  31   2   0]\n",
            " [  7   0  22  78  19 851   6  14   2   1]\n",
            " [  9   2  41  43   6   8 889   2   0   0]\n",
            " [  9   0  18   7   9  18   2 933   2   2]\n",
            " [ 39  21   6   4   0   2   0   0 922   6]\n",
            " [ 21  68   6   2   0   2   1   1  13 886]]\n"
          ]
        },
        {
          "output_type": "stream",
          "name": "stderr",
          "text": [
            "/usr/local/lib/python3.11/dist-packages/torch/utils/data/dataloader.py:624: UserWarning: This DataLoader will create 4 worker processes in total. Our suggested max number of worker in current system is 2, which is smaller than what this DataLoader is going to create. Please be aware that excessive worker creation might get DataLoader running slow or even freeze, lower the worker number to avoid potential slowness/freeze if necessary.\n",
            "  warnings.warn(\n"
          ]
        },
        {
          "output_type": "stream",
          "name": "stdout",
          "text": [
            "Epoch 100: Loss: 1.3715, Train Accuracy: 49.65%\n",
            "Test Accuracy: 87.89%\n",
            "Confusion Matrix (Epoch 100):\n",
            "[[918   5  41   4   2   2   0   1  24   3]\n",
            " [114 865   3   2   0   1   0   1   4  10]\n",
            " [ 18   1 909  28  15  11  11   5   2   0]\n",
            " [  9   2  40 824  11  83  17   7   5   2]\n",
            " [ 10   1  36  36 835  22  16  43   1   0]\n",
            " [ 14   0  22 119  14 813   5  11   2   0]\n",
            " [ 11   1  33  43   6   6 896   2   2   0]\n",
            " [  6   2  14  21   6  24   2 921   3   1]\n",
            " [ 33  15   4   6   0   2   1   0 935   4]\n",
            " [ 30  63   5   9   0   3   1   1  15 873]]\n"
          ]
        },
        {
          "output_type": "stream",
          "name": "stderr",
          "text": [
            "/usr/local/lib/python3.11/dist-packages/torch/utils/data/dataloader.py:624: UserWarning: This DataLoader will create 4 worker processes in total. Our suggested max number of worker in current system is 2, which is smaller than what this DataLoader is going to create. Please be aware that excessive worker creation might get DataLoader running slow or even freeze, lower the worker number to avoid potential slowness/freeze if necessary.\n",
            "  warnings.warn(\n"
          ]
        },
        {
          "output_type": "stream",
          "name": "stdout",
          "text": [
            "Epoch 101: Loss: 1.3593, Train Accuracy: 48.34%\n",
            "Test Accuracy: 89.53%\n",
            "Confusion Matrix (Epoch 101):\n",
            "[[927   9  21   7   0   1   1   4  21   9]\n",
            " [  4 917   1   2   0   0   0   0  51  25]\n",
            " [ 19   1 906  25  11  12  11   7   6   2]\n",
            " [  5   2  38 831  16  72  17   8   7   4]\n",
            " [  3   2  30  31 858  20  17  34   2   3]\n",
            " [  9   0  23 126  13 805   6  16   2   0]\n",
            " [  6   3  23  26   5   6 927   0   1   3]\n",
            " [  4   1  14  18   8  17   2 931   3   2]\n",
            " [ 26  13   4   4   1   0   1   0 940  11]\n",
            " [ 14  48   4   5   0   2   1   1  14 911]]\n"
          ]
        },
        {
          "output_type": "stream",
          "name": "stderr",
          "text": [
            "/usr/local/lib/python3.11/dist-packages/torch/utils/data/dataloader.py:624: UserWarning: This DataLoader will create 4 worker processes in total. Our suggested max number of worker in current system is 2, which is smaller than what this DataLoader is going to create. Please be aware that excessive worker creation might get DataLoader running slow or even freeze, lower the worker number to avoid potential slowness/freeze if necessary.\n",
            "  warnings.warn(\n"
          ]
        },
        {
          "output_type": "stream",
          "name": "stdout",
          "text": [
            "Epoch 102: Loss: 1.3552, Train Accuracy: 43.77%\n",
            "Test Accuracy: 89.79%\n",
            "Confusion Matrix (Epoch 102):\n",
            "[[951   3  17   1   2   2   1   1  19   3]\n",
            " [ 18 956   1   1   0   0   1   1   7  15]\n",
            " [ 30   1 913  16  13   8   7   9   2   1]\n",
            " [ 14   2  41 788  17  97  21  10   7   3]\n",
            " [  7   1  37  22 880  17  13  21   2   0]\n",
            " [ 12   0  33  95  19 820   8  11   2   0]\n",
            " [  9   2  37  28   9   8 907   0   0   0]\n",
            " [  7   0  12  12  15  19   2 930   1   2]\n",
            " [ 39  10   7   4   1   0   0   0 936   3]\n",
            " [ 28  46   5   5   0   2   1   2  13 898]]\n"
          ]
        },
        {
          "output_type": "stream",
          "name": "stderr",
          "text": [
            "/usr/local/lib/python3.11/dist-packages/torch/utils/data/dataloader.py:624: UserWarning: This DataLoader will create 4 worker processes in total. Our suggested max number of worker in current system is 2, which is smaller than what this DataLoader is going to create. Please be aware that excessive worker creation might get DataLoader running slow or even freeze, lower the worker number to avoid potential slowness/freeze if necessary.\n",
            "  warnings.warn(\n"
          ]
        },
        {
          "output_type": "stream",
          "name": "stdout",
          "text": [
            "Epoch 103: Loss: 1.3457, Train Accuracy: 47.00%\n",
            "Test Accuracy: 88.11%\n",
            "Confusion Matrix (Epoch 103):\n",
            "[[957   8   9   3   1   2   0   1  12   7]\n",
            " [  4 838   1   3   0   0   0   0 142  12]\n",
            " [ 25   0 907  25  12  11  10   6   3   1]\n",
            " [ 10   4  33 824  15  79  22   6   4   3]\n",
            " [  8   1  45  35 844  15  21  28   3   0]\n",
            " [ 13   0  22 126  15 801   9  13   1   0]\n",
            " [  9   5  35  30   4   4 911   1   1   0]\n",
            " [ 10   0  18  20   9  25   2 915   0   1]\n",
            " [ 39  19   6   9   0   0   0   0 925   2]\n",
            " [ 21  65   2   7   0   2   1   1  12 889]]\n"
          ]
        },
        {
          "output_type": "stream",
          "name": "stderr",
          "text": [
            "/usr/local/lib/python3.11/dist-packages/torch/utils/data/dataloader.py:624: UserWarning: This DataLoader will create 4 worker processes in total. Our suggested max number of worker in current system is 2, which is smaller than what this DataLoader is going to create. Please be aware that excessive worker creation might get DataLoader running slow or even freeze, lower the worker number to avoid potential slowness/freeze if necessary.\n",
            "  warnings.warn(\n"
          ]
        },
        {
          "output_type": "stream",
          "name": "stdout",
          "text": [
            "Epoch 104: Loss: 1.3733, Train Accuracy: 47.85%\n",
            "Test Accuracy: 88.25%\n",
            "Confusion Matrix (Epoch 104):\n",
            "[[954   3  17   1   2   2   0   1  16   4]\n",
            " [  8 816   4   2   1   0   0   1 160   8]\n",
            " [ 19   0 926   9  19   9  11   4   3   0]\n",
            " [  9   2  44 793  20  95  22   8   5   2]\n",
            " [  4   1  25  24 884  14  21  24   3   0]\n",
            " [ 15   0  21 104  18 821   9  10   2   0]\n",
            " [  9   1  34  29   6   7 911   0   2   1]\n",
            " [  7   0  14  15  15  18   1 929   0   1]\n",
            " [ 35  15   7   2   1   0   0   0 938   2]\n",
            " [ 34  82   5   4   0   2   1   1  18 853]]\n"
          ]
        },
        {
          "output_type": "stream",
          "name": "stderr",
          "text": [
            "/usr/local/lib/python3.11/dist-packages/torch/utils/data/dataloader.py:624: UserWarning: This DataLoader will create 4 worker processes in total. Our suggested max number of worker in current system is 2, which is smaller than what this DataLoader is going to create. Please be aware that excessive worker creation might get DataLoader running slow or even freeze, lower the worker number to avoid potential slowness/freeze if necessary.\n",
            "  warnings.warn(\n"
          ]
        },
        {
          "output_type": "stream",
          "name": "stdout",
          "text": [
            "Epoch 105: Loss: 1.3287, Train Accuracy: 49.20%\n",
            "Test Accuracy: 89.31%\n",
            "Confusion Matrix (Epoch 105):\n",
            "[[943   6  20   0   5   1   1   2  16   6]\n",
            " [  5 921   3   2   0   0   0   0  51  18]\n",
            " [ 17   1 912  18  18  11  14   7   1   1]\n",
            " [ 11   1  37 776  25 108  22   7   8   5]\n",
            " [  2   1  35  22 880  12  23  23   2   0]\n",
            " [ 12   0  19 102  22 816   9  16   3   1]\n",
            " [  7   2  37  21   3   5 922   0   2   1]\n",
            " [  6   1  10  14  14  19   0 932   2   2]\n",
            " [ 39  15   8   4   0   1   1   0 928   4]\n",
            " [ 22  50   4   7   0   2   1   1  12 901]]\n"
          ]
        },
        {
          "output_type": "stream",
          "name": "stderr",
          "text": [
            "/usr/local/lib/python3.11/dist-packages/torch/utils/data/dataloader.py:624: UserWarning: This DataLoader will create 4 worker processes in total. Our suggested max number of worker in current system is 2, which is smaller than what this DataLoader is going to create. Please be aware that excessive worker creation might get DataLoader running slow or even freeze, lower the worker number to avoid potential slowness/freeze if necessary.\n",
            "  warnings.warn(\n"
          ]
        },
        {
          "output_type": "stream",
          "name": "stdout",
          "text": [
            "Epoch 106: Loss: 1.3555, Train Accuracy: 50.27%\n",
            "Test Accuracy: 89.64%\n",
            "Confusion Matrix (Epoch 106):\n",
            "[[924   4  18   5   1   2   0   2  39   5]\n",
            " [  5 947   2   4   1   1   0   0  21  19]\n",
            " [ 15   1 916  23   9  15   8  10   3   0]\n",
            " [  6   1  35 822  14  92  12  10   8   0]\n",
            " [  1   1  40  33 870  19  13  22   1   0]\n",
            " [  9   0  21 112  12 825   5  14   2   0]\n",
            " [ 10   3  33  51   7  15 877   1   2   1]\n",
            " [  8   0  11  14  11  21   1 930   3   1]\n",
            " [ 22  12   5   4   0   0   2   0 950   5]\n",
            " [ 19  41   3   9   0   2   0   4  19 903]]\n"
          ]
        },
        {
          "output_type": "stream",
          "name": "stderr",
          "text": [
            "/usr/local/lib/python3.11/dist-packages/torch/utils/data/dataloader.py:624: UserWarning: This DataLoader will create 4 worker processes in total. Our suggested max number of worker in current system is 2, which is smaller than what this DataLoader is going to create. Please be aware that excessive worker creation might get DataLoader running slow or even freeze, lower the worker number to avoid potential slowness/freeze if necessary.\n",
            "  warnings.warn(\n"
          ]
        },
        {
          "output_type": "stream",
          "name": "stdout",
          "text": [
            "Epoch 107: Loss: 1.3261, Train Accuracy: 48.19%\n",
            "Test Accuracy: 88.50%\n",
            "Confusion Matrix (Epoch 107):\n",
            "[[938   8  22   1   1   3   0   1  19   7]\n",
            " [  6 927   3   1   1   2   1   3  47   9]\n",
            " [ 17   1 914  13  15  15  11  12   1   1]\n",
            " [ 21   1  48 726  20 150  15  10   6   3]\n",
            " [  7   2  34  21 860  28  16  29   3   0]\n",
            " [ 12   0  23  66  14 863   5  15   1   1]\n",
            " [  8   1  40  36   4  15 895   0   0   1]\n",
            " [  9   0  13   9   8  27   1 928   3   2]\n",
            " [ 35  11  10   3   1   1   0   1 929   9]\n",
            " [ 19  80   5   7   0   3   1   2  13 870]]\n"
          ]
        },
        {
          "output_type": "stream",
          "name": "stderr",
          "text": [
            "/usr/local/lib/python3.11/dist-packages/torch/utils/data/dataloader.py:624: UserWarning: This DataLoader will create 4 worker processes in total. Our suggested max number of worker in current system is 2, which is smaller than what this DataLoader is going to create. Please be aware that excessive worker creation might get DataLoader running slow or even freeze, lower the worker number to avoid potential slowness/freeze if necessary.\n",
            "  warnings.warn(\n"
          ]
        },
        {
          "output_type": "stream",
          "name": "stdout",
          "text": [
            "Epoch 108: Loss: 1.3312, Train Accuracy: 48.46%\n",
            "Test Accuracy: 89.30%\n",
            "Confusion Matrix (Epoch 108):\n",
            "[[897   9  44   3   3   2   4   5  23  10]\n",
            " [  6 893   3   3   2   2   0   1  65  25]\n",
            " [ 10   1 914  18  16  10  16   9   4   2]\n",
            " [  8   1  39 766  23 108  37  11   5   2]\n",
            " [  2   2  26  20 882  23  23  21   1   0]\n",
            " [  5   0  23  94  19 833   7  18   1   0]\n",
            " [  2   1  26  16   4   5 943   1   0   2]\n",
            " [  5   1  15  10  11  15   0 939   2   2]\n",
            " [ 24  12   8   6   0   0   2   0 945   3]\n",
            " [ 17  33   4   6   0   2   2   1  17 918]]\n"
          ]
        },
        {
          "output_type": "stream",
          "name": "stderr",
          "text": [
            "/usr/local/lib/python3.11/dist-packages/torch/utils/data/dataloader.py:624: UserWarning: This DataLoader will create 4 worker processes in total. Our suggested max number of worker in current system is 2, which is smaller than what this DataLoader is going to create. Please be aware that excessive worker creation might get DataLoader running slow or even freeze, lower the worker number to avoid potential slowness/freeze if necessary.\n",
            "  warnings.warn(\n"
          ]
        },
        {
          "output_type": "stream",
          "name": "stdout",
          "text": [
            "Epoch 109: Loss: 1.3677, Train Accuracy: 47.08%\n",
            "Test Accuracy: 88.80%\n",
            "Confusion Matrix (Epoch 109):\n",
            "[[911   7  40   1   1   0   5   6  25   4]\n",
            " [  5 886   4   2   0   0   0   2  87  14]\n",
            " [ 14   1 933  10  14  10  10   4   4   0]\n",
            " [ 13   3  53 787  22  75  28   8   7   4]\n",
            " [  9   2  42  15 873  19  17  21   2   0]\n",
            " [ 14   0  26 111  16 804   9  17   2   1]\n",
            " [  3   0  32  22   6   6 928   0   2   1]\n",
            " [  9   1  18  11  11  18   1 928   2   1]\n",
            " [ 29  12   6   4   0   0   1   1 943   4]\n",
            " [ 28  53   4   7   0   1   1   2  17 887]]\n"
          ]
        },
        {
          "output_type": "stream",
          "name": "stderr",
          "text": [
            "/usr/local/lib/python3.11/dist-packages/torch/utils/data/dataloader.py:624: UserWarning: This DataLoader will create 4 worker processes in total. Our suggested max number of worker in current system is 2, which is smaller than what this DataLoader is going to create. Please be aware that excessive worker creation might get DataLoader running slow or even freeze, lower the worker number to avoid potential slowness/freeze if necessary.\n",
            "  warnings.warn(\n"
          ]
        },
        {
          "output_type": "stream",
          "name": "stdout",
          "text": [
            "Epoch 110: Loss: 1.3611, Train Accuracy: 49.71%\n",
            "Test Accuracy: 90.03%\n",
            "Confusion Matrix (Epoch 110):\n",
            "[[931   6  15   4   2   2   1   3  25  11]\n",
            " [  3 943   2   3   0   1   0   0  26  22]\n",
            " [ 20   0 893  18  17  25  15   7   4   1]\n",
            " [ 17   2  22 790  24 109  22   7   5   2]\n",
            " [  4   1  20  24 896  18  15  19   3   0]\n",
            " [  4   0   6  86  20 861   7  12   3   1]\n",
            " [  6   2  25  29   7  12 916   1   1   1]\n",
            " [  5   0  14  19  15  31   1 912   2   1]\n",
            " [ 29  11   2   6   1   0   0   1 941   9]\n",
            " [ 17  36   4   5   0   3   1   2  12 920]]\n"
          ]
        },
        {
          "output_type": "stream",
          "name": "stderr",
          "text": [
            "/usr/local/lib/python3.11/dist-packages/torch/utils/data/dataloader.py:624: UserWarning: This DataLoader will create 4 worker processes in total. Our suggested max number of worker in current system is 2, which is smaller than what this DataLoader is going to create. Please be aware that excessive worker creation might get DataLoader running slow or even freeze, lower the worker number to avoid potential slowness/freeze if necessary.\n",
            "  warnings.warn(\n"
          ]
        },
        {
          "output_type": "stream",
          "name": "stdout",
          "text": [
            "Epoch 111: Loss: 1.3680, Train Accuracy: 47.95%\n",
            "Test Accuracy: 89.67%\n",
            "Confusion Matrix (Epoch 111):\n",
            "[[950   5  16   1   1   1   0   1  21   4]\n",
            " [  8 968   3   3   0   0   0   0   7  11]\n",
            " [ 26   0 922  16  14   4   8   6   3   1]\n",
            " [ 20   4  38 795  13  96  18  10   4   2]\n",
            " [ 14   1  32  36 867  18  17  12   2   1]\n",
            " [ 12   0  23  99  15 827   7  14   2   1]\n",
            " [ 11   5  41  36   2  13 891   0   1   0]\n",
            " [ 10   1  16  13  13  22   2 921   1   1]\n",
            " [ 36   9   6   4   0   1   0   1 937   6]\n",
            " [ 31  56   3   4   0   2   1   1  13 889]]\n"
          ]
        },
        {
          "output_type": "stream",
          "name": "stderr",
          "text": [
            "/usr/local/lib/python3.11/dist-packages/torch/utils/data/dataloader.py:624: UserWarning: This DataLoader will create 4 worker processes in total. Our suggested max number of worker in current system is 2, which is smaller than what this DataLoader is going to create. Please be aware that excessive worker creation might get DataLoader running slow or even freeze, lower the worker number to avoid potential slowness/freeze if necessary.\n",
            "  warnings.warn(\n"
          ]
        },
        {
          "output_type": "stream",
          "name": "stdout",
          "text": [
            "Epoch 112: Loss: 1.3685, Train Accuracy: 48.85%\n",
            "Test Accuracy: 88.96%\n",
            "Confusion Matrix (Epoch 112):\n",
            "[[944   7  17   3   2   1   0   2  19   5]\n",
            " [104 878   1   2   0   0   0   0   3  12]\n",
            " [ 18   2 910  19  11  15  11  10   2   2]\n",
            " [ 20   4  25 807  22  78  23  11   4   6]\n",
            " [  9   3  26  25 887  13  14  21   2   0]\n",
            " [  9   1  16 106  24 819   7  16   1   1]\n",
            " [ 13   4  34  25   2   5 914   0   2   1]\n",
            " [  8   1  10  17  14  18   1 926   2   3]\n",
            " [ 34  14   5   2   1   0   0   0 935   9]\n",
            " [ 32  65   2   3   0   2   1   1  18 876]]\n"
          ]
        },
        {
          "output_type": "stream",
          "name": "stderr",
          "text": [
            "/usr/local/lib/python3.11/dist-packages/torch/utils/data/dataloader.py:624: UserWarning: This DataLoader will create 4 worker processes in total. Our suggested max number of worker in current system is 2, which is smaller than what this DataLoader is going to create. Please be aware that excessive worker creation might get DataLoader running slow or even freeze, lower the worker number to avoid potential slowness/freeze if necessary.\n",
            "  warnings.warn(\n"
          ]
        },
        {
          "output_type": "stream",
          "name": "stdout",
          "text": [
            "Epoch 113: Loss: 1.3595, Train Accuracy: 45.69%\n",
            "Test Accuracy: 89.96%\n",
            "Confusion Matrix (Epoch 113):\n",
            "[[947   5  11   7   1   2   1   0  17   9]\n",
            " [ 10 953   2   4   1   1   1   0   4  24]\n",
            " [ 23   0 890  35   9  12  17   8   3   3]\n",
            " [ 11   2  20 825  15  97  24   3   1   2]\n",
            " [  9   1  24  35 868  26  21  14   2   0]\n",
            " [  7   0  11 115  11 838   8   7   2   1]\n",
            " [  9   1  18  37   5   6 924   0   0   0]\n",
            " [  9   0  10  24  11  39   2 899   3   3]\n",
            " [ 34  11   6   7   0   1   1   0 934   6]\n",
            " [ 20  36   3   6   0   2   1   1  13 918]]\n"
          ]
        },
        {
          "output_type": "stream",
          "name": "stderr",
          "text": [
            "/usr/local/lib/python3.11/dist-packages/torch/utils/data/dataloader.py:624: UserWarning: This DataLoader will create 4 worker processes in total. Our suggested max number of worker in current system is 2, which is smaller than what this DataLoader is going to create. Please be aware that excessive worker creation might get DataLoader running slow or even freeze, lower the worker number to avoid potential slowness/freeze if necessary.\n",
            "  warnings.warn(\n"
          ]
        },
        {
          "output_type": "stream",
          "name": "stdout",
          "text": [
            "Epoch 114: Loss: 1.3538, Train Accuracy: 45.70%\n",
            "Test Accuracy: 88.47%\n",
            "Confusion Matrix (Epoch 114):\n",
            "[[953   6  11   2   2   2   0   2  17   5]\n",
            " [ 26 862   2   1   0   0   0   0  88  21]\n",
            " [ 27   2 902  20  14  12   8  12   2   1]\n",
            " [ 17   4  30 748  18 145  16  12   5   5]\n",
            " [ 10   1  21  28 867  34  15  22   2   0]\n",
            " [ 10   0  19  80  13 852   5  18   1   2]\n",
            " [ 12   1  40  31   5  16 890   0   3   2]\n",
            " [ 10   0  12   4   8  26   0 938   0   2]\n",
            " [ 37  11   7   3   0   2   0   1 929  10]\n",
            " [ 27  39   4   7   0   1   0   2  14 906]]\n"
          ]
        },
        {
          "output_type": "stream",
          "name": "stderr",
          "text": [
            "/usr/local/lib/python3.11/dist-packages/torch/utils/data/dataloader.py:624: UserWarning: This DataLoader will create 4 worker processes in total. Our suggested max number of worker in current system is 2, which is smaller than what this DataLoader is going to create. Please be aware that excessive worker creation might get DataLoader running slow or even freeze, lower the worker number to avoid potential slowness/freeze if necessary.\n",
            "  warnings.warn(\n"
          ]
        },
        {
          "output_type": "stream",
          "name": "stdout",
          "text": [
            "Epoch 115: Loss: 1.3510, Train Accuracy: 48.70%\n",
            "Test Accuracy: 89.76%\n",
            "Confusion Matrix (Epoch 115):\n",
            "[[958   4  11   1   2   1   0   1  15   7]\n",
            " [  5 972   1   1   0   0   1   0   6  14]\n",
            " [ 26   0 912  16  15   7  11  10   2   1]\n",
            " [ 19   6  42 770  29  74  31   9  15   5]\n",
            " [ 11   1  31  16 893   8  25  13   2   0]\n",
            " [ 10   1  20 114  21 798  11  19   5   1]\n",
            " [ 12   1  32  18   4   2 928   0   2   1]\n",
            " [  9   3   8  15  17  14   0 928   4   2]\n",
            " [ 36  13   5   1   0   0   1   2 937   5]\n",
            " [ 26  64   2   3   0   1   0   1  23 880]]\n"
          ]
        },
        {
          "output_type": "stream",
          "name": "stderr",
          "text": [
            "/usr/local/lib/python3.11/dist-packages/torch/utils/data/dataloader.py:624: UserWarning: This DataLoader will create 4 worker processes in total. Our suggested max number of worker in current system is 2, which is smaller than what this DataLoader is going to create. Please be aware that excessive worker creation might get DataLoader running slow or even freeze, lower the worker number to avoid potential slowness/freeze if necessary.\n",
            "  warnings.warn(\n"
          ]
        },
        {
          "output_type": "stream",
          "name": "stdout",
          "text": [
            "Epoch 116: Loss: 1.3517, Train Accuracy: 46.48%\n",
            "Test Accuracy: 89.33%\n",
            "Confusion Matrix (Epoch 116):\n",
            "[[951   4   8   4   2   2   0   4  16   9]\n",
            " [  5 971   2   4   0   0   1   0   6  11]\n",
            " [ 31   2 892  24  15  12  10  11   3   0]\n",
            " [ 11   4  30 803  23  94  21   9   4   1]\n",
            " [ 10   1  27  23 870  21  12  34   1   1]\n",
            " [ 10   0  19 110  19 816   7  15   2   2]\n",
            " [ 12   3  35  27   6  10 896   6   3   2]\n",
            " [  8   1   8  21  12  27   1 919   1   2]\n",
            " [ 35  17   4   4   1   0   0   2 928   9]\n",
            " [ 25  59   4   8   0   3   1   3  10 887]]\n"
          ]
        },
        {
          "output_type": "stream",
          "name": "stderr",
          "text": [
            "/usr/local/lib/python3.11/dist-packages/torch/utils/data/dataloader.py:624: UserWarning: This DataLoader will create 4 worker processes in total. Our suggested max number of worker in current system is 2, which is smaller than what this DataLoader is going to create. Please be aware that excessive worker creation might get DataLoader running slow or even freeze, lower the worker number to avoid potential slowness/freeze if necessary.\n",
            "  warnings.warn(\n"
          ]
        },
        {
          "output_type": "stream",
          "name": "stdout",
          "text": [
            "Epoch 117: Loss: 1.3592, Train Accuracy: 46.92%\n",
            "Test Accuracy: 89.91%\n",
            "Confusion Matrix (Epoch 117):\n",
            "[[919   8  14   3   2   2   1   4  37  10]\n",
            " [  1 962   4   4   0   1   0   0  11  17]\n",
            " [ 22   1 912  18  15  16   8   6   2   0]\n",
            " [ 10   3  27 775  17 130  22   7   6   3]\n",
            " [  4   1  34  26 881  24  16  13   1   0]\n",
            " [  8   1  20  77  20 855   7  10   1   1]\n",
            " [  5   1  32  29   6   7 919   0   1   0]\n",
            " [  6   0  10  14  22  27   2 914   2   3]\n",
            " [ 15  10   6   5   1   1   1   1 958   2]\n",
            " [ 14  52   4   7   0   2   1   1  23 896]]\n"
          ]
        },
        {
          "output_type": "stream",
          "name": "stderr",
          "text": [
            "/usr/local/lib/python3.11/dist-packages/torch/utils/data/dataloader.py:624: UserWarning: This DataLoader will create 4 worker processes in total. Our suggested max number of worker in current system is 2, which is smaller than what this DataLoader is going to create. Please be aware that excessive worker creation might get DataLoader running slow or even freeze, lower the worker number to avoid potential slowness/freeze if necessary.\n",
            "  warnings.warn(\n"
          ]
        }
      ]
    },
    {
      "cell_type": "code",
      "source": [
        "plt.plot(acc_list)\n",
        "plt.title('Accuracy')\n",
        "plt.xlabel('Epoch')\n",
        "plt.xticks(np.arange(0,200,20))\n",
        "plt.ylabel('Accuracy')\n",
        "plt.show()"
      ],
      "metadata": {
        "id": "BvNbkM600txP"
      },
      "execution_count": null,
      "outputs": []
    },
    {
      "cell_type": "code",
      "source": [
        "plt.plot(train_acc_list)\n",
        "plt.title('Training Accuracy')\n",
        "plt.xlabel('Epoch')\n",
        "plt.xticks(np.arange(0,200,20))\n",
        "plt.ylabel('Accuracy')\n",
        "plt.show()"
      ],
      "metadata": {
        "id": "RCbp7dPC0ybY",
        "colab": {
          "base_uri": "https://localhost:8080/",
          "height": 222
        },
        "outputId": "09a567d5-b0a1-454d-e5ff-92cbb8849ec5"
      },
      "execution_count": 1,
      "outputs": [
        {
          "output_type": "error",
          "ename": "NameError",
          "evalue": "name 'plt' is not defined",
          "traceback": [
            "\u001b[0;31m---------------------------------------------------------------------------\u001b[0m",
            "\u001b[0;31mNameError\u001b[0m                                 Traceback (most recent call last)",
            "\u001b[0;32m<ipython-input-1-ef880218296f>\u001b[0m in \u001b[0;36m<cell line: 0>\u001b[0;34m()\u001b[0m\n\u001b[0;32m----> 1\u001b[0;31m \u001b[0mplt\u001b[0m\u001b[0;34m.\u001b[0m\u001b[0mplot\u001b[0m\u001b[0;34m(\u001b[0m\u001b[0mtrain_acc_list\u001b[0m\u001b[0;34m)\u001b[0m\u001b[0;34m\u001b[0m\u001b[0;34m\u001b[0m\u001b[0m\n\u001b[0m\u001b[1;32m      2\u001b[0m \u001b[0mplt\u001b[0m\u001b[0;34m.\u001b[0m\u001b[0mtitle\u001b[0m\u001b[0;34m(\u001b[0m\u001b[0;34m'Training Accuracy'\u001b[0m\u001b[0;34m)\u001b[0m\u001b[0;34m\u001b[0m\u001b[0;34m\u001b[0m\u001b[0m\n\u001b[1;32m      3\u001b[0m \u001b[0mplt\u001b[0m\u001b[0;34m.\u001b[0m\u001b[0mxlabel\u001b[0m\u001b[0;34m(\u001b[0m\u001b[0;34m'Epoch'\u001b[0m\u001b[0;34m)\u001b[0m\u001b[0;34m\u001b[0m\u001b[0;34m\u001b[0m\u001b[0m\n\u001b[1;32m      4\u001b[0m \u001b[0mplt\u001b[0m\u001b[0;34m.\u001b[0m\u001b[0mxticks\u001b[0m\u001b[0;34m(\u001b[0m\u001b[0mnp\u001b[0m\u001b[0;34m.\u001b[0m\u001b[0marange\u001b[0m\u001b[0;34m(\u001b[0m\u001b[0;36m0\u001b[0m\u001b[0;34m,\u001b[0m\u001b[0;36m200\u001b[0m\u001b[0;34m,\u001b[0m\u001b[0;36m20\u001b[0m\u001b[0;34m)\u001b[0m\u001b[0;34m)\u001b[0m\u001b[0;34m\u001b[0m\u001b[0;34m\u001b[0m\u001b[0m\n\u001b[1;32m      5\u001b[0m \u001b[0mplt\u001b[0m\u001b[0;34m.\u001b[0m\u001b[0mylabel\u001b[0m\u001b[0;34m(\u001b[0m\u001b[0;34m'Accuracy'\u001b[0m\u001b[0;34m)\u001b[0m\u001b[0;34m\u001b[0m\u001b[0;34m\u001b[0m\u001b[0m\n",
            "\u001b[0;31mNameError\u001b[0m: name 'plt' is not defined"
          ]
        }
      ]
    },
    {
      "cell_type": "code",
      "source": [
        "plt.plot(loss_list)\n",
        "plt.title('Cross Entropy Loss')\n",
        "plt.xlabel('Epoch')\n",
        "plt.xticks(np.arange(0,200,20))\n",
        "plt.ylabel('Accuracy')\n",
        "plt.show()"
      ],
      "metadata": {
        "id": "9SDGO5Ez01o-"
      },
      "execution_count": null,
      "outputs": []
    }
  ]
}