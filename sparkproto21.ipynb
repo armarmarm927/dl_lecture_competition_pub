{
  "nbformat": 4,
  "nbformat_minor": 0,
  "metadata": {
    "colab": {
      "provenance": [],
      "gpuType": "T4",
      "authorship_tag": "ABX9TyOu8CTHeE1KDine3uLxbhML",
      "include_colab_link": true
    },
    "kernelspec": {
      "name": "python3",
      "display_name": "Python 3"
    },
    "language_info": {
      "name": "python"
    },
    "accelerator": "GPU"
  },
  "cells": [
    {
      "cell_type": "markdown",
      "metadata": {
        "id": "view-in-github",
        "colab_type": "text"
      },
      "source": [
        "<a href=\"https://colab.research.google.com/github/armarmarm927/dl_lecture_competition_pub/blob/main/sparkproto21.ipynb\" target=\"_parent\"><img src=\"https://colab.research.google.com/assets/colab-badge.svg\" alt=\"Open In Colab\"/></a>"
      ]
    },
    {
      "cell_type": "code",
      "execution_count": 12,
      "metadata": {
        "id": "yBlR7xzY0IYX"
      },
      "outputs": [],
      "source": [
        "import torch\n",
        "import torch.nn as nn\n",
        "import torch.optim as optim\n",
        "import torchvision.transforms as transforms\n",
        "import torchvision.datasets as datasets\n",
        "import torchvision.models as models\n",
        "from torch.utils.data import DataLoader\n",
        "from sklearn.metrics import confusion_matrix\n",
        "import numpy as np\n",
        "import matplotlib.pyplot as plt"
      ]
    },
    {
      "cell_type": "code",
      "source": [
        "from google.colab import drive\n",
        "drive.mount('/content/drive')"
      ],
      "metadata": {
        "colab": {
          "base_uri": "https://localhost:8080/"
        },
        "id": "JL5ZeUod0LMO",
        "outputId": "6d2fb4a4-9a9e-4434-d644-bed29af0727b"
      },
      "execution_count": 13,
      "outputs": [
        {
          "output_type": "stream",
          "name": "stdout",
          "text": [
            "Drive already mounted at /content/drive; to attempt to forcibly remount, call drive.mount(\"/content/drive\", force_remount=True).\n"
          ]
        }
      ]
    },
    {
      "cell_type": "code",
      "source": [
        "device = torch.device(\"cuda\" if torch.cuda.is_available() else \"cpu\")"
      ],
      "metadata": {
        "id": "GeGZKbbA0Nss"
      },
      "execution_count": 14,
      "outputs": []
    },
    {
      "cell_type": "code",
      "source": [
        "transform_train = transforms.Compose([\n",
        "    transforms.RandomHorizontalFlip(),\n",
        "    transforms.RandomCrop(32, padding=4),\n",
        "    transforms.RandomAffine([-10,10],scale=(1,1.25)),\n",
        "    transforms.ColorJitter(brightness=0.2, contrast=0.2, saturation=0.2),\n",
        "    transforms.ToTensor(),\n",
        "    transforms.Normalize((0.5, 0.5, 0.5), (0.5, 0.5, 0.5)),\n",
        "    transforms.RandomErasing(p=0.5,scale=(0.02,0.33),ratio=(0.3,3.3),value=0,inplace=False)\n",
        "])\n",
        "\n",
        "transform_test = transforms.Compose([\n",
        "    transforms.ToTensor(),\n",
        "    transforms.Normalize((0.5, 0.5, 0.5), (0.5, 0.5, 0.5))\n",
        "])"
      ],
      "metadata": {
        "id": "ziHGnHdL0Qk4"
      },
      "execution_count": 15,
      "outputs": []
    },
    {
      "cell_type": "code",
      "source": [
        "train_dataset = datasets.CIFAR10(root='./data', train=True, download=True, transform=transform_train)\n",
        "test_dataset = datasets.CIFAR10(root='./data', train=False, download=True, transform=transform_test)\n",
        "\n",
        "train_loader = DataLoader(train_dataset, batch_size=128, shuffle=True, num_workers=4)\n",
        "test_loader = DataLoader(test_dataset, batch_size=128, shuffle=False, num_workers=4)"
      ],
      "metadata": {
        "colab": {
          "base_uri": "https://localhost:8080/"
        },
        "id": "_S5hqyVn0U6Z",
        "outputId": "afe5d1ee-7cc0-4a6d-fb1f-c6351b001795"
      },
      "execution_count": 16,
      "outputs": [
        {
          "output_type": "stream",
          "name": "stderr",
          "text": [
            "/usr/local/lib/python3.11/dist-packages/torch/utils/data/dataloader.py:624: UserWarning: This DataLoader will create 4 worker processes in total. Our suggested max number of worker in current system is 2, which is smaller than what this DataLoader is going to create. Please be aware that excessive worker creation might get DataLoader running slow or even freeze, lower the worker number to avoid potential slowness/freeze if necessary.\n",
            "  warnings.warn(\n"
          ]
        }
      ]
    },
    {
      "cell_type": "code",
      "source": [
        "model_ft = models.resnet50(weights=models.ResNet50_Weights.IMAGENET1K_V2)\n",
        "model_ft.fc = nn.Linear(model_ft.fc.in_features, 10)\n",
        "net = model_ft.to(device)"
      ],
      "metadata": {
        "id": "zCz0IQj10XyK"
      },
      "execution_count": 17,
      "outputs": []
    },
    {
      "cell_type": "code",
      "source": [
        "criterion = nn.CrossEntropyLoss(label_smoothing=0.1)\n",
        "optimizer = optim.Adam(net.parameters(), lr=0.0005)\n",
        "scheduler = optim.lr_scheduler.StepLR(optimizer, step_size=30, gamma=0.1)"
      ],
      "metadata": {
        "id": "EsTHJvID0b0M"
      },
      "execution_count": 18,
      "outputs": []
    },
    {
      "cell_type": "code",
      "source": [
        "def mixup_data(x, y, alpha=1.0):\n",
        "    if alpha > 0:\n",
        "        lam = np.random.beta(alpha, alpha)\n",
        "    else:\n",
        "        lam = 1\n",
        "\n",
        "    batch_size = x.size()[0]\n",
        "    index = torch.randperm(batch_size).to(device)\n",
        "\n",
        "    mixed_x = lam * x + (1 - lam) * x[index, :]\n",
        "    y_a, y_b = y, y[index]\n",
        "    return mixed_x, y_a, y_b, lam"
      ],
      "metadata": {
        "id": "tDrTZJrSVj8h"
      },
      "execution_count": 19,
      "outputs": []
    },
    {
      "cell_type": "code",
      "source": [
        "num_epochs = 70\n",
        "loss_list = []\n",
        "acc_list = []\n",
        "train_acc_list = []\n",
        "\n",
        "for epoch in range(num_epochs):\n",
        "    net.train()\n",
        "    correct_train = 0\n",
        "    total_train = 0\n",
        "    epoch_loss = 0\n",
        "\n",
        "    for inputs, labels in train_loader:\n",
        "        inputs, labels = inputs.to(device), labels.to(device)\n",
        "\n",
        "        inputs, targets_a, targets_b, lam = mixup_data(inputs, labels, alpha=1.0)\n",
        "\n",
        "        optimizer.zero_grad()\n",
        "        outputs = net(inputs)\n",
        "        loss = lam * criterion(outputs, targets_a) + (1 - lam) * criterion(outputs, targets_b)\n",
        "        loss.backward()\n",
        "        optimizer.step()\n",
        "\n",
        "        epoch_loss += loss.item()\n",
        "        _, predicted = torch.max(outputs, 1)\n",
        "        correct_train += (predicted == labels).sum().item()\n",
        "        total_train += labels.size(0)\n",
        "\n",
        "    train_accuracy = 100. * correct_train / total_train\n",
        "    train_acc_list.append(train_accuracy)\n",
        "    print(f'Epoch {epoch+1}: Loss: {epoch_loss/len(train_loader):.4f}, Train Accuracy: {train_accuracy:.2f}%')\n",
        "    loss_list.append(epoch_loss/len(train_loader))\n",
        "\n",
        "    net.eval()\n",
        "    correct = 0\n",
        "    total = 0\n",
        "    y_true = []\n",
        "    y_pred = []\n",
        "\n",
        "    with torch.no_grad():\n",
        "        for inputs, labels in test_loader:\n",
        "            inputs, labels = inputs.to(device), labels.to(device)\n",
        "            outputs = net(inputs)\n",
        "            _, predicted = torch.max(outputs, 1)\n",
        "            correct += (predicted == labels).sum().item()\n",
        "            total += labels.size(0)\n",
        "            y_true.extend(labels.cpu().numpy())\n",
        "            y_pred.extend(predicted.cpu().numpy())\n",
        "\n",
        "    test_accuracy = 100. * correct / total\n",
        "    acc_list.append(test_accuracy)\n",
        "    print(f'Test Accuracy: {test_accuracy:.2f}%')\n",
        "\n",
        "    # 混同行列の出力\n",
        "    cm = confusion_matrix(y_true, y_pred)\n",
        "    print(f'Confusion Matrix (Epoch {epoch+1}):')\n",
        "    print(cm)\n",
        "\n",
        "    scheduler.step()\n",
        "torch.save(net.state_dict(), '/content/drive/MyDrive/Weight_Epoch50.pth')"
      ],
      "metadata": {
        "colab": {
          "base_uri": "https://localhost:8080/"
        },
        "id": "TYZ13KVt0gkU",
        "outputId": "c391ba12-89b5-40a3-d864-441e968b9351"
      },
      "execution_count": null,
      "outputs": [
        {
          "output_type": "stream",
          "name": "stdout",
          "text": [
            "Epoch 1: Loss: 1.8535, Train Accuracy: 33.30%\n",
            "Test Accuracy: 73.78%\n",
            "Confusion Matrix (Epoch 1):\n",
            "[[857  17  21  11   5   5   3   5  69   7]\n",
            " [ 20 897   3   8  18  14   0   6  16  18]\n",
            " [ 67   1 678  34  77  86  40  13   4   0]\n",
            " [ 26   3  68 477  45 316  33  12  17   3]\n",
            " [ 33   2  85  45 661  54  50  54  15   1]\n",
            " [ 14   0  37  77  39 804   4  20   4   1]\n",
            " [  8   5  52  46  48  49 776   6  10   0]\n",
            " [ 15   6  39  28  54 113   1 729   5  10]\n",
            " [ 75  31  13   7   7   7   0   2 850   8]\n",
            " [ 64 187   4  18   1  15   2  12  48 649]]\n"
          ]
        },
        {
          "output_type": "stream",
          "name": "stderr",
          "text": [
            "/usr/local/lib/python3.11/dist-packages/torch/utils/data/dataloader.py:624: UserWarning: This DataLoader will create 4 worker processes in total. Our suggested max number of worker in current system is 2, which is smaller than what this DataLoader is going to create. Please be aware that excessive worker creation might get DataLoader running slow or even freeze, lower the worker number to avoid potential slowness/freeze if necessary.\n",
            "  warnings.warn(\n"
          ]
        },
        {
          "output_type": "stream",
          "name": "stdout",
          "text": [
            "Epoch 2: Loss: 1.6727, Train Accuracy: 39.20%\n",
            "Test Accuracy: 76.44%\n",
            "Confusion Matrix (Epoch 2):\n",
            "[[849  26  33   3   2   0   3  11  53  20]\n",
            " [  8 907   7   3   0   0   2   2  14  57]\n",
            " [ 58   7 738  10  28  28  90  30   3   8]\n",
            " [ 28  11 109 415  22 251  72  67  12  13]\n",
            " [ 37   3 158  22 592  23  87  68   8   2]\n",
            " [ 14   6  96  40  22 699  26  89   4   4]\n",
            " [  9   8  85  21   2  11 854   7   3   0]\n",
            " [ 19   6  43   3  29  21   8 859   1  11]\n",
            " [ 58  22   8   5   1   0   4   3 879  20]\n",
            " [ 18  82   6   6   2   1   3   5  25 852]]\n"
          ]
        },
        {
          "output_type": "stream",
          "name": "stderr",
          "text": [
            "/usr/local/lib/python3.11/dist-packages/torch/utils/data/dataloader.py:624: UserWarning: This DataLoader will create 4 worker processes in total. Our suggested max number of worker in current system is 2, which is smaller than what this DataLoader is going to create. Please be aware that excessive worker creation might get DataLoader running slow or even freeze, lower the worker number to avoid potential slowness/freeze if necessary.\n",
            "  warnings.warn(\n"
          ]
        },
        {
          "output_type": "stream",
          "name": "stdout",
          "text": [
            "Epoch 3: Loss: 1.6054, Train Accuracy: 40.45%\n",
            "Test Accuracy: 79.91%\n",
            "Confusion Matrix (Epoch 3):\n",
            "[[902  16  15   5   1   0   3   7  32  19]\n",
            " [  5 921  10   3   0   1   1   0  31  28]\n",
            " [ 74   7 690  36  33  43  82  21   8   6]\n",
            " [ 20  15  67 648  21 129  37  34  18  11]\n",
            " [ 27   6  72  56 659  29  66  78   7   0]\n",
            " [ 14   3  43 136  23 715  12  48   2   4]\n",
            " [ 11   4  47  42   3  12 867   6   7   1]\n",
            " [ 19   7  30  26  18  26   0 862   2  10]\n",
            " [ 77  17   6   5   1   1   1   2 883   7]\n",
            " [ 30  93   2   6   0   1   2   2  20 844]]\n"
          ]
        },
        {
          "output_type": "stream",
          "name": "stderr",
          "text": [
            "/usr/local/lib/python3.11/dist-packages/torch/utils/data/dataloader.py:624: UserWarning: This DataLoader will create 4 worker processes in total. Our suggested max number of worker in current system is 2, which is smaller than what this DataLoader is going to create. Please be aware that excessive worker creation might get DataLoader running slow or even freeze, lower the worker number to avoid potential slowness/freeze if necessary.\n",
            "  warnings.warn(\n"
          ]
        },
        {
          "output_type": "stream",
          "name": "stdout",
          "text": [
            "Epoch 4: Loss: 1.5883, Train Accuracy: 40.19%\n",
            "Test Accuracy: 80.62%\n",
            "Confusion Matrix (Epoch 4):\n",
            "[[923  15  14   2   1   2   1  15  21   6]\n",
            " [ 11 934  26   4   0   0   0   4   3  18]\n",
            " [ 58   1 795  15  51  25  32  16   2   5]\n",
            " [ 40   7  89 510  50 177  50  54  11  12]\n",
            " [ 25   3  63  16 770   7  36  75   4   1]\n",
            " [ 19   4  57  74  41 717  17  63   3   5]\n",
            " [ 18   6  74  24  18   4 850   6   0   0]\n",
            " [ 12   1  45  17  20  16   0 885   1   3]\n",
            " [ 66  28  11  10   2   1   2   4 864  12]\n",
            " [ 42  99   6   5   0   1   2  20  11 814]]\n"
          ]
        },
        {
          "output_type": "stream",
          "name": "stderr",
          "text": [
            "/usr/local/lib/python3.11/dist-packages/torch/utils/data/dataloader.py:624: UserWarning: This DataLoader will create 4 worker processes in total. Our suggested max number of worker in current system is 2, which is smaller than what this DataLoader is going to create. Please be aware that excessive worker creation might get DataLoader running slow or even freeze, lower the worker number to avoid potential slowness/freeze if necessary.\n",
            "  warnings.warn(\n"
          ]
        },
        {
          "output_type": "stream",
          "name": "stdout",
          "text": [
            "Epoch 5: Loss: 1.5735, Train Accuracy: 41.15%\n",
            "Test Accuracy: 83.53%\n",
            "Confusion Matrix (Epoch 5):\n",
            "[[892  12  11  12   7   2   0  10  34  20]\n",
            " [  7 951   1   5   1   2   0   0   7  26]\n",
            " [ 50   2 767  53  45  27  33  17   4   2]\n",
            " [ 17   2  32 714  36 125  23  39   8   4]\n",
            " [ 17   3  56  60 751  27  30  51   4   1]\n",
            " [  6   1  32 130  32 754   7  35   3   0]\n",
            " [ 10   7  35  54  10  20 853   9   2   0]\n",
            " [  8   2  17  22  18  27   0 898   2   6]\n",
            " [ 44  16   7   7   4   4   0   1 910   7]\n",
            " [ 19  76   1  15   0   3   0   9  14 863]]\n"
          ]
        },
        {
          "output_type": "stream",
          "name": "stderr",
          "text": [
            "/usr/local/lib/python3.11/dist-packages/torch/utils/data/dataloader.py:624: UserWarning: This DataLoader will create 4 worker processes in total. Our suggested max number of worker in current system is 2, which is smaller than what this DataLoader is going to create. Please be aware that excessive worker creation might get DataLoader running slow or even freeze, lower the worker number to avoid potential slowness/freeze if necessary.\n",
            "  warnings.warn(\n"
          ]
        },
        {
          "output_type": "stream",
          "name": "stdout",
          "text": [
            "Epoch 6: Loss: 1.5500, Train Accuracy: 43.20%\n",
            "Test Accuracy: 84.60%\n",
            "Confusion Matrix (Epoch 6):\n",
            "[[907  11  17   6   9   0   3  21  18   8]\n",
            " [ 10 958   1   2   1   0   2   2   6  18]\n",
            " [ 37   1 806  40  48  24  30  11   0   3]\n",
            " [ 30   8  31 687  33 132  38  30   7   4]\n",
            " [ 12   2  32  26 846  15  32  32   3   0]\n",
            " [ 19   3  18 108  26 773  16  34   2   1]\n",
            " [  9   6  14  29   9  16 912   3   1   1]\n",
            " [ 14   0  11  28  35  26   2 879   1   4]\n",
            " [ 71  26   7   7   3   1   1   2 878   4]\n",
            " [ 57  86   3  12   1   0   1  11  15 814]]\n"
          ]
        },
        {
          "output_type": "stream",
          "name": "stderr",
          "text": [
            "/usr/local/lib/python3.11/dist-packages/torch/utils/data/dataloader.py:624: UserWarning: This DataLoader will create 4 worker processes in total. Our suggested max number of worker in current system is 2, which is smaller than what this DataLoader is going to create. Please be aware that excessive worker creation might get DataLoader running slow or even freeze, lower the worker number to avoid potential slowness/freeze if necessary.\n",
            "  warnings.warn(\n"
          ]
        },
        {
          "output_type": "stream",
          "name": "stdout",
          "text": [
            "Epoch 7: Loss: 1.5707, Train Accuracy: 41.79%\n",
            "Test Accuracy: 84.56%\n",
            "Confusion Matrix (Epoch 7):\n",
            "[[867  25  24  10   6   3  10  13  25  17]\n",
            " [  3 955   1   1   0   0   0   3   2  35]\n",
            " [ 31  10 788  31  33  26  52  16  10   3]\n",
            " [ 11   2  25 695  26 149  38  27  18   9]\n",
            " [  5   6  36  30 791  27  62  34   9   0]\n",
            " [  6   3  12 101  20 805  13  34   5   1]\n",
            " [  4   8  14  27   4  16 919   4   4   0]\n",
            " [  7   3   7  24  20  36   4 886   7   6]\n",
            " [ 61  31   9   9   3   2   5   2 866  12]\n",
            " [ 18  73   3   7   0   1   5   0   9 884]]\n"
          ]
        },
        {
          "output_type": "stream",
          "name": "stderr",
          "text": [
            "/usr/local/lib/python3.11/dist-packages/torch/utils/data/dataloader.py:624: UserWarning: This DataLoader will create 4 worker processes in total. Our suggested max number of worker in current system is 2, which is smaller than what this DataLoader is going to create. Please be aware that excessive worker creation might get DataLoader running slow or even freeze, lower the worker number to avoid potential slowness/freeze if necessary.\n",
            "  warnings.warn(\n"
          ]
        },
        {
          "output_type": "stream",
          "name": "stdout",
          "text": [
            "Epoch 8: Loss: 1.5257, Train Accuracy: 42.05%\n",
            "Test Accuracy: 83.62%\n",
            "Confusion Matrix (Epoch 8):\n",
            "[[923  14   6   2   1   0   1   7  32  14]\n",
            " [ 11 937   3   0   0   1   0   1  26  21]\n",
            " [ 55   1 818  14  38  10  24  12  19   9]\n",
            " [ 26   7  63 691  30 104  26  19  25   9]\n",
            " [ 12   2  42  25 791  15  36  55  18   4]\n",
            " [ 16   4  51 119  26 716  10  35  22   1]\n",
            " [  6   4  59  23   9  10 867   1  19   2]\n",
            " [ 21   6  15  20  13  21   2 877  17   8]\n",
            " [ 51   6   9   3   2   0   2   2 919   6]\n",
            " [ 33 114   2  10   0   0   1   1  16 823]]\n"
          ]
        },
        {
          "output_type": "stream",
          "name": "stderr",
          "text": [
            "/usr/local/lib/python3.11/dist-packages/torch/utils/data/dataloader.py:624: UserWarning: This DataLoader will create 4 worker processes in total. Our suggested max number of worker in current system is 2, which is smaller than what this DataLoader is going to create. Please be aware that excessive worker creation might get DataLoader running slow or even freeze, lower the worker number to avoid potential slowness/freeze if necessary.\n",
            "  warnings.warn(\n"
          ]
        },
        {
          "output_type": "stream",
          "name": "stdout",
          "text": [
            "Epoch 9: Loss: 1.5395, Train Accuracy: 41.52%\n",
            "Test Accuracy: 82.82%\n",
            "Confusion Matrix (Epoch 9):\n",
            "[[905  13  11   2   0   1   1   4  47  16]\n",
            " [  9 938   3   0   0   0   0   0  13  37]\n",
            " [ 72   4 821  22  11  19  30  17   3   1]\n",
            " [ 36   5  48 579  20 237  25  18  23   9]\n",
            " [ 45   3 100  36 667  34  34  71   6   4]\n",
            " [ 15   3  67  64   9 799   7  23  10   3]\n",
            " [ 14  10  72  29   4  14 848   1   5   3]\n",
            " [ 20   4  18  19   2  41   1 889   5   1]\n",
            " [ 36  10   2   1   1   0   0   0 940  10]\n",
            " [ 24  59   5   5   0   1   1   1   8 896]]\n"
          ]
        },
        {
          "output_type": "stream",
          "name": "stderr",
          "text": [
            "/usr/local/lib/python3.11/dist-packages/torch/utils/data/dataloader.py:624: UserWarning: This DataLoader will create 4 worker processes in total. Our suggested max number of worker in current system is 2, which is smaller than what this DataLoader is going to create. Please be aware that excessive worker creation might get DataLoader running slow or even freeze, lower the worker number to avoid potential slowness/freeze if necessary.\n",
            "  warnings.warn(\n"
          ]
        },
        {
          "output_type": "stream",
          "name": "stdout",
          "text": [
            "Epoch 10: Loss: 1.4909, Train Accuracy: 43.69%\n",
            "Test Accuracy: 82.41%\n",
            "Confusion Matrix (Epoch 10):\n",
            "[[922  15   6   6   2   0   4  11  19  15]\n",
            " [ 22 953   1   0   0   0   1   1   4  18]\n",
            " [114   4 752  13  13  42  42  18   1   1]\n",
            " [ 69   6  39 568  24 202  47  31  10   4]\n",
            " [ 45   4  66  14 733  25  34  73   4   2]\n",
            " [ 52   3  19  49  17 794  16  44   3   3]\n",
            " [ 34   5  19  12   2  16 905   5   2   0]\n",
            " [ 43   1   8  11  10  25   2 894   5   1]\n",
            " [ 92  21   2   2   2   3   1   1 867   9]\n",
            " [ 30  89   3   7   0   2   1   5  10 853]]\n"
          ]
        },
        {
          "output_type": "stream",
          "name": "stderr",
          "text": [
            "/usr/local/lib/python3.11/dist-packages/torch/utils/data/dataloader.py:624: UserWarning: This DataLoader will create 4 worker processes in total. Our suggested max number of worker in current system is 2, which is smaller than what this DataLoader is going to create. Please be aware that excessive worker creation might get DataLoader running slow or even freeze, lower the worker number to avoid potential slowness/freeze if necessary.\n",
            "  warnings.warn(\n"
          ]
        },
        {
          "output_type": "stream",
          "name": "stdout",
          "text": [
            "Epoch 11: Loss: 1.5274, Train Accuracy: 42.23%\n",
            "Test Accuracy: 84.29%\n",
            "Confusion Matrix (Epoch 11):\n",
            "[[918  18  18   3   1   1   2   6  20  13]\n",
            " [  7 966   2   1   0   2   0   0   4  18]\n",
            " [ 46  18 859  12  17  20  18   6   2   2]\n",
            " [ 26  39  65 575  25 219  20  21   7   3]\n",
            " [ 12  24  67  24 795  18  19  38   3   0]\n",
            " [ 11  32  32  56  23 811   7  26   1   1]\n",
            " [ 13  27  45  26   8  17 862   2   0   0]\n",
            " [  9  25  25  20  16  25   1 875   2   2]\n",
            " [ 55  20  10   2   1   2   1   1 895  13]\n",
            " [ 26  72   4   5   0   3   1   3  13 873]]\n"
          ]
        },
        {
          "output_type": "stream",
          "name": "stderr",
          "text": [
            "/usr/local/lib/python3.11/dist-packages/torch/utils/data/dataloader.py:624: UserWarning: This DataLoader will create 4 worker processes in total. Our suggested max number of worker in current system is 2, which is smaller than what this DataLoader is going to create. Please be aware that excessive worker creation might get DataLoader running slow or even freeze, lower the worker number to avoid potential slowness/freeze if necessary.\n",
            "  warnings.warn(\n"
          ]
        },
        {
          "output_type": "stream",
          "name": "stdout",
          "text": [
            "Epoch 12: Loss: 1.4977, Train Accuracy: 43.37%\n",
            "Test Accuracy: 84.79%\n",
            "Confusion Matrix (Epoch 12):\n",
            "[[906  11  15   2   3   2   0   7  29  25]\n",
            " [  8 943   0   2   0   6   0   1   7  33]\n",
            " [ 54   1 807  13  37  46  20  17   3   2]\n",
            " [ 31   7  40 556  24 274  34  23   5   6]\n",
            " [ 15   3  30  31 816  39  20  42   4   0]\n",
            " [ 12   1  23  46  17 852   8  36   4   1]\n",
            " [ 15   6  25  15  12  38 882   4   1   2]\n",
            " [ 11   3   8  10  12  48   2 900   2   4]\n",
            " [ 40  12   4   2   0   4   2   2 924  10]\n",
            " [ 19  54   1   7   0   6   1   5  14 893]]\n"
          ]
        },
        {
          "output_type": "stream",
          "name": "stderr",
          "text": [
            "/usr/local/lib/python3.11/dist-packages/torch/utils/data/dataloader.py:624: UserWarning: This DataLoader will create 4 worker processes in total. Our suggested max number of worker in current system is 2, which is smaller than what this DataLoader is going to create. Please be aware that excessive worker creation might get DataLoader running slow or even freeze, lower the worker number to avoid potential slowness/freeze if necessary.\n",
            "  warnings.warn(\n"
          ]
        },
        {
          "output_type": "stream",
          "name": "stdout",
          "text": [
            "Epoch 13: Loss: 1.5039, Train Accuracy: 43.29%\n",
            "Test Accuracy: 83.81%\n",
            "Confusion Matrix (Epoch 13):\n",
            "[[884  17  33   1   4   1   1  13  32  14]\n",
            " [  9 942   1   0   0   2   2   1  10  33]\n",
            " [ 26  24 851  13  30  25  11  17   2   1]\n",
            " [ 22  47  44 532  30 220  29  57  12   7]\n",
            " [ 13  15  37  23 808  29  22  45   6   2]\n",
            " [ 11  38  25  38  23 796   8  58   2   1]\n",
            " [  8  26  48  20   9  18 859   8   3   1]\n",
            " [  9  28  10   4  17  20   0 905   3   4]\n",
            " [ 42  19   7   0   1   2   1   6 914   8]\n",
            " [ 20  56   2   8   0   3   1   4  16 890]]\n"
          ]
        },
        {
          "output_type": "stream",
          "name": "stderr",
          "text": [
            "/usr/local/lib/python3.11/dist-packages/torch/utils/data/dataloader.py:624: UserWarning: This DataLoader will create 4 worker processes in total. Our suggested max number of worker in current system is 2, which is smaller than what this DataLoader is going to create. Please be aware that excessive worker creation might get DataLoader running slow or even freeze, lower the worker number to avoid potential slowness/freeze if necessary.\n",
            "  warnings.warn(\n"
          ]
        },
        {
          "output_type": "stream",
          "name": "stdout",
          "text": [
            "Epoch 14: Loss: 1.4720, Train Accuracy: 45.58%\n",
            "Test Accuracy: 86.13%\n",
            "Confusion Matrix (Epoch 14):\n",
            "[[930  12  10   6   2   4   0   4  27   5]\n",
            " [ 10 950   2   4   0   5   1   0   8  20]\n",
            " [ 49   2 835  40  26  25  12   8   3   0]\n",
            " [ 19   1  25 730  13 177  14  14   5   2]\n",
            " [ 17   5  43  54 775  29  23  47   7   0]\n",
            " [ 10   1  20  78  13 846  10  16   5   1]\n",
            " [  7   2  22  54   8  19 879   1   7   1]\n",
            " [ 13   1   3  30  10  49   1 886   6   1]\n",
            " [ 54  12   5   7   0   3   0   1 912   6]\n",
            " [ 45  49   4  12   0   2   0   5  13 870]]\n"
          ]
        },
        {
          "output_type": "stream",
          "name": "stderr",
          "text": [
            "/usr/local/lib/python3.11/dist-packages/torch/utils/data/dataloader.py:624: UserWarning: This DataLoader will create 4 worker processes in total. Our suggested max number of worker in current system is 2, which is smaller than what this DataLoader is going to create. Please be aware that excessive worker creation might get DataLoader running slow or even freeze, lower the worker number to avoid potential slowness/freeze if necessary.\n",
            "  warnings.warn(\n"
          ]
        },
        {
          "output_type": "stream",
          "name": "stdout",
          "text": [
            "Epoch 15: Loss: 1.4669, Train Accuracy: 42.68%\n",
            "Test Accuracy: 85.59%\n",
            "Confusion Matrix (Epoch 15):\n",
            "[[914  17  13   4   2   0   2   4  38   6]\n",
            " [ 11 972   1   2   0   0   1   0   5   8]\n",
            " [ 40   3 883  17  11  12  28   5   1   0]\n",
            " [ 21   4  48 742  19 104  36  22   2   2]\n",
            " [ 18   3  76  41 760  19  51  31   1   0]\n",
            " [ 19   2  53 123  17 744  15  23   4   0]\n",
            " [  7   6  31  35   3  11 901   5   1   0]\n",
            " [ 21   3  18  15  21  26   1 890   4   1]\n",
            " [ 25  14   7  14   1   2   7   1 927   2]\n",
            " [ 32 100   2  12   0   1   0   3  24 826]]\n"
          ]
        },
        {
          "output_type": "stream",
          "name": "stderr",
          "text": [
            "/usr/local/lib/python3.11/dist-packages/torch/utils/data/dataloader.py:624: UserWarning: This DataLoader will create 4 worker processes in total. Our suggested max number of worker in current system is 2, which is smaller than what this DataLoader is going to create. Please be aware that excessive worker creation might get DataLoader running slow or even freeze, lower the worker number to avoid potential slowness/freeze if necessary.\n",
            "  warnings.warn(\n"
          ]
        },
        {
          "output_type": "stream",
          "name": "stdout",
          "text": [
            "Epoch 16: Loss: 1.4996, Train Accuracy: 45.50%\n",
            "Test Accuracy: 86.66%\n",
            "Confusion Matrix (Epoch 16):\n",
            "[[930   7   9   3   1   1   2   2  28  17]\n",
            " [ 12 917   2   1   0   2   1   0   9  56]\n",
            " [ 50   2 845  36  18  22  21   2   3   1]\n",
            " [ 17   1  31 767  16 110  26  16   7   9]\n",
            " [ 19   4  49  61 770  23  33  31   8   2]\n",
            " [ 11   3  17 119  16 799   8  23   2   2]\n",
            " [  7   3  27  29   3   8 914   3   5   1]\n",
            " [ 11   1  18  31  10  23   3 894   6   3]\n",
            " [ 55  10   8   4   0   1   0   0 913   9]\n",
            " [ 22  31   4   7   0   0   1   1  17 917]]\n"
          ]
        },
        {
          "output_type": "stream",
          "name": "stderr",
          "text": [
            "/usr/local/lib/python3.11/dist-packages/torch/utils/data/dataloader.py:624: UserWarning: This DataLoader will create 4 worker processes in total. Our suggested max number of worker in current system is 2, which is smaller than what this DataLoader is going to create. Please be aware that excessive worker creation might get DataLoader running slow or even freeze, lower the worker number to avoid potential slowness/freeze if necessary.\n",
            "  warnings.warn(\n"
          ]
        },
        {
          "output_type": "stream",
          "name": "stdout",
          "text": [
            "Epoch 17: Loss: 1.4924, Train Accuracy: 47.34%\n",
            "Test Accuracy: 86.36%\n",
            "Confusion Matrix (Epoch 17):\n",
            "[[914  12  21   3   1   0   1   2  31  15]\n",
            " [  7 953   2   0   0   0   1   0  18  19]\n",
            " [ 32   2 877  29  18  17  20   1   3   1]\n",
            " [ 20   5  33 681  24 155  40  10  23   9]\n",
            " [ 20   3  47  32 817  17  34  23   6   1]\n",
            " [ 16   5  28  80  19 810  14  19   8   1]\n",
            " [  8   2  24  18   4  11 929   1   3   0]\n",
            " [ 12   5  20  24  25  29   5 870   5   5]\n",
            " [ 38   7   7   2   0   0   1   0 941   4]\n",
            " [ 22 101   4   5   0   0   4   0  20 844]]\n"
          ]
        },
        {
          "output_type": "stream",
          "name": "stderr",
          "text": [
            "/usr/local/lib/python3.11/dist-packages/torch/utils/data/dataloader.py:624: UserWarning: This DataLoader will create 4 worker processes in total. Our suggested max number of worker in current system is 2, which is smaller than what this DataLoader is going to create. Please be aware that excessive worker creation might get DataLoader running slow or even freeze, lower the worker number to avoid potential slowness/freeze if necessary.\n",
            "  warnings.warn(\n"
          ]
        },
        {
          "output_type": "stream",
          "name": "stdout",
          "text": [
            "Epoch 18: Loss: 1.4897, Train Accuracy: 44.63%\n",
            "Test Accuracy: 85.93%\n",
            "Confusion Matrix (Epoch 18):\n",
            "[[896   7  20   8   2   1   5   4  35  22]\n",
            " [  2 967   1   1   0   0   0   0   4  25]\n",
            " [ 31   3 864  34  15  23  20   6   2   2]\n",
            " [ 12   2  34 708  16 175  24  14  10   5]\n",
            " [ 10   4  55  65 768  30  29  36   3   0]\n",
            " [  8   3  22  79  13 846  12  14   2   1]\n",
            " [  5   7  24  38   6  11 901   4   3   1]\n",
            " [ 73   2  16  19  10  44   1 828   2   5]\n",
            " [ 29  17   8   6   1   3   1   0 924  11]\n",
            " [ 13  72   3   3   0   5   1   2  10 891]]\n"
          ]
        },
        {
          "output_type": "stream",
          "name": "stderr",
          "text": [
            "/usr/local/lib/python3.11/dist-packages/torch/utils/data/dataloader.py:624: UserWarning: This DataLoader will create 4 worker processes in total. Our suggested max number of worker in current system is 2, which is smaller than what this DataLoader is going to create. Please be aware that excessive worker creation might get DataLoader running slow or even freeze, lower the worker number to avoid potential slowness/freeze if necessary.\n",
            "  warnings.warn(\n"
          ]
        },
        {
          "output_type": "stream",
          "name": "stdout",
          "text": [
            "Epoch 19: Loss: 1.4678, Train Accuracy: 44.78%\n",
            "Test Accuracy: 86.37%\n",
            "Confusion Matrix (Epoch 19):\n",
            "[[904  14  11   5   3   2   3   6  39  13]\n",
            " [  5 962   1   0   0   1   1   0   9  21]\n",
            " [ 29   4 864  31  28  19  17   3   1   4]\n",
            " [ 20   2  37 648  21 215  20  23   6   8]\n",
            " [  4   5  30  46 817  35  25  31   3   4]\n",
            " [ 10   2  17  50  14 877  10  17   2   1]\n",
            " [  5   6  29  24   7  19 903   4   3   0]\n",
            " [ 44   0  12  16  12  47   3 858   3   5]\n",
            " [ 32  19   6   3   0   2   3   1 928   6]\n",
            " [ 18  78   2   3   0   3   1   1  18 876]]\n"
          ]
        },
        {
          "output_type": "stream",
          "name": "stderr",
          "text": [
            "/usr/local/lib/python3.11/dist-packages/torch/utils/data/dataloader.py:624: UserWarning: This DataLoader will create 4 worker processes in total. Our suggested max number of worker in current system is 2, which is smaller than what this DataLoader is going to create. Please be aware that excessive worker creation might get DataLoader running slow or even freeze, lower the worker number to avoid potential slowness/freeze if necessary.\n",
            "  warnings.warn(\n"
          ]
        },
        {
          "output_type": "stream",
          "name": "stdout",
          "text": [
            "Epoch 20: Loss: 1.4722, Train Accuracy: 43.87%\n",
            "Test Accuracy: 86.67%\n",
            "Confusion Matrix (Epoch 20):\n",
            "[[916  11  17   6   1   3   3   2  20  21]\n",
            " [  3 960   1   1   0   3   2   0   4  26]\n",
            " [ 31   2 878  17  19  31  17   3   2   0]\n",
            " [  8   2  35 666  19 227  30   7   3   3]\n",
            " [  8   4  55  35 815  38  23  21   0   1]\n",
            " [ 10   2  23  59  18 866   8  14   0   0]\n",
            " [  5   6  29  21   9  25 901   2   1   1]\n",
            " [  9   1  14  27  16  48   3 874   1   7]\n",
            " [ 46  18   3   7   1   5   0   0 909  11]\n",
            " [ 16  71   3   8   0   5   3   1  11 882]]\n"
          ]
        },
        {
          "output_type": "stream",
          "name": "stderr",
          "text": [
            "/usr/local/lib/python3.11/dist-packages/torch/utils/data/dataloader.py:624: UserWarning: This DataLoader will create 4 worker processes in total. Our suggested max number of worker in current system is 2, which is smaller than what this DataLoader is going to create. Please be aware that excessive worker creation might get DataLoader running slow or even freeze, lower the worker number to avoid potential slowness/freeze if necessary.\n",
            "  warnings.warn(\n"
          ]
        },
        {
          "output_type": "stream",
          "name": "stdout",
          "text": [
            "Epoch 21: Loss: 1.4480, Train Accuracy: 42.01%\n",
            "Test Accuracy: 85.72%\n",
            "Confusion Matrix (Epoch 21):\n",
            "[[908   9   8   7   5   2   3   3  41  14]\n",
            " [  8 936   2   6   0   4   3   1  15  25]\n",
            " [ 47   0 855  30  21  25  14   6   1   1]\n",
            " [ 26   1  24 723  22 156  26  14   4   4]\n",
            " [  9   1  47  49 807  33  24  26   4   0]\n",
            " [  9   0  27 101  14 826  12  10   0   1]\n",
            " [ 12   1  21  39   6  19 900   2   0   0]\n",
            " [ 11   0  14  27  15  55   1 797   0  80]\n",
            " [ 25   5   6   8   1   5   1   1 944   4]\n",
            " [ 24  49   3   9   0   6   5   3  25 876]]\n"
          ]
        },
        {
          "output_type": "stream",
          "name": "stderr",
          "text": [
            "/usr/local/lib/python3.11/dist-packages/torch/utils/data/dataloader.py:624: UserWarning: This DataLoader will create 4 worker processes in total. Our suggested max number of worker in current system is 2, which is smaller than what this DataLoader is going to create. Please be aware that excessive worker creation might get DataLoader running slow or even freeze, lower the worker number to avoid potential slowness/freeze if necessary.\n",
            "  warnings.warn(\n"
          ]
        },
        {
          "output_type": "stream",
          "name": "stdout",
          "text": [
            "Epoch 22: Loss: 1.4786, Train Accuracy: 43.81%\n",
            "Test Accuracy: 87.49%\n",
            "Confusion Matrix (Epoch 22):\n",
            "[[903   8   9   5   4   4   1   8  26  32]\n",
            " [  4 937   2   3   0   2   3   1   4  44]\n",
            " [ 28   0 866  24  25  36  13   6   2   0]\n",
            " [  8   2  30 742  17 162  17  12   3   7]\n",
            " [  2   1  47  42 828  30  19  30   1   0]\n",
            " [  6   1  15  76  24 852   6  17   0   3]\n",
            " [  5   2  36  31   7  18 896   4   1   0]\n",
            " [  4   0   8  21  25  37   1 901   0   3]\n",
            " [ 39  18   8   9   2   4   3   1 895  21]\n",
            " [  9  39   3   7   0   3   1   2   7 929]]\n"
          ]
        },
        {
          "output_type": "stream",
          "name": "stderr",
          "text": [
            "/usr/local/lib/python3.11/dist-packages/torch/utils/data/dataloader.py:624: UserWarning: This DataLoader will create 4 worker processes in total. Our suggested max number of worker in current system is 2, which is smaller than what this DataLoader is going to create. Please be aware that excessive worker creation might get DataLoader running slow or even freeze, lower the worker number to avoid potential slowness/freeze if necessary.\n",
            "  warnings.warn(\n"
          ]
        },
        {
          "output_type": "stream",
          "name": "stdout",
          "text": [
            "Epoch 23: Loss: 1.4267, Train Accuracy: 43.52%\n",
            "Test Accuracy: 87.53%\n",
            "Confusion Matrix (Epoch 23):\n",
            "[[912  11  32   4   4   0   2   1  20  14]\n",
            " [  7 963   3   2   0   1   1   0   2  21]\n",
            " [ 22   1 906  16  18  17  14   3   1   2]\n",
            " [ 11   4  42 751  24 126  30   7   3   2]\n",
            " [ 13   2  46  47 794  27  36  30   2   3]\n",
            " [  8   2  22  91  10 829  16  19   0   3]\n",
            " [  8   0  28  25   2   9 925   1   1   1]\n",
            " [ 12   1  15  21  37  31   1 874   1   7]\n",
            " [ 44  17   6   4   0   2   3   1 915   8]\n",
            " [ 21  68   4   5   0   2   2   2  12 884]]\n"
          ]
        },
        {
          "output_type": "stream",
          "name": "stderr",
          "text": [
            "/usr/local/lib/python3.11/dist-packages/torch/utils/data/dataloader.py:624: UserWarning: This DataLoader will create 4 worker processes in total. Our suggested max number of worker in current system is 2, which is smaller than what this DataLoader is going to create. Please be aware that excessive worker creation might get DataLoader running slow or even freeze, lower the worker number to avoid potential slowness/freeze if necessary.\n",
            "  warnings.warn(\n"
          ]
        },
        {
          "output_type": "stream",
          "name": "stdout",
          "text": [
            "Epoch 24: Loss: 1.4784, Train Accuracy: 46.61%\n",
            "Test Accuracy: 87.32%\n",
            "Confusion Matrix (Epoch 24):\n",
            "[[945   8   2   4   2   0   0   3  33   3]\n",
            " [  5 970   2   0   0   0   1   0   7  15]\n",
            " [ 59   4 872  13  24   7   9   8   4   0]\n",
            " [ 25  11  38 728  28 101  26  20  18   5]\n",
            " [ 13   2  46  24 864   9  14  22   6   0]\n",
            " [ 13   2  38 109  24 769  16  20   6   3]\n",
            " [  7   4  40  30  12   5 892   3   6   1]\n",
            " [ 10   2  11  18  18  21   1 911   5   3]\n",
            " [ 46  10   2   3   0   1   1   0 935   2]\n",
            " [ 34  77   6   4   0   0   1   2  30 846]]\n"
          ]
        },
        {
          "output_type": "stream",
          "name": "stderr",
          "text": [
            "/usr/local/lib/python3.11/dist-packages/torch/utils/data/dataloader.py:624: UserWarning: This DataLoader will create 4 worker processes in total. Our suggested max number of worker in current system is 2, which is smaller than what this DataLoader is going to create. Please be aware that excessive worker creation might get DataLoader running slow or even freeze, lower the worker number to avoid potential slowness/freeze if necessary.\n",
            "  warnings.warn(\n"
          ]
        },
        {
          "output_type": "stream",
          "name": "stdout",
          "text": [
            "Epoch 25: Loss: 1.4614, Train Accuracy: 43.43%\n",
            "Test Accuracy: 87.38%\n",
            "Confusion Matrix (Epoch 25):\n",
            "[[891   8  38  11   4   1   2   6  23  16]\n",
            " [  6 951   1   6   1   4   0   3   3  25]\n",
            " [ 17   1 878  29  27  23  12   9   4   0]\n",
            " [  6   1  27 710  29 181  24  11   6   5]\n",
            " [  4   1  35  24 847  30  14  44   1   0]\n",
            " [  4   1  17  69  22 855   8  22   0   2]\n",
            " [  6   2  36  32   8  18 895   3   0   0]\n",
            " [  5   1   9  19  13  30   0 921   1   1]\n",
            " [ 26  25  17  10   0   3   2   2 901  14]\n",
            " [ 15  55   4   9   1   5   2   8  12 889]]\n"
          ]
        },
        {
          "output_type": "stream",
          "name": "stderr",
          "text": [
            "/usr/local/lib/python3.11/dist-packages/torch/utils/data/dataloader.py:624: UserWarning: This DataLoader will create 4 worker processes in total. Our suggested max number of worker in current system is 2, which is smaller than what this DataLoader is going to create. Please be aware that excessive worker creation might get DataLoader running slow or even freeze, lower the worker number to avoid potential slowness/freeze if necessary.\n",
            "  warnings.warn(\n"
          ]
        },
        {
          "output_type": "stream",
          "name": "stdout",
          "text": [
            "Epoch 26: Loss: 1.4422, Train Accuracy: 43.44%\n",
            "Test Accuracy: 87.63%\n",
            "Confusion Matrix (Epoch 26):\n",
            "[[892   7  24  10   2   0   2   8  39  16]\n",
            " [ 13 944   2   3   0   0   2   0   7  29]\n",
            " [ 36   1 867  31  25  12  18   6   3   1]\n",
            " [ 14   2  38 734  18 137  25  20   7   5]\n",
            " [ 14   2  36  29 815  25  17  55   7   0]\n",
            " [ 11   3  15  83  20 835   8  19   1   5]\n",
            " [  6   3  17  20  13  13 920   6   2   0]\n",
            " [ 17   0   9  15   8  33   1 909   2   6]\n",
            " [ 25  13   0   3   2   0   1   0 946  10]\n",
            " [ 23  44   3  11   0   0   4   0  14 901]]\n"
          ]
        },
        {
          "output_type": "stream",
          "name": "stderr",
          "text": [
            "/usr/local/lib/python3.11/dist-packages/torch/utils/data/dataloader.py:624: UserWarning: This DataLoader will create 4 worker processes in total. Our suggested max number of worker in current system is 2, which is smaller than what this DataLoader is going to create. Please be aware that excessive worker creation might get DataLoader running slow or even freeze, lower the worker number to avoid potential slowness/freeze if necessary.\n",
            "  warnings.warn(\n"
          ]
        },
        {
          "output_type": "stream",
          "name": "stdout",
          "text": [
            "Epoch 27: Loss: 1.4688, Train Accuracy: 45.48%\n",
            "Test Accuracy: 87.32%\n",
            "Confusion Matrix (Epoch 27):\n",
            "[[929   5  32   4   1   0   1   0  18  10]\n",
            " [ 15 937   1   0   0   0   4   1   9  33]\n",
            " [ 30   2 908  14  16  10  12   7   1   0]\n",
            " [ 31   5  47 763  25  64  36  19   6   4]\n",
            " [ 23   2  41  23 842  12  26  29   2   0]\n",
            " [ 18   2  31 129  23 742  21  33   1   0]\n",
            " [ 10   0  33  19   8   2 923   3   1   1]\n",
            " [ 31   2  12  21  13  15   4 899   0   3]\n",
            " [ 61   8   7   6   0   0   3   1 906   8]\n",
            " [ 38  44   3   6   0   0   3   3  20 883]]\n"
          ]
        },
        {
          "output_type": "stream",
          "name": "stderr",
          "text": [
            "/usr/local/lib/python3.11/dist-packages/torch/utils/data/dataloader.py:624: UserWarning: This DataLoader will create 4 worker processes in total. Our suggested max number of worker in current system is 2, which is smaller than what this DataLoader is going to create. Please be aware that excessive worker creation might get DataLoader running slow or even freeze, lower the worker number to avoid potential slowness/freeze if necessary.\n",
            "  warnings.warn(\n"
          ]
        },
        {
          "output_type": "stream",
          "name": "stdout",
          "text": [
            "Epoch 28: Loss: 1.4146, Train Accuracy: 45.17%\n",
            "Test Accuracy: 87.89%\n",
            "Confusion Matrix (Epoch 28):\n",
            "[[924   7  18   3   5   0   2   2  27  12]\n",
            " [  7 954   1   2   1   0   1   0   2  32]\n",
            " [ 38   1 888  14  28  14  11   4   1   1]\n",
            " [ 31   3  43 713  32 121  25  21   6   5]\n",
            " [  7   3  30  23 876  14  20  21   4   2]\n",
            " [ 13   0  26  90  31 799  14  25   1   1]\n",
            " [  9   2  33  24  14   8 906   3   1   0]\n",
            " [ 13   0  14  18  28  17   1 906   1   2]\n",
            " [ 38  18   5   8   1   0   0   1 918  11]\n",
            " [ 27  37   5   6   2   0   2   1  15 905]]\n"
          ]
        },
        {
          "output_type": "stream",
          "name": "stderr",
          "text": [
            "/usr/local/lib/python3.11/dist-packages/torch/utils/data/dataloader.py:624: UserWarning: This DataLoader will create 4 worker processes in total. Our suggested max number of worker in current system is 2, which is smaller than what this DataLoader is going to create. Please be aware that excessive worker creation might get DataLoader running slow or even freeze, lower the worker number to avoid potential slowness/freeze if necessary.\n",
            "  warnings.warn(\n"
          ]
        },
        {
          "output_type": "stream",
          "name": "stdout",
          "text": [
            "Epoch 29: Loss: 1.4393, Train Accuracy: 44.50%\n",
            "Test Accuracy: 87.45%\n",
            "Confusion Matrix (Epoch 29):\n",
            "[[946   4  17   2   0   0   1   6  20   4]\n",
            " [ 13 952   0   0   0   3   1   1   2  28]\n",
            " [ 29   2 893  12  19  16  18   9   1   1]\n",
            " [ 24   4  45 733  23 116  29  14   6   6]\n",
            " [ 14   2  42  30 818  17  24  46   3   4]\n",
            " [ 12   0  22  97  21 801  16  28   1   2]\n",
            " [  9   3  31  20   4  14 912   4   3   0]\n",
            " [ 15   0  10  19   8  22   1 885   2  38]\n",
            " [ 50  14   5   3   0   1   1   2 916   8]\n",
            " [ 41  43   3   9   0   1   3   2   9 889]]\n"
          ]
        },
        {
          "output_type": "stream",
          "name": "stderr",
          "text": [
            "/usr/local/lib/python3.11/dist-packages/torch/utils/data/dataloader.py:624: UserWarning: This DataLoader will create 4 worker processes in total. Our suggested max number of worker in current system is 2, which is smaller than what this DataLoader is going to create. Please be aware that excessive worker creation might get DataLoader running slow or even freeze, lower the worker number to avoid potential slowness/freeze if necessary.\n",
            "  warnings.warn(\n"
          ]
        },
        {
          "output_type": "stream",
          "name": "stdout",
          "text": [
            "Epoch 30: Loss: 1.4559, Train Accuracy: 45.63%\n",
            "Test Accuracy: 86.19%\n",
            "Confusion Matrix (Epoch 30):\n",
            "[[912  11  23   9   1   1   0   2  29  12]\n",
            " [  8 947   0   1   0   3   1   1   5  34]\n",
            " [ 26   0 870  28  19  22  27   7   1   0]\n",
            " [  9   3  32 675  16 197  37  21   6   4]\n",
            " [  8   2  33  35 809  27  33  47   3   3]\n",
            " [  5   2  21  68  13 853  13  24   0   1]\n",
            " [  5   1  25  13   5  20 927   4   0   0]\n",
            " [ 10   0   9  14 150  28   1 783   2   3]\n",
            " [ 45   9   4   4   0   0   1   0 932   5]\n",
            " [ 22  38   3   5   0   5   0   1  15 911]]\n"
          ]
        },
        {
          "output_type": "stream",
          "name": "stderr",
          "text": [
            "/usr/local/lib/python3.11/dist-packages/torch/utils/data/dataloader.py:624: UserWarning: This DataLoader will create 4 worker processes in total. Our suggested max number of worker in current system is 2, which is smaller than what this DataLoader is going to create. Please be aware that excessive worker creation might get DataLoader running slow or even freeze, lower the worker number to avoid potential slowness/freeze if necessary.\n",
            "  warnings.warn(\n"
          ]
        },
        {
          "output_type": "stream",
          "name": "stdout",
          "text": [
            "Epoch 31: Loss: 1.4079, Train Accuracy: 49.69%\n",
            "Test Accuracy: 88.94%\n",
            "Confusion Matrix (Epoch 31):\n",
            "[[934   8   9  10   3   0   0   4  22  10]\n",
            " [  7 959   2   1   0   1   1   1   5  23]\n",
            " [ 26   0 896  23  17  17  14   6   1   0]\n",
            " [ 10   3  30 759  23 128  20  17   7   3]\n",
            " [  6   1  32  30 855  18  21  35   2   0]\n",
            " [  6   2  22  87  13 836   9  24   0   1]\n",
            " [  6   0  31  19   6  11 926   1   0   0]\n",
            " [  6   0   8  12  35  23   2 879   3  32]\n",
            " [ 41   7   3   2   0   0   1   0 938   8]\n",
            " [ 20  44   3   6   0   3   0   1  11 912]]\n"
          ]
        },
        {
          "output_type": "stream",
          "name": "stderr",
          "text": [
            "/usr/local/lib/python3.11/dist-packages/torch/utils/data/dataloader.py:624: UserWarning: This DataLoader will create 4 worker processes in total. Our suggested max number of worker in current system is 2, which is smaller than what this DataLoader is going to create. Please be aware that excessive worker creation might get DataLoader running slow or even freeze, lower the worker number to avoid potential slowness/freeze if necessary.\n",
            "  warnings.warn(\n"
          ]
        },
        {
          "output_type": "stream",
          "name": "stdout",
          "text": [
            "Epoch 32: Loss: 1.4013, Train Accuracy: 45.79%\n",
            "Test Accuracy: 89.37%\n",
            "Confusion Matrix (Epoch 32):\n",
            "[[943   5   9   2   2   0   0   7  22  10]\n",
            " [  7 957   2   1   0   1   1   1   3  27]\n",
            " [ 31   1 902  21  14  14  13   3   1   0]\n",
            " [ 11   4  41 754  20 123  19  18   6   4]\n",
            " [  9   2  41  32 842  17  22  32   2   1]\n",
            " [  8   2  24  79  12 843   9  22   0   1]\n",
            " [  5   2  31  18   5  14 920   4   0   1]\n",
            " [  7   0  12  11  11  17   2 920   2  18]\n",
            " [ 43   9   4   2   0   0   0   0 932  10]\n",
            " [ 20  32   3   6   0   3   0   1  11 924]]\n"
          ]
        },
        {
          "output_type": "stream",
          "name": "stderr",
          "text": [
            "/usr/local/lib/python3.11/dist-packages/torch/utils/data/dataloader.py:624: UserWarning: This DataLoader will create 4 worker processes in total. Our suggested max number of worker in current system is 2, which is smaller than what this DataLoader is going to create. Please be aware that excessive worker creation might get DataLoader running slow or even freeze, lower the worker number to avoid potential slowness/freeze if necessary.\n",
            "  warnings.warn(\n"
          ]
        },
        {
          "output_type": "stream",
          "name": "stdout",
          "text": [
            "Epoch 33: Loss: 1.4013, Train Accuracy: 48.58%\n",
            "Test Accuracy: 89.07%\n",
            "Confusion Matrix (Epoch 33):\n",
            "[[943   3   9   6   4   0   0   4  21  10]\n",
            " [  9 957   2   1   0   2   1   1   3  24]\n",
            " [ 31   0 901  17  20  14  12   3   1   1]\n",
            " [ 10   3  38 758  24 124  18  17   4   4]\n",
            " [  5   1  31  23 877  12  21  28   2   0]\n",
            " [  6   1  21  74  18 851   9  18   1   1]\n",
            " [  5   2  27  18   6  10 930   2   0   0]\n",
            " [  9   1  14  10  23  18   2 835   2  86]\n",
            " [ 40   6   5   1   1   0   0   0 939   8]\n",
            " [ 22  37   3   7   0   2   0   1  12 916]]\n"
          ]
        },
        {
          "output_type": "stream",
          "name": "stderr",
          "text": [
            "/usr/local/lib/python3.11/dist-packages/torch/utils/data/dataloader.py:624: UserWarning: This DataLoader will create 4 worker processes in total. Our suggested max number of worker in current system is 2, which is smaller than what this DataLoader is going to create. Please be aware that excessive worker creation might get DataLoader running slow or even freeze, lower the worker number to avoid potential slowness/freeze if necessary.\n",
            "  warnings.warn(\n"
          ]
        },
        {
          "output_type": "stream",
          "name": "stdout",
          "text": [
            "Epoch 34: Loss: 1.3998, Train Accuracy: 49.18%\n",
            "Test Accuracy: 88.90%\n",
            "Confusion Matrix (Epoch 34):\n",
            "[[944   4   8   9   3   0   0   1  20  11]\n",
            " [  8 964   0   1   0   1   1   1   3  21]\n",
            " [ 33   0 887  25  19  15  15   3   1   2]\n",
            " [  9   4  28 776  19 124  23  10   4   3]\n",
            " [  6   2  29  27 861  18  24  29   3   1]\n",
            " [  5   2  15  83  15 848  12  19   0   1]\n",
            " [  5   2  23  16   6  14 933   1   0   0]\n",
            " [  8   1  10  16  12  23   3 839  85   3]\n",
            " [ 44  10   5   5   1   0   1   0 925   9]\n",
            " [ 20  43   3   7   0   2   0   1  11 913]]\n"
          ]
        },
        {
          "output_type": "stream",
          "name": "stderr",
          "text": [
            "/usr/local/lib/python3.11/dist-packages/torch/utils/data/dataloader.py:624: UserWarning: This DataLoader will create 4 worker processes in total. Our suggested max number of worker in current system is 2, which is smaller than what this DataLoader is going to create. Please be aware that excessive worker creation might get DataLoader running slow or even freeze, lower the worker number to avoid potential slowness/freeze if necessary.\n",
            "  warnings.warn(\n"
          ]
        },
        {
          "output_type": "stream",
          "name": "stdout",
          "text": [
            "Epoch 35: Loss: 1.3729, Train Accuracy: 46.28%\n",
            "Test Accuracy: 89.89%\n",
            "Confusion Matrix (Epoch 35):\n",
            "[[944   3  11   5   3   0   0   2  20  12]\n",
            " [  6 965   1   1   0   0   1   1   3  22]\n",
            " [ 25   0 909  18  14  15  13   3   1   2]\n",
            " [  9   4  38 774  19 116  21  11   5   3]\n",
            " [  5   2  36  23 871  15  17  28   3   0]\n",
            " [  6   1  19  81  16 846  11  19   0   1]\n",
            " [  6   3  26  21   6  14 922   2   0   0]\n",
            " [  7   0  11  12  11  20   1 902  33   3]\n",
            " [ 43  12   5   3   1   0   0   0 931   5]\n",
            " [ 20  33   3   6   0   2   0   1  10 925]]\n"
          ]
        },
        {
          "output_type": "stream",
          "name": "stderr",
          "text": [
            "/usr/local/lib/python3.11/dist-packages/torch/utils/data/dataloader.py:624: UserWarning: This DataLoader will create 4 worker processes in total. Our suggested max number of worker in current system is 2, which is smaller than what this DataLoader is going to create. Please be aware that excessive worker creation might get DataLoader running slow or even freeze, lower the worker number to avoid potential slowness/freeze if necessary.\n",
            "  warnings.warn(\n"
          ]
        },
        {
          "output_type": "stream",
          "name": "stdout",
          "text": [
            "Epoch 36: Loss: 1.3623, Train Accuracy: 47.11%\n",
            "Test Accuracy: 88.92%\n",
            "Confusion Matrix (Epoch 36):\n",
            "[[944   3   7   4   3   0   1   3  22  13]\n",
            " [  6 968   0   1   0   1   1   1   3  19]\n",
            " [ 31   0 910  17  14  12  10   3   2   1]\n",
            " [ 11   6  39 768  19 112  22  15   5   3]\n",
            " [  8   2  34  28 862  13  16  32   3   2]\n",
            " [  7   2  19  82  15 842  11  21   0   1]\n",
            " [  7   3  30  17   6   8 926   3   0   0]\n",
            " [  7   0  11   8   8  17   1 820 125   3]\n",
            " [ 36   9   3   3   1   0   1   0 940   7]\n",
            " [ 19  46   3   6   0   2   0   1  11 912]]\n"
          ]
        },
        {
          "output_type": "stream",
          "name": "stderr",
          "text": [
            "/usr/local/lib/python3.11/dist-packages/torch/utils/data/dataloader.py:624: UserWarning: This DataLoader will create 4 worker processes in total. Our suggested max number of worker in current system is 2, which is smaller than what this DataLoader is going to create. Please be aware that excessive worker creation might get DataLoader running slow or even freeze, lower the worker number to avoid potential slowness/freeze if necessary.\n",
            "  warnings.warn(\n"
          ]
        },
        {
          "output_type": "stream",
          "name": "stdout",
          "text": [
            "Epoch 37: Loss: 1.4040, Train Accuracy: 45.45%\n",
            "Test Accuracy: 89.37%\n",
            "Confusion Matrix (Epoch 37):\n",
            "[[937   3  12   6   3   0   2   2  21  14]\n",
            " [  7 961   0   1   0   1   1   1   3  25]\n",
            " [ 26   0 915  17  12  15  10   3   2   0]\n",
            " [ 11   3  38 762  19 117  23  18   6   3]\n",
            " [  9   3  42  24 848  16  18  36   3   1]\n",
            " [  6   1  15  80  14 848  11  24   0   1]\n",
            " [  6   2  29  12   6   9 933   3   0   0]\n",
            " [  6   0   9   9   8  25   1 882  58   2]\n",
            " [ 41   8   5   4   0   0   1   1 933   7]\n",
            " [ 20  36   3   7   0   3   1   1  11 918]]\n"
          ]
        },
        {
          "output_type": "stream",
          "name": "stderr",
          "text": [
            "/usr/local/lib/python3.11/dist-packages/torch/utils/data/dataloader.py:624: UserWarning: This DataLoader will create 4 worker processes in total. Our suggested max number of worker in current system is 2, which is smaller than what this DataLoader is going to create. Please be aware that excessive worker creation might get DataLoader running slow or even freeze, lower the worker number to avoid potential slowness/freeze if necessary.\n",
            "  warnings.warn(\n"
          ]
        },
        {
          "output_type": "stream",
          "name": "stdout",
          "text": [
            "Epoch 38: Loss: 1.3357, Train Accuracy: 48.52%\n",
            "Test Accuracy: 88.21%\n",
            "Confusion Matrix (Epoch 38):\n",
            "[[938   3  11   8   2   0   0   5  22  11]\n",
            " [  6 967   0   1   0   1   0   1   3  21]\n",
            " [ 28   0 905  20  17  16  10   3   1   0]\n",
            " [ 11   3  36 782  18 107  20  14   7   2]\n",
            " [ 10   2  30  26 863  18  17  32   2   0]\n",
            " [  7   0  13  87  17 843  11  20   1   1]\n",
            " [  8   1  32  19   6   8 924   2   0   0]\n",
            " [  6   0   9  13  10  19   1 756 185   1]\n",
            " [ 37   8   3   3   1   0   1   1 939   7]\n",
            " [ 24  43   3   9   0   3   0   1  13 904]]\n"
          ]
        },
        {
          "output_type": "stream",
          "name": "stderr",
          "text": [
            "/usr/local/lib/python3.11/dist-packages/torch/utils/data/dataloader.py:624: UserWarning: This DataLoader will create 4 worker processes in total. Our suggested max number of worker in current system is 2, which is smaller than what this DataLoader is going to create. Please be aware that excessive worker creation might get DataLoader running slow or even freeze, lower the worker number to avoid potential slowness/freeze if necessary.\n",
            "  warnings.warn(\n"
          ]
        },
        {
          "output_type": "stream",
          "name": "stdout",
          "text": [
            "Epoch 39: Loss: 1.3970, Train Accuracy: 48.30%\n",
            "Test Accuracy: 89.54%\n",
            "Confusion Matrix (Epoch 39):\n",
            "[[937   3  15   6   3   0   0   4  23   9]\n",
            " [  8 965   0   1   1   1   1   1   3  19]\n",
            " [ 22   0 919  17  11  15  11   3   1   1]\n",
            " [  9   3  37 779  17 111  19  18   5   2]\n",
            " [  4   2  35  32 859  15  20  30   2   1]\n",
            " [  5   0  14  83  18 846   9  23   1   1]\n",
            " [  8   2  26  21   7   9 924   3   0   0]\n",
            " [  5   0  11  10   9  17   1 871  74   2]\n",
            " [ 34   6   5   4   1   0   1   1 942   6]\n",
            " [ 19  42   2   7   0   3   0   1  14 912]]\n"
          ]
        },
        {
          "output_type": "stream",
          "name": "stderr",
          "text": [
            "/usr/local/lib/python3.11/dist-packages/torch/utils/data/dataloader.py:624: UserWarning: This DataLoader will create 4 worker processes in total. Our suggested max number of worker in current system is 2, which is smaller than what this DataLoader is going to create. Please be aware that excessive worker creation might get DataLoader running slow or even freeze, lower the worker number to avoid potential slowness/freeze if necessary.\n",
            "  warnings.warn(\n"
          ]
        },
        {
          "output_type": "stream",
          "name": "stdout",
          "text": [
            "Epoch 40: Loss: 1.3829, Train Accuracy: 46.22%\n",
            "Test Accuracy: 89.00%\n",
            "Confusion Matrix (Epoch 40):\n",
            "[[932   3  14   8   2   0   1   5  21  14]\n",
            " [  4 970   0   1   0   1   1   1   3  19]\n",
            " [ 26   0 912  20  12  14  11   3   1   1]\n",
            " [  7   3  38 783  20 111  18  15   3   2]\n",
            " [  6   2  35  29 863  18  16  29   2   0]\n",
            " [  4   0  18  82  14 845  11  24   1   1]\n",
            " [  5   2  28  20   7  12 923   2   1   0]\n",
            " [  4   0   8  12  10  18   1 826 120   1]\n",
            " [ 37  12   4   6   0   0   0   1 932   8]\n",
            " [ 20  41   3   8   0   3   0   1  10 914]]\n"
          ]
        },
        {
          "output_type": "stream",
          "name": "stderr",
          "text": [
            "/usr/local/lib/python3.11/dist-packages/torch/utils/data/dataloader.py:624: UserWarning: This DataLoader will create 4 worker processes in total. Our suggested max number of worker in current system is 2, which is smaller than what this DataLoader is going to create. Please be aware that excessive worker creation might get DataLoader running slow or even freeze, lower the worker number to avoid potential slowness/freeze if necessary.\n",
            "  warnings.warn(\n"
          ]
        },
        {
          "output_type": "stream",
          "name": "stdout",
          "text": [
            "Epoch 41: Loss: 1.3792, Train Accuracy: 48.60%\n",
            "Test Accuracy: 89.40%\n",
            "Confusion Matrix (Epoch 41):\n",
            "[[949   3  10   3   3   0   0   4  20   8]\n",
            " [  8 967   0   1   0   1   1   1   4  17]\n",
            " [ 26   0 917  15  13  13  11   4   1   0]\n",
            " [ 16   3  39 758  21 116  21  18   6   2]\n",
            " [ 11   2  32  24 861  15  22  29   3   1]\n",
            " [  7   1  18  79  17 842  16  19   0   1]\n",
            " [  6   3  29  18   5   9 927   2   1   0]\n",
            " [  7   0   9   9  10  17   2 879  66   1]\n",
            " [ 41  10   3   4   0   0   0   1 936   5]\n",
            " [ 23  44   3   8   0   3   0   1  14 904]]\n"
          ]
        },
        {
          "output_type": "stream",
          "name": "stderr",
          "text": [
            "/usr/local/lib/python3.11/dist-packages/torch/utils/data/dataloader.py:624: UserWarning: This DataLoader will create 4 worker processes in total. Our suggested max number of worker in current system is 2, which is smaller than what this DataLoader is going to create. Please be aware that excessive worker creation might get DataLoader running slow or even freeze, lower the worker number to avoid potential slowness/freeze if necessary.\n",
            "  warnings.warn(\n"
          ]
        },
        {
          "output_type": "stream",
          "name": "stdout",
          "text": [
            "Epoch 42: Loss: 1.3969, Train Accuracy: 48.43%\n",
            "Test Accuracy: 88.71%\n",
            "Confusion Matrix (Epoch 42):\n",
            "[[930   4  20   5   4   0   3   2  21  11]\n",
            " [  6 970   1   1   0   1   0   1   3  17]\n",
            " [ 20   0 925  15  13  12  11   3   1   0]\n",
            " [ 10   3  39 788  21 105  18  11   3   2]\n",
            " [  5   2  41  26 866  17  18  22   3   0]\n",
            " [  4   1  18  86  18 846  11  15   0   1]\n",
            " [  5   3  33  17   6  11 922   2   1   0]\n",
            " [  4   0  13  13  14  26   3 780 146   1]\n",
            " [ 32  10   5   6   0   0   0   1 939   7]\n",
            " [ 22  45   3   7   0   3   0   1  14 905]]\n"
          ]
        },
        {
          "output_type": "stream",
          "name": "stderr",
          "text": [
            "/usr/local/lib/python3.11/dist-packages/torch/utils/data/dataloader.py:624: UserWarning: This DataLoader will create 4 worker processes in total. Our suggested max number of worker in current system is 2, which is smaller than what this DataLoader is going to create. Please be aware that excessive worker creation might get DataLoader running slow or even freeze, lower the worker number to avoid potential slowness/freeze if necessary.\n",
            "  warnings.warn(\n"
          ]
        }
      ]
    },
    {
      "cell_type": "code",
      "source": [
        "plt.plot(acc_list)\n",
        "plt.title('Accuracy')\n",
        "plt.xlabel('Epoch')\n",
        "plt.xticks(np.arange(0,200,20))\n",
        "plt.ylabel('Accuracy')\n",
        "plt.show()"
      ],
      "metadata": {
        "id": "BvNbkM600txP"
      },
      "execution_count": null,
      "outputs": []
    },
    {
      "cell_type": "code",
      "source": [
        "plt.plot(train_acc_list)\n",
        "plt.title('Training Accuracy')\n",
        "plt.xlabel('Epoch')\n",
        "plt.xticks(np.arange(0,200,20))\n",
        "plt.ylabel('Accuracy')\n",
        "plt.show()"
      ],
      "metadata": {
        "id": "RCbp7dPC0ybY"
      },
      "execution_count": null,
      "outputs": []
    },
    {
      "cell_type": "code",
      "source": [
        "plt.plot(loss_list)\n",
        "plt.title('Cross Entropy Loss')\n",
        "plt.xlabel('Epoch')\n",
        "plt.xticks(np.arange(0,200,20))\n",
        "plt.ylabel('Accuracy')\n",
        "plt.show()"
      ],
      "metadata": {
        "id": "9SDGO5Ez01o-"
      },
      "execution_count": null,
      "outputs": []
    }
  ]
}