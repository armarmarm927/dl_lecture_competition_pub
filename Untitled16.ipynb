{
  "nbformat": 4,
  "nbformat_minor": 0,
  "metadata": {
    "colab": {
      "provenance": [],
      "toc_visible": true,
      "gpuType": "T4",
      "authorship_tag": "ABX9TyP++sXCINxj7RPgVeEhrtM5",
      "include_colab_link": true
    },
    "kernelspec": {
      "name": "python3",
      "display_name": "Python 3"
    },
    "language_info": {
      "name": "python"
    },
    "accelerator": "GPU"
  },
  "cells": [
    {
      "cell_type": "markdown",
      "metadata": {
        "id": "view-in-github",
        "colab_type": "text"
      },
      "source": [
        "<a href=\"https://colab.research.google.com/github/armarmarm927/dl_lecture_competition_pub/blob/main/Untitled16.ipynb\" target=\"_parent\"><img src=\"https://colab.research.google.com/assets/colab-badge.svg\" alt=\"Open In Colab\"/></a>"
      ]
    },
    {
      "cell_type": "code",
      "execution_count": 1,
      "metadata": {
        "id": "pNEbnPbuKV1K"
      },
      "outputs": [],
      "source": [
        "import torch\n",
        "import numpy as np\n",
        "import torch.nn as nn\n",
        "from torch import optim\n",
        "import torch.nn.init as init\n",
        "import torchvision.transforms as transforms\n",
        "from torchvision import models\n",
        "from torch.utils.data import Dataset,DataLoader\n",
        "import torchvision.datasets as dsets\n",
        "import matplotlib.pyplot as plt"
      ]
    },
    {
      "cell_type": "code",
      "source": [
        "batch_size = 100\n",
        "train_data = dsets.CIFAR10(root='./tmp/cifer-10',train=True,download=True,transform=transforms.Compose([transforms.RandomHorizontalFlip(p=0.5),transforms.ToTensor(),transforms.Normalize([0.5,0.5,0.5],[0.5,0.5,0.5]),transforms.RandomErasing(p=0.5,scale=(0.02,0.33),ratio=(0.3,3.3),value=0,inplace=False)]))\n",
        "train_loader = DataLoader(train_data,batch_size=batch_size,shuffle=True)\n",
        "test_data = dsets.CIFAR10(root='./tmp/cifer-10',train=False,download=True,transform=transforms.Compose([transforms.ToTensor(),transforms.Normalize([0.5,0.5,0.5],[0.5,0.5,0.5])]))\n",
        "test_loader = DataLoader(test_data,batch_size=batch_size,shuffle=False)"
      ],
      "metadata": {
        "colab": {
          "base_uri": "https://localhost:8080/"
        },
        "id": "6fNuw62pLzYV",
        "outputId": "3f82af95-cf73-4100-a93f-dc2975673319"
      },
      "execution_count": 3,
      "outputs": [
        {
          "output_type": "stream",
          "name": "stdout",
          "text": [
            "Downloading https://www.cs.toronto.edu/~kriz/cifar-10-python.tar.gz to ./tmp/cifer-10/cifar-10-python.tar.gz\n"
          ]
        },
        {
          "output_type": "stream",
          "name": "stderr",
          "text": [
            "100%|██████████| 170M/170M [00:14<00:00, 12.0MB/s]\n"
          ]
        },
        {
          "output_type": "stream",
          "name": "stdout",
          "text": [
            "Extracting ./tmp/cifer-10/cifar-10-python.tar.gz to ./tmp/cifer-10\n",
            "Files already downloaded and verified\n"
          ]
        }
      ]
    },
    {
      "cell_type": "code",
      "source": [
        "device = torch.device(\"cuda\" if torch.cuda.is_available() else \"cpu\")"
      ],
      "metadata": {
        "id": "JDOw6eFtX8y8"
      },
      "execution_count": 4,
      "outputs": []
    },
    {
      "cell_type": "code",
      "source": [
        "model_ft = models.resnet50(pretrained=True)\n",
        "model_ft.fc = nn.Linear(model_ft.fc.in_features,10)\n",
        "net = model_ft.to(device)"
      ],
      "metadata": {
        "colab": {
          "base_uri": "https://localhost:8080/"
        },
        "id": "wjBC0ts1V5-D",
        "outputId": "5360adfd-9bb8-430e-9c6f-ec916f8f0c2d"
      },
      "execution_count": 9,
      "outputs": [
        {
          "output_type": "stream",
          "name": "stderr",
          "text": [
            "/usr/local/lib/python3.11/dist-packages/torchvision/models/_utils.py:208: UserWarning: The parameter 'pretrained' is deprecated since 0.13 and may be removed in the future, please use 'weights' instead.\n",
            "  warnings.warn(\n",
            "/usr/local/lib/python3.11/dist-packages/torchvision/models/_utils.py:223: UserWarning: Arguments other than a weight enum or `None` for 'weights' are deprecated since 0.13 and may be removed in the future. The current behavior is equivalent to passing `weights=ResNet50_Weights.IMAGENET1K_V1`. You can also use `weights=ResNet50_Weights.DEFAULT` to get the most up-to-date weights.\n",
            "  warnings.warn(msg)\n"
          ]
        }
      ]
    },
    {
      "cell_type": "code",
      "source": [
        "criterion =nn.CrossEntropyLoss()\n",
        "optimizer = optim.SGD(net.parameters(),lr=0.01,momentum=0.9,weight_decay=0.00005)"
      ],
      "metadata": {
        "id": "LX4K8pslWNUd"
      },
      "execution_count": 10,
      "outputs": []
    },
    {
      "cell_type": "code",
      "source": [
        "loss,epoch_loss,count = 0,0,0\n",
        "acc_list = []\n",
        "loss_list = []\n",
        "for i in range(20):\n",
        "  net.train()\n",
        "  for j,data in enumerate(train_loader,0):\n",
        "    optimizer.zero_grad()\n",
        "    inputs,labels = data\n",
        "    inputs = inputs.to(device)\n",
        "    labels = labels.to(device)\n",
        "\n",
        "    outputs = net(inputs)\n",
        "\n",
        "    loss = criterion(outputs,labels)\n",
        "\n",
        "    loss.backward()\n",
        "    optimizer.step()\n",
        "\n",
        "    epoch_loss +=loss\n",
        "    count += 1\n",
        "\n",
        "  print('%depoch:mean_loss:%.3f\\n'%(i+1,epoch_loss/count))\n",
        "  loss_list.append(epoch_loss/count)\n",
        "\n",
        "  epoch_loss = 0\n",
        "  count = 0\n",
        "  correct = 0\n",
        "  total = 0\n",
        "  accuracy = 0.0\n",
        "\n",
        "  net.eval()\n",
        "  for j,data in enumerate(test_loader,0):\n",
        "    inputs,labels = data\n",
        "    inputs = inputs.to(device)\n",
        "    labels = labels.to(device)\n",
        "\n",
        "    outputs = net(inputs)\n",
        "\n",
        "    _,predicted = torch.max(outputs.data,1)\n",
        "\n",
        "    correct += (predicted == labels).sum()\n",
        "    total += batch_size\n",
        "\n",
        "  accuracy = 100.*correct / total\n",
        "  acc_list.append(accuracy)\n",
        "  print('epoch:%d Accuracy(%d/%d):%f'%(i+1,correct,total,accuracy))\n",
        "  torch.save(net.state_dict(),'Weight'+str(i+1))"
      ],
      "metadata": {
        "colab": {
          "base_uri": "https://localhost:8080/"
        },
        "id": "u1eIMWtOXFuo",
        "outputId": "12068f99-1044-4942-cb47-3ea995e9f9d8"
      },
      "execution_count": 11,
      "outputs": [
        {
          "output_type": "stream",
          "name": "stdout",
          "text": [
            "1epoch:mean_loss:0.997\n",
            "\n",
            "epoch:1 Accuracy(7767/10000):77.669998\n",
            "2epoch:mean_loss:0.657\n",
            "\n",
            "epoch:2 Accuracy(7960/10000):79.599998\n",
            "3epoch:mean_loss:0.578\n",
            "\n",
            "epoch:3 Accuracy(8291/10000):82.909996\n",
            "4epoch:mean_loss:0.502\n",
            "\n",
            "epoch:4 Accuracy(8394/10000):83.939995\n",
            "5epoch:mean_loss:0.445\n",
            "\n",
            "epoch:5 Accuracy(8494/10000):84.939995\n",
            "6epoch:mean_loss:0.412\n",
            "\n",
            "epoch:6 Accuracy(8510/10000):85.099998\n",
            "7epoch:mean_loss:0.418\n",
            "\n",
            "epoch:7 Accuracy(8417/10000):84.169998\n",
            "8epoch:mean_loss:0.366\n",
            "\n",
            "epoch:8 Accuracy(8429/10000):84.290001\n",
            "9epoch:mean_loss:0.325\n",
            "\n",
            "epoch:9 Accuracy(8547/10000):85.470001\n",
            "10epoch:mean_loss:0.314\n",
            "\n",
            "epoch:10 Accuracy(8546/10000):85.459999\n",
            "11epoch:mean_loss:0.297\n",
            "\n",
            "epoch:11 Accuracy(8514/10000):85.139999\n",
            "12epoch:mean_loss:0.267\n",
            "\n",
            "epoch:12 Accuracy(8518/10000):85.180000\n",
            "13epoch:mean_loss:0.251\n",
            "\n",
            "epoch:13 Accuracy(8666/10000):86.659996\n",
            "14epoch:mean_loss:0.244\n",
            "\n",
            "epoch:14 Accuracy(8655/10000):86.549995\n",
            "15epoch:mean_loss:0.220\n",
            "\n",
            "epoch:15 Accuracy(8649/10000):86.489998\n",
            "16epoch:mean_loss:0.209\n",
            "\n",
            "epoch:16 Accuracy(8587/10000):85.869995\n",
            "17epoch:mean_loss:0.210\n",
            "\n",
            "epoch:17 Accuracy(8645/10000):86.449997\n",
            "18epoch:mean_loss:0.194\n",
            "\n",
            "epoch:18 Accuracy(8674/10000):86.739998\n",
            "19epoch:mean_loss:0.191\n",
            "\n",
            "epoch:19 Accuracy(8653/10000):86.529999\n",
            "20epoch:mean_loss:0.182\n",
            "\n",
            "epoch:20 Accuracy(8703/10000):87.029999\n"
          ]
        }
      ]
    },
    {
      "cell_type": "code",
      "source": [
        "print(acc_list)"
      ],
      "metadata": {
        "colab": {
          "base_uri": "https://localhost:8080/"
        },
        "id": "wDS-rW18kKGo",
        "outputId": "7ac084af-ef0d-4007-f9fa-5bba6fcdbdfc"
      },
      "execution_count": 17,
      "outputs": [
        {
          "output_type": "stream",
          "name": "stdout",
          "text": [
            "[tensor(77.6700, device='cuda:0'), tensor(79.6000, device='cuda:0'), tensor(82.9100, device='cuda:0'), tensor(83.9400, device='cuda:0'), tensor(84.9400, device='cuda:0'), tensor(85.1000, device='cuda:0'), tensor(84.1700, device='cuda:0'), tensor(84.2900, device='cuda:0'), tensor(85.4700, device='cuda:0'), tensor(85.4600, device='cuda:0'), tensor(85.1400, device='cuda:0'), tensor(85.1800, device='cuda:0'), tensor(86.6600, device='cuda:0'), tensor(86.5500, device='cuda:0'), tensor(86.4900, device='cuda:0'), tensor(85.8700, device='cuda:0'), tensor(86.4500, device='cuda:0'), tensor(86.7400, device='cuda:0'), tensor(86.5300, device='cuda:0'), tensor(87.0300, device='cuda:0')]\n"
          ]
        }
      ]
    },
    {
      "cell_type": "code",
      "source": [
        "numbers = [t.item() for t in acc_list]\n",
        "\n",
        "print(numbers)"
      ],
      "metadata": {
        "colab": {
          "base_uri": "https://localhost:8080/"
        },
        "id": "WIM_9BJ2l3N7",
        "outputId": "657d10af-9723-40af-91e4-82fe68a7318c"
      },
      "execution_count": 18,
      "outputs": [
        {
          "output_type": "stream",
          "name": "stdout",
          "text": [
            "[77.66999816894531, 79.5999984741211, 82.90999603271484, 83.93999481201172, 84.93999481201172, 85.0999984741211, 84.16999816894531, 84.29000091552734, 85.47000122070312, 85.45999908447266, 85.13999938964844, 85.18000030517578, 86.65999603271484, 86.54999542236328, 86.48999786376953, 85.8699951171875, 86.44999694824219, 86.73999786376953, 86.52999877929688, 87.02999877929688]\n"
          ]
        }
      ]
    },
    {
      "cell_type": "code",
      "source": [
        "plt.plot(numbers)\n",
        "plt.title('Accuracy')\n",
        "plt.xlabel('Epoch')\n",
        "plt.xticks(np.arange(0,20,5))\n",
        "plt.ylabel('Accuracy')\n",
        "plt.show()"
      ],
      "metadata": {
        "colab": {
          "base_uri": "https://localhost:8080/",
          "height": 472
        },
        "id": "25KqwHFIl82e",
        "outputId": "4026881d-458f-4207-be3b-c317412de49f"
      },
      "execution_count": 23,
      "outputs": [
        {
          "output_type": "display_data",
          "data": {
            "text/plain": [
              "<Figure size 640x480 with 1 Axes>"
            ],
            "image/png": "[encoded data removed]"
          },
          "metadata": {}
        }
      ]
    }
  ]
}